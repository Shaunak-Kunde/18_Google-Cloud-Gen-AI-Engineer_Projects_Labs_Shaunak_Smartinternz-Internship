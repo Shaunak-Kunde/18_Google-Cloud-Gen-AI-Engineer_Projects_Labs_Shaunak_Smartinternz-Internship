{
 "cells": [
  {
   "cell_type": "code",
   "execution_count": 1,
   "metadata": {
    "id": "ur8xi4C7S06n",
    "tags": []
   },
   "outputs": [],
   "source": [
    "# Copyright 2025 Google LLC\n",
    "#\n",
    "# Licensed under the Apache License, Version 2.0 (the \"License\");\n",
    "# you may not use this file except in compliance with the License.\n",
    "# You may obtain a copy of the License at\n",
    "#\n",
    "#     https://www.apache.org/licenses/LICENSE-2.0\n",
    "#\n",
    "# Unless required by applicable law or agreed to in writing, software\n",
    "# distributed under the License is distributed on an \"AS IS\" BASIS,\n",
    "# WITHOUT WARRANTIES OR CONDITIONS OF ANY KIND, either express or implied.\n",
    "# See the License for the specific language governing permissions and\n",
    "# limitations under the License."
   ]
  },
  {
   "cell_type": "markdown",
   "metadata": {
    "id": "JAPoU8Sm5E6e"
   },
   "source": [
    "# Prompt Design - Best Practices\n",
    "\n",
    "<table align=\"left\">\n",
    "  <td style=\"text-align: center\">\n",
    "    <a href=\"https://colab.research.google.com/github/GoogleCloudPlatform/generative-ai/blob/main/gemini/prompts/intro_prompt_design.ipynb\">\n",
    "      <img width=\"32px\" src=\"https://www.gstatic.com/pantheon/images/bigquery/welcome_page/colab-logo.svg\" alt=\"Google Colaboratory logo\"><br> Open in Colab\n",
    "    </a>\n",
    "  </td>\n",
    "  <td style=\"text-align: center\">\n",
    "    <a href=\"https://console.cloud.google.com/vertex-ai/colab/import/https:%2F%2Fraw.githubusercontent.com%2FGoogleCloudPlatform%2Fgenerative-ai%2Fmain%2Fgemini%2Fprompts%2Fintro_prompt_design.ipynb\">\n",
    "      <img width=\"32px\" src=\"https://lh3.googleusercontent.com/JmcxdQi-qOpctIvWKgPtrzZdJJK-J3sWE1RsfjZNwshCFgE_9fULcNpuXYTilIR2hjwN\" alt=\"Google Cloud Colab Enterprise logo\"><br> Open in Colab Enterprise\n",
    "    </a>\n",
    "  </td>\n",
    "  <td style=\"text-align: center\">\n",
    "    <a href=\"https://console.cloud.google.com/vertex-ai/workbench/deploy-notebook?download_url=https://raw.githubusercontent.com/GoogleCloudPlatform/generative-ai/main/gemini/prompts/intro_prompt_design.ipynb\">\n",
    "      <img src=\"https://www.gstatic.com/images/branding/gcpiconscolors/vertexai/v1/32px.svg\" alt=\"Vertex AI logo\"><br> Open in Workbench\n",
    "    </a>\n",
    "  </td>\n",
    "  <td style=\"text-align: center\">\n",
    "    <a href=\"https://github.com/GoogleCloudPlatform/generative-ai/blob/main/gemini/prompts/intro_prompt_design.ipynb\">\n",
    "      <img width=\"32px\" src=\"https://www.svgrepo.com/download/217753/github.svg\" alt=\"GitHub logo\"><br> View on GitHub\n",
    "    </a>\n",
    "  </td>\n",
    "  <td style=\"text-align: center\">\n",
    "    <a href=\"https://goo.gle/4fWHlze\">\n",
    "      <img width=\"32px\" src=\"https://cdn.qwiklabs.com/assets/gcp_cloud-e3a77215f0b8bfa9b3f611c0d2208c7e8708ed31.svg\" alt=\"Google Cloud logo\"><br> Open in  Cloud Skills Boost\n",
    "    </a>\n",
    "  </td>\n",
    "</table>\n",
    "\n",
    "<div style=\"clear: both;\"></div>\n",
    "\n",
    "<b>Share to:</b>\n",
    "\n",
    "<a href=\"https://www.linkedin.com/sharing/share-offsite/?url=https%3A//github.com/GoogleCloudPlatform/generative-ai/blob/main/gemini/prompts/intro_prompt_design.ipynb\" target=\"_blank\">\n",
    "  <img width=\"20px\" src=\"https://upload.wikimedia.org/wikipedia/commons/8/81/LinkedIn_icon.svg\" alt=\"LinkedIn logo\">\n",
    "</a>\n",
    "<a href=\"https://bsky.app/intent/compose?text=https%3A//github.com/GoogleCloudPlatform/generative-ai/blob/main/gemini/prompts/intro_prompt_design.ipynb\" target=\"_blank\">\n",
    "  <img width=\"20px\" src=\"https://upload.wikimedia.org/wikipedia/commons/7/7a/Bluesky_Logo.svg\" alt=\"Bluesky logo\">\n",
    "</a>\n",
    "<a href=\"https://twitter.com/intent/tweet?url=https%3A//github.com/GoogleCloudPlatform/generative-ai/blob/main/gemini/prompts/intro_prompt_design.ipynb\" target=\"_blank\">\n",
    "  <img width=\"20px\" src=\"https://upload.wikimedia.org/wikipedia/commons/5/5a/X_icon_2.svg\" alt=\"X logo\">\n",
    "</a>\n",
    "<a href=\"https://reddit.com/submit?url=https%3A//github.com/GoogleCloudPlatform/generative-ai/blob/main/gemini/prompts/intro_prompt_design.ipynb\" target=\"_blank\">\n",
    "  <img width=\"20px\" src=\"https://redditinc.com/hubfs/Reddit%20Inc/Brand/Reddit_Logo.png\" alt=\"Reddit logo\">\n",
    "</a>\n",
    "<a href=\"https://www.facebook.com/sharer/sharer.php?u=https%3A//github.com/GoogleCloudPlatform/generative-ai/blob/main/gemini/prompts/intro_prompt_design.ipynb\" target=\"_blank\">\n",
    "  <img width=\"20px\" src=\"https://upload.wikimedia.org/wikipedia/commons/5/51/Facebook_f_logo_%282019%29.svg\" alt=\"Facebook logo\">\n",
    "</a>"
   ]
  },
  {
   "cell_type": "markdown",
   "metadata": {
    "id": "84f0f73a0f76"
   },
   "source": [
    "| Authors |\n",
    "| --- |\n",
    "| [Polong Lin](https://github.com/polong-lin) |\n",
    "| [Karl Weinmeister](https://github.com/kweinmeister) |"
   ]
  },
  {
   "cell_type": "markdown",
   "metadata": {
    "id": "tvgnzT1CKxrO"
   },
   "source": [
    "## Overview\n",
    "\n",
    "This notebook covers the essentials of prompt engineering, including some best practices.\n",
    "\n",
    "Learn more about prompt design in the [official documentation](https://cloud.google.com/vertex-ai/docs/generative-ai/text/text-overview).\n",
    "\n",
    "In this notebook, you learn best practices around prompt engineering -- how to design prompts to improve the quality of your responses.\n",
    "\n",
    "This notebook covers the following best practices for prompt engineering:\n",
    "\n",
    "- Be concise\n",
    "- Be specific and well-defined\n",
    "- Ask one task at a time\n",
    "- Turn generative tasks into classification tasks\n",
    "- Improve response quality by including examples"
   ]
  },
  {
   "cell_type": "markdown",
   "metadata": {
    "id": "61RBz8LLbxCR"
   },
   "source": [
    "## Getting Started"
   ]
  },
  {
   "cell_type": "markdown",
   "metadata": {
    "id": "No17Cw5hgx12"
   },
   "source": [
    "### Install Google Gen AI SDK\n"
   ]
  },
  {
   "cell_type": "code",
   "execution_count": 2,
   "metadata": {
    "id": "tFy3H3aPgx12",
    "tags": []
   },
   "outputs": [
    {
     "name": "stdout",
     "output_type": "stream",
     "text": [
      "Note: you may need to restart the kernel to use updated packages.\n"
     ]
    }
   ],
   "source": [
    "%pip install --upgrade --quiet google-genai"
   ]
  },
  {
   "cell_type": "markdown",
   "metadata": {
    "id": "06489bd14f16"
   },
   "source": [
    "### Import libraries\n"
   ]
  },
  {
   "cell_type": "code",
   "execution_count": 3,
   "metadata": {
    "id": "154137022fb6",
    "tags": []
   },
   "outputs": [],
   "source": [
    "from IPython.display import Markdown, display\n",
    "from google import genai\n",
    "from google.genai.types import GenerateContentConfig"
   ]
  },
  {
   "cell_type": "markdown",
   "metadata": {
    "id": "DF4l8DTdWgPY"
   },
   "source": [
    "### Set Google Cloud project information and create client\n",
    "\n",
    "To get started using Vertex AI, you must have an existing Google Cloud project and [enable the Vertex AI API](https://console.cloud.google.com/flows/enableapi?apiid=aiplatform.googleapis.com).\n",
    "\n",
    "Learn more about [setting up a project and a development environment](https://cloud.google.com/vertex-ai/docs/start/cloud-environment)."
   ]
  },
  {
   "cell_type": "code",
   "execution_count": 6,
   "metadata": {
    "id": "Nqwi-5ufWp_B",
    "tags": []
   },
   "outputs": [],
   "source": [
    "import os\n",
    "\n",
    "PROJECT_ID = \"qwiklabs-gcp-01-4dc1b9212869\"  # @param {type: \"string\", placeholder: \"[your-project-id]\", isTemplate: true}\n",
    "if not PROJECT_ID or PROJECT_ID == \"qwiklabs-gcp-01-4dc1b9212869\":\n",
    "    PROJECT_ID = str(os.environ.get(\"GOOGLE_CLOUD_PROJECT\"))\n",
    "\n",
    "LOCATION = \"us-east1\""
   ]
  },
  {
   "cell_type": "code",
   "execution_count": 7,
   "metadata": {
    "id": "QqRWdPGmW3NJ",
    "tags": []
   },
   "outputs": [],
   "source": [
    "client = genai.Client(vertexai=True, project=PROJECT_ID, location=LOCATION)"
   ]
  },
  {
   "cell_type": "markdown",
   "metadata": {
    "id": "OnFPpCRtXRl4"
   },
   "source": [
    "### Load model\n",
    "\n",
    "Learn more about all [Gemini models on Vertex AI](https://cloud.google.com/vertex-ai/generative-ai/docs/learn/models#gemini-models)."
   ]
  },
  {
   "cell_type": "code",
   "execution_count": 8,
   "metadata": {
    "id": "IQYu_9SvXQah",
    "tags": []
   },
   "outputs": [],
   "source": [
    "MODEL_ID = \"gemini-2.5-flash\"  # @param {type: \"string\"}"
   ]
  },
  {
   "cell_type": "markdown",
   "metadata": {
    "id": "cVOtUNJ5X0PY"
   },
   "source": [
    "## Prompt engineering best practices"
   ]
  },
  {
   "cell_type": "markdown",
   "metadata": {
    "id": "uv_e0fEPX60q"
   },
   "source": [
    "Prompt engineering is all about how to design your prompts so that the response is what you were indeed hoping to see.\n",
    "\n",
    "The idea of using \"unfancy\" prompts is to minimize the noise in your prompt to reduce the possibility of the LLM misinterpreting the intent of the prompt. Below are a few guidelines on how to engineer \"unfancy\" prompts.\n",
    "\n",
    "In this section, you'll cover the following best practices when engineering prompts:\n",
    "\n",
    "* Be concise\n",
    "* Be specific, and well-defined\n",
    "* Ask one task at a time\n",
    "* Improve response quality by including examples\n",
    "* Turn generative tasks to classification tasks to improve safety"
   ]
  },
  {
   "cell_type": "markdown",
   "metadata": {
    "id": "0pY4XX0OX9_Y"
   },
   "source": [
    "### Be concise"
   ]
  },
  {
   "cell_type": "markdown",
   "metadata": {
    "id": "xlRpxyxGYA1K"
   },
   "source": [
    "🛑 Not recommended. The prompt below is unnecessarily verbose."
   ]
  },
  {
   "cell_type": "code",
   "execution_count": 9,
   "metadata": {
    "id": "YKV4G-CfXdbi",
    "tags": []
   },
   "outputs": [
    {
     "data": {
      "text/markdown": [
       "That's a great niche! Focusing on dried flowers gives you a wonderful opportunity to create a unique brand identity. Here are some name ideas, categorized by the vibe they evoke:\n",
       "\n",
       "**I. Emphasizing \"Everlasting\" & \"Timeless Beauty\"**\n",
       "These names highlight the enduring nature of dried flowers.\n",
       "\n",
       "1.  **Everlasting Blooms**\n",
       "2.  **Timeless Stems**\n",
       "3.  **The Unfading Petal**\n",
       "4.  **Forever in Bloom**\n",
       "5.  **Perpetua Petals** (Perpetua means eternal)\n",
       "6.  **The Enduring Florist**\n",
       "7.  **Eternal Bloom Co.**\n",
       "8.  **Keepsake Florals**\n",
       "9.  **Beyond Bloom** (Suggests beauty beyond the fresh stage)\n",
       "\n",
       "**II. Rustic, Natural & Earthy**\n",
       "These names lean into the organic, preserved, and often vintage feel of dried flowers.\n",
       "\n",
       "10. **The Dried Petal**\n",
       "11. **Rustic Bloom Co.**\n",
       "12. **Earth & Bloom Dry Goods**\n",
       "13. **Field & Forage Dried**\n",
       "14. **The Whisper Bloom** (Suggests delicate, preserved beauty)\n",
       "15. **Harvest & Petal**\n",
       "16. **Root & Bloom Dried**\n",
       "17. **The Dried Garden**\n",
       "18. **Bloom & Bale** (Bale evokes dried hay, natural materials)\n",
       "\n",
       "**III. Chic, Modern & Artistic**\n",
       "These names aim for a sophisticated, curated feel.\n",
       "\n",
       "19. **Bloom & Dry Co.**\n",
       "20. **The Curated Stem**\n",
       "21. **Petal Form Atelier**\n",
       "22. **Dried Flora Studio**\n",
       "23. **The Still Bloom** (Suggests beauty arrested in time)\n",
       "24. **Arbor Dry Goods** (Arbor for tree/plant, dry goods for preserved)\n",
       "25. **The Preservationist Bloom**\n",
       "26. **Faded Petal Collective**\n",
       "\n",
       "**IV. Playful & Evocative**\n",
       "These names are a bit more whimsical or poetic.\n",
       "\n",
       "27. **Memory Blossom**\n",
       "28. **Story Blooms**\n",
       "29. **The Withered Wonder** (Playful, if you dare)\n",
       "30. **Winter Bloomery** (Suggests beauty in all seasons)\n",
       "\n",
       "**Tips for Choosing:**\n",
       "\n",
       "*   **Say it out loud:** Does it roll off the tongue?\n",
       "*   **Check availability:** Is the name available as a domain name, social media handles, and legally (business registration)?\n",
       "*   **Target Audience:** Who are you trying to attract? A rustic name might not appeal to a minimalist customer, and vice-versa.\n",
       "*   **Memorability:** Is it easy to remember and spell?\n",
       "*   **Meaning:** Does it accurately represent your specialty and brand values?\n",
       "\n",
       "Good luck with your flower shop!"
      ],
      "text/plain": [
       "<IPython.core.display.Markdown object>"
      ]
     },
     "metadata": {},
     "output_type": "display_data"
    }
   ],
   "source": [
    "prompt = \"What do you think could be a good name for a flower shop that specializes in selling bouquets of dried flowers more than fresh flowers?\"\n",
    "\n",
    "response = client.models.generate_content(model=MODEL_ID, contents=prompt)\n",
    "display(Markdown(response.text))"
   ]
  },
  {
   "cell_type": "markdown",
   "metadata": {
    "id": "YrJexRHJYnmC"
   },
   "source": [
    "✅ Recommended. The prompt below is to the point and concise."
   ]
  },
  {
   "cell_type": "code",
   "execution_count": 10,
   "metadata": {
    "id": "VHetn9lCYrXB",
    "tags": []
   },
   "outputs": [
    {
     "data": {
      "text/markdown": [
       "Here are some name suggestions for a flower shop specializing in dried flower bouquets, categorized by their vibe:\n",
       "\n",
       "**Elegant & Timeless:**\n",
       "\n",
       "1.  **EverBloom Co.**\n",
       "2.  **The Preserved Petal**\n",
       "3.  **Timeless Stems**\n",
       "4.  **Eterna Flora**\n",
       "5.  **Botanical Endure**\n",
       "6.  **The Unfading Bloom**\n",
       "7.  **Petal & Pause**\n",
       "8.  **Still Bloom Collective**\n",
       "9.  **Heirloom Petals**\n",
       "10. **The Perpetual Posy**\n",
       "\n",
       "**Rustic & Earthy:**\n",
       "\n",
       "11. **The Dried Arrangement**\n",
       "12. **Sunstone Blooms**\n",
       "13. **Rustic Bloom Co.**\n",
       "14. **Earth & Stem**\n",
       "15. **The Arid Bouquet**\n",
       "16. **Wildflower & Preserve**\n",
       "17. **Terra Flora**\n",
       "18. **Prairie Petals**\n",
       "19. **Gathered & Dried**\n",
       "20. **Root & Bloom (Dried)**\n",
       "\n",
       "**Modern & Chic:**\n",
       "\n",
       "21. **Bloom & Endure**\n",
       "22. **The Dried Edit**\n",
       "23. **Stem & Stone**\n",
       "24. **Curated Blooms**\n",
       "25. **Botanical Archive**\n",
       "26. **The Petal Loft**\n",
       "27. **Modern Preserve**\n",
       "28. **Arbor & Bloom (Dried)**\n",
       "29. **The Lasting Arrangement**\n",
       "30. **Dried & Dusted Florals**\n",
       "\n",
       "**Playful & Catchy:**\n",
       "\n",
       "31. **Never Wilt Florals**\n",
       "32. **Forever Bloomed**\n",
       "33. **The Dry Garden**\n",
       "34. **Dried & True Blooms**\n",
       "35. **Wither & Bloom (ironic/playful)**\n",
       "\n",
       "**Tips for Choosing:**\n",
       "\n",
       "*   **Check availability:** Make sure the name (and corresponding domain name/social media handles) isn't already taken.\n",
       "*   **Say it aloud:** Does it sound good? Is it easy to remember and pronounce?\n",
       "*   **Reflect your brand:** Does it convey the aesthetic and quality you aim for?\n",
       "*   **Keep it unique:** Stand out from competitors.\n",
       "\n",
       "Good luck with your new venture!"
      ],
      "text/plain": [
       "<IPython.core.display.Markdown object>"
      ]
     },
     "metadata": {},
     "output_type": "display_data"
    }
   ],
   "source": [
    "prompt = \"Suggest a name for a flower shop that sells bouquets of dried flowers\"\n",
    "\n",
    "response = client.models.generate_content(model=MODEL_ID, contents=prompt)\n",
    "display(Markdown(response.text))"
   ]
  },
  {
   "cell_type": "markdown",
   "metadata": {
    "id": "eXTAvdOHY0OC"
   },
   "source": [
    "### Be specific, and well-defined"
   ]
  },
  {
   "cell_type": "markdown",
   "metadata": {
    "id": "FTH4GEIgY1dp"
   },
   "source": [
    "Suppose that you want to brainstorm creative ways to describe Earth."
   ]
  },
  {
   "cell_type": "markdown",
   "metadata": {
    "id": "o5BmXBiGY4KC"
   },
   "source": [
    "🛑 The prompt below might be a bit too generic (which is certainly OK if you'd like to ask a generic question!)"
   ]
  },
  {
   "cell_type": "code",
   "execution_count": 11,
   "metadata": {
    "id": "eHBaMvv7Y6mR",
    "tags": []
   },
   "outputs": [
    {
     "data": {
      "text/markdown": [
       "**Earth** is our home planet, the third planet from the Sun, and the only astronomical object known to harbor life. It's a truly remarkable and unique world, often called the \"Blue Planet\" due to its abundant surface water.\n",
       "\n",
       "Here's a breakdown of some key aspects of Earth:\n",
       "\n",
       "1.  **Basic Facts:**\n",
       "    *   **Age:** Approximately 4.54 billion years old.\n",
       "    *   **Size:** Fifth largest planet in our solar system, with a diameter of about 12,742 kilometers (7,918 miles).\n",
       "    *   **Distance from Sun:** On average, about 150 million kilometers (93 million miles), a distance known as one Astronomical Unit (AU).\n",
       "    *   **Orbital Period (Year):** 365.25 days (which is why we have a leap year every four years).\n",
       "    *   **Rotation Period (Day):** Approximately 23 hours, 56 minutes, and 4 seconds.\n",
       "    *   **Tilt:** Its axis is tilted about 23.5 degrees relative to its orbit, which is responsible for the seasons.\n",
       "    *   **Moon:** Has one relatively large natural satellite, the Moon, which influences tides and stabilizes Earth's tilt.\n",
       "\n",
       "2.  **Structure and Composition:**\n",
       "    *   **Layers:** Earth is composed of several distinct layers:\n",
       "        *   **Crust:** The thin, rocky outer layer where we live (oceanic and continental).\n",
       "        *   **Mantle:** A thick, semi-solid layer of hot, viscous rock that flows slowly.\n",
       "        *   **Outer Core:** A liquid layer of iron and nickel, responsible for generating Earth's magnetic field.\n",
       "        *   **Inner Core:** A solid ball of iron and nickel, incredibly hot and under immense pressure.\n",
       "    *   **Elements:** The most abundant elements in Earth's crust are oxygen, silicon, aluminum, iron, calcium, sodium, potassium, and magnesium. The entire planet is primarily iron (32.1%), oxygen (30.1%), silicon (15.1%), magnesium (13.9%), sulfur (2.9%), nickel (1.8%), calcium (1.5%), and aluminum (1.4%).\n",
       "\n",
       "3.  **Atmosphere:**\n",
       "    *   **Composition:** Roughly 78% Nitrogen, 21% Oxygen, 0.9% Argon, and trace amounts of other gases like Carbon Dioxide, Neon, and Helium.\n",
       "    *   **Functions:**\n",
       "        *   **Protection:** Shields life from harmful solar radiation (UV rays) and cosmic rays.\n",
       "        *   **Temperature Regulation:** Traps heat, preventing extreme temperature swings (greenhouse effect).\n",
       "        *   **Weather:** Drives weather patterns and the water cycle.\n",
       "        *   **Breathable Air:** Provides the oxygen essential for most life forms.\n",
       "    *   **Layers:** Divided into troposphere, stratosphere, mesosphere, thermosphere, and exosphere.\n",
       "\n",
       "4.  **Hydrosphere (Water):**\n",
       "    *   **\"Blue Planet\":** Over 71% of Earth's surface is covered by water, primarily oceans.\n",
       "    *   **Distribution:** About 97% is saltwater in oceans, while the remaining 3% is freshwater, mostly locked up in glaciers and ice caps (about 2%), with a small fraction in lakes, rivers, groundwater, and the atmosphere.\n",
       "    *   **Water Cycle:** The continuous movement of water on, above, and below the surface of the Earth is vital for life and weather patterns.\n",
       "\n",
       "5.  **Geological Activity:**\n",
       "    *   **Plate Tectonics:** Earth's crust is broken into several large plates that are constantly moving, driven by convection currents in the mantle. This process causes earthquakes, volcanic activity, and the formation of mountains, ocean trenches, and continents.\n",
       "    *   **Volcanism and Earthquakes:** Manifestations of Earth's internal heat and dynamic nature.\n",
       "\n",
       "6.  **Life and Biodiversity:**\n",
       "    *   **Only Known Habitable Planet:** Earth is unique for its ability to support an incredibly diverse array of life, from microscopic organisms to massive whales.\n",
       "    *   **Ecosystems:** Features a vast range of interconnected ecosystems, including forests, oceans, deserts, grasslands, and tundras, each with its own specific communities of plants and animals.\n",
       "    *   **Evolution:** Life on Earth has evolved over billions of years, adapting to various environmental conditions.\n",
       "\n",
       "7.  **Unique Features for Life:**\n",
       "    *   **Liquid Water:** The presence of stable liquid water on its surface is considered the most crucial factor for life.\n",
       "    *   **Magnetic Field (Magnetosphere):** Generated by the liquid outer core, this field deflects harmful charged particles from the Sun (solar wind), protecting the atmosphere and life.\n",
       "    *   **Active Geology:** Plate tectonics helps recycle nutrients, regulate CO2 levels, and create diverse habitats.\n",
       "    *   **Just Right Position:** Its distance from the Sun places it in the \"habitable zone\" where temperatures are suitable for liquid water.\n",
       "\n",
       "8.  **Humanity's Role and Challenges:**\n",
       "    *   Humans are a dominant species on Earth, having a profound impact on the planet's systems.\n",
       "    *   Major challenges include climate change, pollution (air, water, land), deforestation, biodiversity loss, and resource depletion.\n",
       "    *   There is a growing global awareness of the need for sustainable practices to protect Earth's environment for future generations.\n",
       "\n",
       "In essence, Earth is a complex, dynamic, and incredibly beautiful planet, a rare oasis of life in the vastness of space. Its intricate systems are delicately balanced, making it a truly unique and precious home."
      ],
      "text/plain": [
       "<IPython.core.display.Markdown object>"
      ]
     },
     "metadata": {},
     "output_type": "display_data"
    }
   ],
   "source": [
    "prompt = \"Tell me about Earth\"\n",
    "\n",
    "response = client.models.generate_content(model=MODEL_ID, contents=prompt)\n",
    "display(Markdown(response.text))"
   ]
  },
  {
   "cell_type": "markdown",
   "metadata": {
    "id": "4iyvEbteZnFL"
   },
   "source": [
    "✅ Recommended. The prompt below is specific and well-defined."
   ]
  },
  {
   "cell_type": "code",
   "execution_count": 12,
   "metadata": {
    "id": "JQ80z8urZnne",
    "tags": []
   },
   "outputs": [
    {
     "data": {
      "text/markdown": [
       "Earth stands out in our solar system, and possibly in the entire galaxy, due to a unique combination of factors that have allowed for the sustained development of complex life. Here's a list of ways Earth is unique compared to other planets:\n",
       "\n",
       "1.  **Abundant and Stable Liquid Surface Water:** While other celestial bodies have ice or subsurface oceans (like Europa or Enceladus) or even liquid methane (like Titan), Earth is the only known planet with vast oceans of liquid water on its surface. This is critical for life as we know it, acting as a solvent, a medium for chemical reactions, and a temperature regulator.\n",
       "\n",
       "2.  **Oxygen-Rich Atmosphere:** Earth's atmosphere is unique in its high concentration of free molecular oxygen (about 21%). This oxygen is largely a product of photosynthesis by life forms and is essential for the respiration of complex animal life. Other planets either have very thin atmospheres (Mars), dense CO2 atmospheres (Venus), or are gas giants composed primarily of hydrogen and helium.\n",
       "\n",
       "3.  **Active Plate Tectonics:** Earth is the only known planet in our solar system with a dynamic system of plate tectonics. This process constantly recycles the planet's crust, drives volcanism, forms mountains, and plays a crucial role in regulating Earth's long-term climate by cycling carbon dioxide between the atmosphere and the planet's interior.\n",
       "\n",
       "4.  **Robust Global Magnetic Field (Magnetosphere):** Generated by its liquid outer core, Earth's strong magnetosphere deflects harmful solar wind and cosmic radiation, preventing the stripping away of its atmosphere and protecting surface life from dangerous particles. Mars once had a magnetic field, but it largely dissipated, contributing to its current thin atmosphere.\n",
       "\n",
       "5.  **The \"Goldilocks\" Zone (Habitable Zone) Position:** Earth orbits the Sun at just the right distance where temperatures allow for liquid water to exist on its surface. It's not too hot (like Venus) for water to boil away, nor too cold (like Mars) for water to remain perpetually frozen.\n",
       "\n",
       "6.  **Large, Stabilizing Moon:** Earth's Moon is unusually large relative to its parent planet. Its gravitational pull stabilizes Earth's axial tilt, preventing dramatic and chaotic wobbles that could lead to extreme climate variations. The Moon also generates tides, which may have played a role in the emergence of life from the oceans.\n",
       "\n",
       "7.  **The Existence of Complex, Diverse, and Intelligent Life:** Earth is the only known planet to harbor life, let alone an incredibly diverse biosphere ranging from microbes to plants to complex animals. Furthermore, it hosts intelligent, technological civilization (humans) capable of self-reflection and exploring the cosmos.\n",
       "\n",
       "8.  **Stable Climate Regulation (Carbon Cycle):** The interplay between Earth's oceans, atmosphere, plate tectonics, and life forms creates a self-regulating carbon-silicate cycle that helps maintain a relatively stable temperature range over geological timescales, preventing runaway greenhouse effects or deep freezes.\n",
       "\n",
       "9.  **Biodiversity and Ecosystems:** The sheer variety of life forms, their intricate interdependencies, and the complex ecosystems they form (forests, oceans, deserts, etc.) are a direct result of Earth's unique conditions and are unparalleled elsewhere that we know of.\n",
       "\n",
       "These factors, especially in their specific combination and interaction, create a profoundly unique planetary environment that has allowed for the sustained evolution of life to its current complexity."
      ],
      "text/plain": [
       "<IPython.core.display.Markdown object>"
      ]
     },
     "metadata": {},
     "output_type": "display_data"
    }
   ],
   "source": [
    "prompt = \"Generate a list of ways that makes Earth unique compared to other planets\"\n",
    "\n",
    "response = client.models.generate_content(model=MODEL_ID, contents=prompt)\n",
    "display(Markdown(response.text))"
   ]
  },
  {
   "cell_type": "markdown",
   "metadata": {
    "id": "R5kmfZYHZsJ7"
   },
   "source": [
    "### Ask one task at a time"
   ]
  },
  {
   "cell_type": "markdown",
   "metadata": {
    "id": "rsAezxeYZuUN"
   },
   "source": [
    "🛑 Not recommended. The prompt below has two parts to the question that could be asked separately."
   ]
  },
  {
   "cell_type": "code",
   "execution_count": 13,
   "metadata": {
    "id": "ElywPXpuZtWf",
    "tags": []
   },
   "outputs": [
    {
     "data": {
      "text/markdown": [
       "You've got two great questions covering everyday utility and fundamental science!\n",
       "\n",
       "---\n",
       "\n",
       "### What's the Best Method of Boiling Water?\n",
       "\n",
       "\"Best\" can depend on your priorities (speed, energy efficiency, quantity, convenience, off-grid capability). Here's a breakdown:\n",
       "\n",
       "**Overall \"Best\" for most households (Speed & Efficiency for small to medium quantities): Electric Kettle**\n",
       "\n",
       "*   **Why it's often best:**\n",
       "    *   **Speed:** Electric kettles are generally the fastest way to boil water for volumes up to 1-2 liters. They often boil water in 2-4 minutes.\n",
       "    *   **Energy Efficiency:** They are highly energy-efficient because the heating element is directly in contact with the water, minimizing heat loss to the surrounding air.\n",
       "    *   **Convenience:** Many have auto-shutoff features once the water boils, making them safer and allowing you to set it and forget it for a moment. They're cordless once heated, allowing easy pouring.\n",
       "    *   **No Stove Required:** You just need an electrical outlet.\n",
       "\n",
       "**Best for Larger Quantities or Off-Grid: Stovetop Pot**\n",
       "\n",
       "*   **Why it's good:**\n",
       "    *   **Versatility:** You can use any size pot, making it ideal for boiling large quantities of water for pasta, blanching vegetables, or canning.\n",
       "    *   **Off-Grid/No Electricity:** Essential if you don't have an electric kettle or in a power outage (using a gas stove, camp stove, or fire).\n",
       "    *   **Temperature Control:** You can simmer water below a full boil more easily.\n",
       "\n",
       "*   **Tips for Stovetop:**\n",
       "    *   **Use a Lid:** Always use a lid to trap heat and significantly speed up boiling time and save energy.\n",
       "    *   **High Heat:** Turn the burner to high.\n",
       "    *   **Only Boil What You Need:** Don't fill a huge pot if you only need a cup.\n",
       "\n",
       "**Less Recommended (but works in a pinch): Microwave**\n",
       "\n",
       "*   **Why it's generally not best:**\n",
       "    *   **Uneven Heating:** Microwaves heat water less uniformly than other methods.\n",
       "    *   **Slower:** It's usually slower than an electric kettle for the same amount of water.\n",
       "    *   **\"Superheating\" Risk:** Water in a microwave can sometimes heat past its boiling point without forming bubbles (superheating). If disturbed (e.g., by adding a tea bag), it can violently erupt, causing burns. Always put a non-metallic object (like a wooden spoon or ceramic cup) in the water to give bubbles a nucleation point.\n",
       "    *   **No Auto-Shutoff:** Requires constant monitoring.\n",
       "\n",
       "---\n",
       "\n",
       "### Why Is the Sky Blue?\n",
       "\n",
       "The blue color of the sky is due to a phenomenon called **Rayleigh Scattering**. Here's a breakdown:\n",
       "\n",
       "1.  **Sunlight is White Light:** The light coming from the sun appears white to us, but it's actually composed of all the colors of the rainbow (red, orange, yellow, green, blue, indigo, violet). Each color has a different wavelength; red light has the longest wavelength, and violet/blue light has the shortest.\n",
       "\n",
       "2.  **Earth's Atmosphere:** Our atmosphere is made up of tiny gas molecules, primarily nitrogen (N2) and oxygen (O2). These molecules are much smaller than the wavelengths of visible light.\n",
       "\n",
       "3.  **Rayleigh Scattering:** When sunlight enters the Earth's atmosphere, it collides with these tiny air molecules. Rayleigh scattering describes how light is scattered by particles much smaller than its wavelength. The key principle of Rayleigh scattering is that **shorter wavelengths of light (like blue and violet) are scattered much more efficiently and intensely than longer wavelengths (like red and yellow).** In fact, the scattering is inversely proportional to the fourth power of the wavelength, meaning blue light is scattered about 10 times more effectively than red light!\n",
       "\n",
       "4.  **The Sky Appears Blue:** As sunlight travels through the atmosphere, the blue and violet light is scattered in all directions by the air molecules. When you look up at the sky, you are seeing this scattered blue light from all around you, which is why the sky appears blue.\n",
       "\n",
       "5.  **Why not Violet?** While violet light is scattered even more strongly than blue, the sky doesn't appear purple for a couple of reasons:\n",
       "    *   Our eyes are more sensitive to blue light than violet light.\n",
       "    *   The sun emits slightly less violet light than blue light to begin with.\n",
       "    *   Some of the violet light is scattered away *before* it reaches our eyes, especially if it's coming from a different angle.\n",
       "\n",
       "6.  **Red/Orange Sunsets:** This same principle explains why sunsets and sunrises are often red or orange. When the sun is low on the horizon, its light has to travel through a much thicker layer of atmosphere. By the time the light reaches your eyes, most of the blue and violet light has been scattered away, leaving primarily the longer-wavelength red, orange, and yellow light to pass directly through.\n",
       "\n",
       "In essence, the sky is blue because the tiny molecules in our atmosphere are much better at scattering blue light than any other color."
      ],
      "text/plain": [
       "<IPython.core.display.Markdown object>"
      ]
     },
     "metadata": {},
     "output_type": "display_data"
    }
   ],
   "source": [
    "prompt = \"What's the best method of boiling water and why is the sky blue?\"\n",
    "\n",
    "response = client.models.generate_content(model=MODEL_ID, contents=prompt)\n",
    "display(Markdown(response.text))"
   ]
  },
  {
   "cell_type": "markdown",
   "metadata": {
    "id": "ejzahazBZ8vk"
   },
   "source": [
    "✅ Recommended. The prompts below asks one task a time."
   ]
  },
  {
   "cell_type": "code",
   "execution_count": 14,
   "metadata": {
    "id": "C5ckp2F0Z_Ba",
    "tags": []
   },
   "outputs": [
    {
     "data": {
      "text/markdown": [
       "There's no single \"best\" method for boiling water, as the ideal choice depends on your priorities: **speed, energy efficiency, convenience, cost, safety, and location.**\n",
       "\n",
       "Here's a breakdown of the most common methods, with their pros and cons:\n",
       "\n",
       "---\n",
       "\n",
       "### 1. Electric Kettle (The All-Rounder)\n",
       "\n",
       "*   **Pros:**\n",
       "    *   **Speed:** Often the fastest method for small to medium volumes (1-2 liters).\n",
       "    *   **Energy Efficiency:** Very high, as the heating element is directly in the water, minimizing heat loss.\n",
       "    *   **Convenience:** Easy to use, often cordless, and most have automatic shut-off when boiling point is reached.\n",
       "    *   **Safety:** Auto-shutoff prevents boiling dry.\n",
       "    *   **Portability:** Just needs an outlet.\n",
       "*   **Cons:**\n",
       "    *   Initial purchase cost.\n",
       "    *   Can't be used off-grid without an inverter.\n",
       "*   **Best for:** Most households, daily use for tea, coffee, instant meals.\n",
       "\n",
       "---\n",
       "\n",
       "### 2. Induction Stovetop (Fast & Efficient Stovetop)\n",
       "\n",
       "*   **Pros:**\n",
       "    *   **Speed:** Extremely fast, often rivaling or even surpassing electric kettles for larger volumes.\n",
       "    *   **Energy Efficiency:** Very high, as it directly heats the pot via magnetic fields, with minimal heat loss to the air.\n",
       "    *   **Safety:** The stovetop surface itself doesn't get as hot as traditional electric coils or gas, reducing burn risk.\n",
       "    *   **Precise Control:** Excellent temperature control.\n",
       "*   **Cons:**\n",
       "    *   Requires induction-compatible cookware (magnetic bottom).\n",
       "    *   Higher initial cost for the stovetop.\n",
       "*   **Best for:** Kitchens with induction cooktops, especially when boiling larger quantities or needing speed and efficiency for cooking.\n",
       "\n",
       "---\n",
       "\n",
       "### 3. Gas Stovetop (Reliable & Common)\n",
       "\n",
       "*   **Pros:**\n",
       "    *   **Speed:** Good speed, especially with powerful burners.\n",
       "    *   **Convenience:** Easy to control the flame size.\n",
       "    *   **Cost:** Generally lower initial cost than induction.\n",
       "    *   **Versatility:** Works with any stovetop-safe pot.\n",
       "*   **Cons:**\n",
       "    *   **Energy Efficiency:** Less efficient than electric kettles or induction, as some heat escapes into the air around the pot (you can see the flame wrapping around the sides).\n",
       "    *   **Safety:** Open flame, potential for gas leaks.\n",
       "*   **Best for:** Most kitchens with gas hookups, versatile for different pot sizes.\n",
       "\n",
       "---\n",
       "\n",
       "### 4. Electric Coil/Radiant Stovetop (Least Efficient Stovetop)\n",
       "\n",
       "*   **Pros:**\n",
       "    *   **Convenience:** Easy to use, works with any stovetop-safe pot.\n",
       "*   **Cons:**\n",
       "    *   **Speed:** Generally the slowest stovetop method, as the element itself needs to heat up, then transfer heat to the pot.\n",
       "    *   **Energy Efficiency:** Lowest efficiency of the stovetop methods due to significant heat loss from the element to the air before reaching the pot.\n",
       "    *   **Safety:** The element stays hot for a long time after being turned off.\n",
       "*   **Best for:** If it's the only stovetop option available.\n",
       "\n",
       "---\n",
       "\n",
       "### 5. Microwave (Small Volumes Only)\n",
       "\n",
       "*   **Pros:**\n",
       "    *   **Convenience:** Quick for very small amounts (single mug).\n",
       "    *   No extra equipment needed if you already own one.\n",
       "*   **Cons:**\n",
       "    *   **Speed:** Slow and inefficient for larger volumes.\n",
       "    *   **Safety Risk (Superheating):** Water can become \"superheated\" (above boiling point without bubbling), leading to a sudden, explosive boil when disturbed or an object is added.\n",
       "    *   No automatic shut-off.\n",
       "    *   Can sometimes leave a slight \"microwave taste\" due to plastic containers or uneven heating.\n",
       "*   **Best for:** Heating a single mug of water quickly, but with caution regarding superheating. Not recommended for general boiling.\n",
       "\n",
       "---\n",
       "\n",
       "### 6. Immersion Heater (Travel/Temporary Use)\n",
       "\n",
       "*   **Pros:**\n",
       "    *   **Portability:** Very small and great for travel.\n",
       "    *   **Speed:** Can be quite fast for small volumes.\n",
       "    *   **Energy Efficiency:** High, as the element is directly in the water.\n",
       "*   **Cons:**\n",
       "    *   **Safety Risk:** Can be very dangerous if misused (e.g., element not fully submerged, touching metal, leaving unattended). No auto-shutoff.\n",
       "    *   Limited by container size.\n",
       "*   **Best for:** Travel when a kettle isn't available, but use with extreme caution.\n",
       "\n",
       "---\n",
       "\n",
       "### 7. Campfire/Outdoor Stove (Off-Grid/Camping)\n",
       "\n",
       "*   **Pros:**\n",
       "    *   **Portability/Off-Grid:** Essential for camping, hiking, or power outages.\n",
       "    *   **Cost:** Free if using gathered wood (campfire).\n",
       "*   **Cons:**\n",
       "    *   **Speed:** Varies wildly depending on fuel, wind, and pot.\n",
       "    *   **Energy Efficiency:** Low due to significant heat loss.\n",
       "    *   **Convenience:** Requires setup, fuel, and constant monitoring.\n",
       "    *   **Safety:** Open flame, fire risk.\n",
       "*   **Best for:** Outdoor situations, camping, emergencies, or when no other power source is available.\n",
       "\n",
       "---\n",
       "\n",
       "### Recommendations Based on Priority:\n",
       "\n",
       "*   **For Speed & Efficiency (Household Use):**\n",
       "    1.  **Electric Kettle** (especially for 1-2 liters)\n",
       "    2.  **Induction Stovetop** (for larger volumes or if you have one)\n",
       "    3.  Gas Stovetop\n",
       "*   **For Convenience:**\n",
       "    1.  **Electric Kettle** (auto-shutoff, cordless)\n",
       "    2.  Instant Hot Water Dispenser (if installed)\n",
       "*   **For Off-Grid/Camping:**\n",
       "    1.  **Camping Stove** (gas/liquid fuel)\n",
       "    2.  Campfire\n",
       "*   **For Travel:**\n",
       "    1.  **Travel Electric Kettle** (if available)\n",
       "    2.  Immersion Heater (with caution!)\n",
       "\n",
       "---\n",
       "\n",
       "### General Tips for Boiling Water (Regardless of Method):\n",
       "\n",
       "*   **Use a Lid:** Always cover your pot or kettle. This traps steam and heat, significantly speeding up the boiling process and saving energy.\n",
       "*   **Only Boil What You Need:** Don't fill the kettle or pot more than necessary. Heating extra water wastes time and energy.\n",
       "*   **Descale Your Kettle:** Limescale buildup (mineral deposits) inside an electric kettle can reduce its efficiency. Regularly descale it with vinegar or a commercial descaler.\n",
       "*   **Start with Hot Tap Water (if safe):** If your tap water is potable and safe to drink, starting with hot tap water can reduce the time it takes to boil. *However, some sources advise against drinking hot tap water due to potential for dissolved contaminants from pipes.*\n",
       "*   **Consider Altitude:** At higher altitudes, water boils at a lower temperature (e.g., around 90°C/194°F at 10,000 feet). While it still gets \"hot,\" it's technically not boiling at 100°C/212°F.\n",
       "\n",
       "**In summary, for most everyday household uses, an Electric Kettle is the best all-around choice due to its speed, energy efficiency, and convenience.**"
      ],
      "text/plain": [
       "<IPython.core.display.Markdown object>"
      ]
     },
     "metadata": {},
     "output_type": "display_data"
    }
   ],
   "source": [
    "prompt = \"What's the best method of boiling water?\"\n",
    "\n",
    "response = client.models.generate_content(model=MODEL_ID, contents=prompt)\n",
    "display(Markdown(response.text))"
   ]
  },
  {
   "cell_type": "code",
   "execution_count": 15,
   "metadata": {
    "id": "KwUzhud4aA89",
    "tags": []
   },
   "outputs": [
    {
     "data": {
      "text/markdown": [
       "The sky is blue because of a phenomenon called **Rayleigh scattering**. It's all about how sunlight interacts with Earth's atmosphere.\n",
       "\n",
       "Here's a breakdown:\n",
       "\n",
       "1.  **Sunlight is White Light:** Sunlight, which appears white to us, is actually made up of all the colors of the rainbow (red, orange, yellow, green, blue, indigo, violet). Each color has a different **wavelength**; blue and violet light have shorter, smaller wavelengths, while red and yellow light have longer, larger wavelengths.\n",
       "\n",
       "2.  **Earth's Atmosphere:** Our atmosphere is primarily composed of tiny nitrogen (N2) and oxygen (O2) molecules. These molecules are much smaller than the wavelengths of visible light.\n",
       "\n",
       "3.  **Scattering:** When sunlight enters the atmosphere, it bumps into these tiny gas molecules. This interaction causes the light to be scattered in all directions.\n",
       "\n",
       "4.  **Wavelength Matters:** Not all colors are scattered equally. **Shorter wavelengths (like blue and violet) are scattered much more efficiently than longer wavelengths (like red and yellow).** This is because the size of the scattering particles (the air molecules) is more comparable to the wavelength of blue light.\n",
       "\n",
       "5.  **Why We See Blue:** So, as sunlight travels through the atmosphere, a lot of the blue and violet light gets scattered in every direction across the sky. When you look up, no matter where you look, some of this scattered blue light reaches your eyes, making the sky appear blue. The other colors (red, orange, yellow) are not scattered as much and tend to pass more directly through the atmosphere.\n",
       "\n",
       "**A few related interesting points:**\n",
       "\n",
       "*   **Why not violet?** While violet light scatters even more than blue, the sky still looks blue for two main reasons: 1) The sun emits slightly less violet light than blue light. 2) Our eyes are more sensitive to blue light than violet light.\n",
       "*   **Red Sunsets/Sunrises:** This phenomenon also explains why sunsets and sunrises are red or orange. When the sun is low on the horizon, its light has to travel through a much thicker layer of atmosphere. By the time it reaches your eyes, almost all the blue and violet light has been scattered away, leaving mostly the longer-wavelength reds, oranges, and yellows to reach you directly.\n",
       "*   **Black Sky in Space:** In space, there's no atmosphere to scatter light, which is why the sky appears black and stars are visible even during the day (if the sun isn't in your direct view)."
      ],
      "text/plain": [
       "<IPython.core.display.Markdown object>"
      ]
     },
     "metadata": {},
     "output_type": "display_data"
    }
   ],
   "source": [
    "prompt = \"Why is the sky blue?\"\n",
    "\n",
    "response = client.models.generate_content(model=MODEL_ID, contents=prompt)\n",
    "display(Markdown(response.text))"
   ]
  },
  {
   "cell_type": "markdown",
   "metadata": {
    "id": "PJIL2RTQaGcT"
   },
   "source": [
    "### Watch out for hallucinations"
   ]
  },
  {
   "cell_type": "markdown",
   "metadata": {
    "id": "8Y8kYxrSaHE9"
   },
   "source": [
    "Although LLMs have been trained on a large amount of data, they can generate text containing statements not grounded in truth or reality; these responses from the LLM are often referred to as \"hallucinations\" due to their limited memorization capabilities. Note that simply prompting the LLM to provide a citation isn't a fix to this problem, as there are instances of LLMs providing false or inaccurate citations. Dealing with hallucinations is a fundamental challenge of LLMs and an ongoing research area, so it is important to be cognizant that LLMs may seem to give you confident, correct-sounding statements that are in fact incorrect.\n",
    "\n",
    "Note that if you intend to use LLMs for the creative use cases, hallucinating could actually be quite useful."
   ]
  },
  {
   "cell_type": "markdown",
   "metadata": {
    "id": "8NY5nAGeaJYS"
   },
   "source": [
    "Try the prompt like the one below repeatedly. We set the temperature to `1.0` so that it takes more risks in its choices. It's possible that it may provide an inaccurate, but confident answer."
   ]
  },
  {
   "cell_type": "code",
   "execution_count": 24,
   "metadata": {
    "id": "QALPjEILaM62",
    "tags": []
   },
   "outputs": [
    {
     "data": {
      "text/markdown": [
       "Today is Friday, April 26, 2024."
      ],
      "text/plain": [
       "<IPython.core.display.Markdown object>"
      ]
     },
     "metadata": {},
     "output_type": "display_data"
    }
   ],
   "source": [
    "generation_config = GenerateContentConfig(temperature=1.0)\n",
    "\n",
    "prompt = \"What day is it today?\"\n",
    "\n",
    "response = client.models.generate_content(model=MODEL_ID, contents=prompt)\n",
    "display(Markdown(response.text))"
   ]
  },
  {
   "cell_type": "markdown",
   "metadata": {
    "id": "BRkwzbgRbhKt"
   },
   "source": [
    "Since LLMs do not have access to real-time information without further integrations, you may have noticed it hallucinates what day it is today in some of the outputs."
   ]
  },
  {
   "cell_type": "markdown",
   "metadata": {
    "id": "3c811e310d02"
   },
   "source": [
    "### Using system instructions to guardrail the model from irrelevant responses\n",
    "\n",
    "How can we attempt to reduce the chances of irrelevant responses and hallucinations?\n",
    "\n",
    "One way is to provide the LLM with [system instructions](https://cloud.google.com/vertex-ai/generative-ai/docs/learn/prompts/system-instruction-introduction).\n",
    "\n",
    "Let's see how system instructions works and how you can use them to reduce hallucinations or irrelevant questions for a travel chatbot.\n",
    "\n",
    "Suppose we ask a simple question about one of Italy's most famous tourist spots."
   ]
  },
  {
   "cell_type": "code",
   "execution_count": 25,
   "metadata": {
    "id": "rB6zJU76biFK",
    "tags": []
   },
   "outputs": [
    {
     "data": {
      "text/markdown": [
       "Milan is a fantastic city for sightseeing! Here are some of the best places you should definitely visit:\n",
       "\n",
       "1.  **Duomo di Milano (Milan Cathedral):** This is the absolute icon of Milan and a must-see. Its intricate Gothic architecture, stunning stained-glass windows, and panoramic views from the rooftop are breathtaking.\n",
       "2.  **Galleria Vittorio Emanuele II:** Located right next to the Duomo, this beautiful 19th-century shopping arcade is a masterpiece of architecture, with its glass dome and elegant mosaics. Even if you're not shopping, it's worth a stroll to admire the grandeur.\n",
       "3.  **Sforza Castle (Castello Sforzesco):** A massive medieval fortress that now houses several museums and art collections, including works by Michelangelo. The courtyards and grounds are also lovely for a walk.\n",
       "4.  **The Last Supper (Santa Maria delle Grazie):** Leonardo da Vinci's iconic masterpiece is housed in the refectory of the Santa Maria delle Grazie church. Be sure to book tickets well in advance as they sell out quickly.\n",
       "5.  **Brera District & Pinacoteca di Brera:** Brera is a charming, bohemian neighborhood with cobbled streets, boutiques, and cafes. The Pinacoteca di Brera is one of Italy's most important art galleries, featuring works by Raphael, Caravaggio, and Tintoretto.\n",
       "6.  **Teatro alla Scala:** One of the world's most famous opera houses. You can take a guided tour to see its opulent interior and visit the museum, even if you can't catch a performance.\n",
       "7.  **Navigli District:** This area is known for its picturesque canals (designed partly by Leonardo da Vinci!) and is a great spot for an evening aperitivo. On the last Sunday of each month, it also hosts a large antique market.\n",
       "8.  **Piazza Gae Aulenti & Porta Nuova:** For a glimpse of modern Milan, head to this futuristic square surrounded by skyscrapers, including the famous Bosco Verticale (Vertical Forest) residential towers.\n",
       "\n",
       "To make the most of your trip, consider what interests you most – history, art, architecture, or simply soaking in the atmosphere. Enjoy your sightseeing in Milan!"
      ],
      "text/plain": [
       "<IPython.core.display.Markdown object>"
      ]
     },
     "metadata": {},
     "output_type": "display_data"
    }
   ],
   "source": [
    "generation_config = GenerateContentConfig(temperature=1.0)\n",
    "\n",
    "chat = client.chats.create(\n",
    "    model=MODEL_ID,\n",
    "    config=GenerateContentConfig(\n",
    "        system_instruction=[\n",
    "            \"Hello! You are an AI chatbot for a travel web site.\",\n",
    "            \"Your mission is to provide helpful queries for travelers.\",\n",
    "            \"Remember that before you answer a question, you must check to see if it complies with your mission.\",\n",
    "            \"If not, you can say, Sorry I can't answer that question.\",\n",
    "        ]\n",
    "    ),\n",
    ")\n",
    "\n",
    "prompt = \"What is the best place for sightseeing in Milan, Italy?\"\n",
    "\n",
    "response = chat.send_message(prompt)\n",
    "display(Markdown(response.text))"
   ]
  },
  {
   "cell_type": "markdown",
   "metadata": {
    "id": "WZa-Qcf9cF4A"
   },
   "source": [
    "Now let us pretend to be a user asks the chatbot a question that is unrelated to travel."
   ]
  },
  {
   "cell_type": "code",
   "execution_count": 26,
   "metadata": {
    "id": "AZKBIDr2cGnu",
    "tags": []
   },
   "outputs": [
    {
     "data": {
      "text/markdown": [
       "Sorry, I can't answer that question. My mission is to provide helpful queries for travelers, and that question falls outside of my area of expertise."
      ],
      "text/plain": [
       "<IPython.core.display.Markdown object>"
      ]
     },
     "metadata": {},
     "output_type": "display_data"
    }
   ],
   "source": [
    "prompt = \"How do I make pizza dough at home?\"\n",
    "\n",
    "response = chat.send_message(prompt)\n",
    "display(Markdown(response.text))"
   ]
  },
  {
   "cell_type": "markdown",
   "metadata": {
    "id": "JiUYIhwpctCy"
   },
   "source": [
    "You can see that this way, a guardrail in the prompt prevented the chatbot from veering off course."
   ]
  },
  {
   "cell_type": "markdown",
   "metadata": {
    "id": "ZuuDhA37cvmP"
   },
   "source": [
    "### Turn generative tasks into classification tasks to reduce output variability"
   ]
  },
  {
   "cell_type": "markdown",
   "metadata": {
    "id": "kUCUrsUzczmb"
   },
   "source": [
    "#### Generative tasks lead to higher output variability"
   ]
  },
  {
   "cell_type": "markdown",
   "metadata": {
    "id": "a1xASHAkc46n"
   },
   "source": [
    "The prompt below results in an open-ended response, useful for brainstorming, but response is highly variable."
   ]
  },
  {
   "cell_type": "code",
   "execution_count": null,
   "metadata": {
    "id": "nPfXQWIacwRf",
    "tags": []
   },
   "outputs": [],
   "source": [
    "prompt = \"I'm a high school student. Recommend me a programming activity to improve my skills.\"\n",
    "\n",
    "response = client.models.generate_content(model=MODEL_ID, contents=prompt)\n",
    "display(Markdown(response.text))"
   ]
  },
  {
   "cell_type": "markdown",
   "metadata": {
    "id": "iAmm9wPYc_1o"
   },
   "source": [
    "#### Classification tasks reduces output variability"
   ]
  },
  {
   "cell_type": "markdown",
   "metadata": {
    "id": "VvRpK_0GdCpf"
   },
   "source": [
    "The prompt below results in a choice and may be useful if you want the output to be easier to control."
   ]
  },
  {
   "cell_type": "code",
   "execution_count": null,
   "metadata": {
    "id": "kYDKh0r2dAqo",
    "tags": []
   },
   "outputs": [],
   "source": [
    "prompt = \"\"\"I'm a high school student. Which of these activities do you suggest and why:\n",
    "a) learn Python\n",
    "b) learn JavaScript\n",
    "c) learn Fortran\n",
    "\"\"\"\n",
    "\n",
    "response = client.models.generate_content(model=MODEL_ID, contents=prompt)\n",
    "display(Markdown(response.text))"
   ]
  },
  {
   "cell_type": "markdown",
   "metadata": {
    "id": "iTd60b1GdIsx"
   },
   "source": [
    "### Improve response quality by including examples"
   ]
  },
  {
   "cell_type": "markdown",
   "metadata": {
    "id": "yJi44NejdJYE"
   },
   "source": [
    "Another way to improve response quality is to add examples in your prompt. The LLM learns in-context from the examples on how to respond. Typically, one to five examples (shots) are enough to improve the quality of responses. Including too many examples can cause the model to over-fit the data and reduce the quality of responses.\n",
    "\n",
    "Similar to classical model training, the quality and distribution of the examples is very important. Pick examples that are representative of the scenarios that you need the model to learn, and keep the distribution of the examples (e.g. number of examples per class in the case of classification) aligned with your actual distribution."
   ]
  },
  {
   "cell_type": "markdown",
   "metadata": {
    "id": "sMbLginWdOKs"
   },
   "source": [
    "#### Zero-shot prompt"
   ]
  },
  {
   "cell_type": "markdown",
   "metadata": {
    "id": "Crh2Loi2dQ0v"
   },
   "source": [
    "Below is an example of zero-shot prompting, where you don't provide any examples to the LLM within the prompt itself."
   ]
  },
  {
   "cell_type": "code",
   "execution_count": null,
   "metadata": {
    "id": "-7myRc-SdTQ4",
    "tags": []
   },
   "outputs": [],
   "source": [
    "prompt = \"\"\"Decide whether a Tweet's sentiment is positive, neutral, or negative.\n",
    "\n",
    "Tweet: I loved the new YouTube video you made!\n",
    "Sentiment:\n",
    "\"\"\"\n",
    "\n",
    "response = client.models.generate_content(model=MODEL_ID, contents=prompt)\n",
    "display(Markdown(response.text))"
   ]
  },
  {
   "cell_type": "markdown",
   "metadata": {
    "id": "ucRtPn9SdL64"
   },
   "source": [
    "#### One-shot prompt"
   ]
  },
  {
   "cell_type": "markdown",
   "metadata": {
    "id": "rs0gQH2vdYBi"
   },
   "source": [
    "Below is an example of one-shot prompting, where you provide one example to the LLM within the prompt to give some guidance on what type of response you want."
   ]
  },
  {
   "cell_type": "code",
   "execution_count": 22,
   "metadata": {
    "id": "iEq-KxGYdaT5",
    "tags": []
   },
   "outputs": [
    {
     "data": {
      "text/markdown": [
       "negative"
      ],
      "text/plain": [
       "<IPython.core.display.Markdown object>"
      ]
     },
     "metadata": {},
     "output_type": "display_data"
    }
   ],
   "source": [
    "prompt = \"\"\"Decide whether a Tweet's sentiment is positive, neutral, or negative.\n",
    "\n",
    "Tweet: I loved the new YouTube video you made!\n",
    "Sentiment: positive\n",
    "\n",
    "Tweet: That was awful. Super boring 😠\n",
    "Sentiment:\n",
    "\"\"\"\n",
    "\n",
    "response = client.models.generate_content(model=MODEL_ID, contents=prompt)\n",
    "display(Markdown(response.text))"
   ]
  },
  {
   "cell_type": "markdown",
   "metadata": {
    "id": "JnKLjJzmdfL_"
   },
   "source": [
    "#### Few-shot prompt"
   ]
  },
  {
   "cell_type": "markdown",
   "metadata": {
    "id": "6Zv-9F5OdgI_"
   },
   "source": [
    "Below is an example of few-shot prompting, where you provide a few examples to the LLM within the prompt to give some guidance on what type of response you want."
   ]
  },
  {
   "cell_type": "code",
   "execution_count": null,
   "metadata": {
    "id": "u37P9tG4dk9S",
    "tags": []
   },
   "outputs": [],
   "source": [
    "prompt = \"\"\"Decide whether a Tweet's sentiment is positive, neutral, or negative.\n",
    "\n",
    "Tweet: I loved the new YouTube video you made!\n",
    "Sentiment: positive\n",
    "\n",
    "Tweet: That was awful. Super boring 😠\n",
    "Sentiment: negative\n",
    "\n",
    "Tweet: Something surprised me about this video - it was actually original. It was not the same old recycled stuff that I always see. Watch it - you will not regret it.\n",
    "Sentiment:\n",
    "\"\"\"\n",
    "\n",
    "response = client.models.generate_content(model=MODEL_ID, contents=prompt)\n",
    "display(Markdown(response.text))"
   ]
  },
  {
   "cell_type": "markdown",
   "metadata": {
    "id": "wDMD3xb2dvX6"
   },
   "source": [
    "#### Choosing between zero-shot, one-shot, few-shot prompting methods"
   ]
  },
  {
   "cell_type": "markdown",
   "metadata": {
    "id": "s92W0YpNdxJp"
   },
   "source": [
    "Which prompt technique to use will solely depends on your goal. The zero-shot prompts are more open-ended and can give you creative answers, while one-shot and few-shot prompts teach the model how to behave so you can get more predictable answers that are consistent with the examples provided."
   ]
  }
 ],
 "metadata": {
  "colab": {
   "name": "intro_prompt_design.ipynb",
   "toc_visible": true
  },
  "environment": {
   "kernel": "conda-base-py",
   "name": "workbench-notebooks.m133",
   "type": "gcloud",
   "uri": "us-docker.pkg.dev/deeplearning-platform-release/gcr.io/workbench-notebooks:m133"
  },
  "kernelspec": {
   "display_name": "Python 3 (ipykernel) (Local)",
   "language": "python",
   "name": "conda-base-py"
  },
  "language_info": {
   "codemirror_mode": {
    "name": "ipython",
    "version": 3
   },
   "file_extension": ".py",
   "mimetype": "text/x-python",
   "name": "python",
   "nbconvert_exporter": "python",
   "pygments_lexer": "ipython3",
   "version": "3.10.18"
  }
 },
 "nbformat": 4,
 "nbformat_minor": 4
}
