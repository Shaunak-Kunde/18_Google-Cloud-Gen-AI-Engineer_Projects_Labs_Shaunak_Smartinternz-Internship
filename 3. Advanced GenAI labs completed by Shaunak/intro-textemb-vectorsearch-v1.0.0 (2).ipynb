{
 "cells": [
  {
   "cell_type": "code",
   "execution_count": 2,
   "metadata": {
    "id": "c3_K0GGSTrhd",
    "tags": []
   },
   "outputs": [],
   "source": [
    "# Copyright 2023 Google LLC\n",
    "#\n",
    "# Licensed under the Apache License, Version 2.0 (the \"License\");\n",
    "# you may not use this file except in compliance with the License.\n",
    "# You may obtain a copy of the License at\n",
    "#\n",
    "#     https://www.apache.org/licenses/LICENSE-2.0\n",
    "#\n",
    "# Unless required by applicable law or agreed to in writing, software\n",
    "# distributed under the License is distributed on an \"AS IS\" BASIS,\n",
    "# WITHOUT WARRANTIES OR CONDITIONS OF ANY KIND, either express or implied.\n",
    "# See the License for the specific language governing permissions and\n",
    "# limitations under the License."
   ]
  },
  {
   "cell_type": "markdown",
   "metadata": {
    "id": "7VQkf8sFTeDo"
   },
   "source": [
    "# Getting Started with Text Embeddings + Vertex AI Vector Search\n",
    "\n",
    "\n",
    "<table align=\"left\">\n",
    "  <td style=\"text-align: center\">\n",
    "    <a href=\"https://colab.research.google.com/github/GoogleCloudPlatform/generative-ai/blob/main/embeddings/intro-textemb-vectorsearch.ipynb\">\n",
    "      <img width=\"32px\" src=\"https://www.gstatic.com/pantheon/images/bigquery/welcome_page/colab-logo.svg\" alt=\"Google Colaboratory logo\"><br> Open in Colab\n",
    "    </a>\n",
    "  </td>\n",
    "  <td style=\"text-align: center\">\n",
    "    <a href=\"https://console.cloud.google.com/vertex-ai/colab/import/https:%2F%2Fraw.githubusercontent.com%2FGoogleCloudPlatform%2Fgenerative-ai%2Fmain%2Fembeddings%2Fintro-textemb-vectorsearch.ipynb\">\n",
    "      <img width=\"32px\" src=\"https://lh3.googleusercontent.com/JmcxdQi-qOpctIvWKgPtrzZdJJK-J3sWE1RsfjZNwshCFgE_9fULcNpuXYTilIR2hjwN\" alt=\"Google Cloud Colab Enterprise logo\"><br> Open in Colab Enterprise\n",
    "    </a>\n",
    "  </td>\n",
    "  <td style=\"text-align: center\">\n",
    "    <a href=\"https://console.cloud.google.com/vertex-ai/workbench/deploy-notebook?download_url=https://raw.githubusercontent.com/GoogleCloudPlatform/generative-ai/main/embeddings/intro-textemb-vectorsearch.ipynb\">\n",
    "      <img src=\"https://www.gstatic.com/images/branding/gcpiconscolors/vertexai/v1/32px.svg\" alt=\"Vertex AI logo\"><br> Open in Vertex AI Workbench\n",
    "    </a>\n",
    "  </td>\n",
    "  <td style=\"text-align: center\">\n",
    "    <a href=\"https://console.cloud.google.com/bigquery/import?url=https://github.com/GoogleCloudPlatform/generative-ai/blob/main/embeddings/intro-textemb-vectorsearch.ipynb\">\n",
    "      <img src=\"https://www.gstatic.com/images/branding/gcpiconscolors/bigquery/v1/32px.svg\" alt=\"BigQuery Studio logo\"><br> Open in BigQuery Studio\n",
    "    </a>\n",
    "  </td>\n",
    "  <td style=\"text-align: center\">\n",
    "    <a href=\"https://github.com/GoogleCloudPlatform/generative-ai/blob/main/embeddings/intro-textemb-vectorsearch.ipynb\">\n",
    "      <img width=\"32px\" src=\"https://upload.wikimedia.org/wikipedia/commons/9/91/Octicons-mark-github.svg\" alt=\"GitHub logo\"><br> View on GitHub\n",
    "    </a>\n",
    "  </td>\n",
    "</table>\n",
    "\n",
    "<div style=\"clear: both;\"></div>\n",
    "\n",
    "<b>Share to:</b>\n",
    "\n",
    "<a href=\"https://www.linkedin.com/sharing/share-offsite/?url=https%3A//github.com/GoogleCloudPlatform/generative-ai/blob/main/embeddings/intro-textemb-vectorsearch.ipynb\" target=\"_blank\">\n",
    "  <img width=\"20px\" src=\"https://upload.wikimedia.org/wikipedia/commons/8/81/LinkedIn_icon.svg\" alt=\"LinkedIn logo\">\n",
    "</a>\n",
    "\n",
    "<a href=\"https://bsky.app/intent/compose?text=https%3A//github.com/GoogleCloudPlatform/generative-ai/blob/main/embeddings/intro-textemb-vectorsearch.ipynb\" target=\"_blank\">\n",
    "  <img width=\"20px\" src=\"https://upload.wikimedia.org/wikipedia/commons/7/7a/Bluesky_Logo.svg\" alt=\"Bluesky logo\">\n",
    "</a>\n",
    "\n",
    "<a href=\"https://twitter.com/intent/tweet?url=https%3A//github.com/GoogleCloudPlatform/generative-ai/blob/main/embeddings/intro-textemb-vectorsearch.ipynb\" target=\"_blank\">\n",
    "  <img width=\"20px\" src=\"https://upload.wikimedia.org/wikipedia/commons/5/53/X_logo_2023_original.svg\" alt=\"X logo\">\n",
    "</a>\n",
    "\n",
    "<a href=\"https://reddit.com/submit?url=https%3A//github.com/GoogleCloudPlatform/generative-ai/blob/main/embeddings/intro-textemb-vectorsearch.ipynb\" target=\"_blank\">\n",
    "  <img width=\"20px\" src=\"https://redditinc.com/hubfs/Reddit%20Inc/Brand/Reddit_Logo.png\" alt=\"Reddit logo\">\n",
    "</a>\n",
    "\n",
    "<a href=\"https://www.facebook.com/sharer/sharer.php?u=https%3A//github.com/GoogleCloudPlatform/generative-ai/blob/main/embeddings/intro-textemb-vectorsearch.ipynb\" target=\"_blank\">\n",
    "  <img width=\"20px\" src=\"https://upload.wikimedia.org/wikipedia/commons/5/51/Facebook_f_logo_%282019%29.svg\" alt=\"Facebook logo\">\n",
    "</a>            "
   ]
  },
  {
   "cell_type": "markdown",
   "metadata": {
    "id": "4d742715e6de"
   },
   "source": [
    "| | |\n",
    "|-|-|\n",
    "|Author(s) | [Smitha Venkat](https://github.com/smitha-google), [Kaz Sato](https://github.com/kazunori279)|"
   ]
  },
  {
   "cell_type": "markdown",
   "metadata": {
    "id": "25a71983a324"
   },
   "source": [
    "## Introduction\n",
    "\n",
    "In this tutorial, you learn how to use Google Cloud AI tools to quickly bring the power of Large Language Models to enterprise systems.  \n",
    "\n",
    "This tutorial covers the following -\n",
    "\n",
    "*   What are embeddings - what business challenges do they help solve ?\n",
    "*   Understanding Text with Vertex AI Text Embeddings\n",
    "*   Find Embeddings fast with Vertex AI Vector Search\n",
    "*   Grounding LLM outputs with Vector Search\n",
    "\n",
    "This tutorial is based on [the blog post](https://cloud.google.com/blog/products/ai-machine-learning/how-to-use-grounding-for-your-llms-with-text-embeddings), combined with sample code.\n",
    "\n",
    "\n",
    "### Prerequisites\n",
    "\n",
    "This tutorial is designed for developers who has basic knowledge and experience with Python programming and machine learning.\n",
    "\n",
    "If you are not reading this tutorial in Qwiklab, then you need to have a Google Cloud project that is linked to a billing account to run this. Please go through [this document](https://cloud.google.com/vertex-ai/docs/start/cloud-environment) to create a project and setup a billing account for it.\n",
    "\n",
    "### Choose the runtime environment\n",
    "\n",
    "The notebook can be run on either Google Colab or [Vertex AI Workbench](https://cloud.google.com/vertex-ai-workbench).\n",
    "\n",
    "- To use Colab: Click [this link](https://colab.research.google.com/github/GoogleCloudPlatform/generative-ai/blob/main/embeddings/intro-textemb-vectorsearch.ipynb) to open the tutorial in Colab.\n",
    "\n",
    "- To use Workbench: If it is the first time to use Workbench in your Google Cloud project, open [the Workbench console](https://console.cloud.google.com/vertex-ai/workbench) and click ENABLE button to enable Notebooks API. Then click [this link](https://console.cloud.google.com/vertex-ai/workbench/deploy-notebook?download_url=https://raw.githubusercontent.com/GoogleCloudPlatform/generative-ai/main/embeddings/intro-textemb-vectorsearch.ipynb),  and select an existing notebook or create a new notebook.\n"
   ]
  },
  {
   "cell_type": "markdown",
   "metadata": {
    "id": "2pImjuenUIQz"
   },
   "source": [
    "### How much will this cost?\n",
    "\n",
    "In case you are using your own Cloud project, not a temporary project on Qwiklab, you need to spend roughly a few US dollars to finish this tutorial.\n",
    "\n",
    "The pricing of the Cloud services we will use in this tutorial are available in the following pages:\n",
    "\n",
    "- [Vertex AI Embeddings for Text](https://cloud.google.com/vertex-ai/pricing#generative_ai_models)\n",
    "- [Vertex AI Vector Search](https://cloud.google.com/vertex-ai/pricing#matchingengine)\n",
    "- [BigQuery](https://cloud.google.com/bigquery/pricing)\n",
    "- [Cloud Storage](https://cloud.google.com/storage/pricing)\n",
    "- [Vertex AI Workbench](https://cloud.google.com/vertex-ai/pricing#notebooks) if you use one\n",
    "\n",
    "You can use the [Pricing Calculator](https://cloud.google.com/products/calculator) to generate a cost estimate based on your projected usage. The following is an example of rough cost estimation with the calculator, assuming you will go through this tutorial a couple of time.\n",
    "\n",
    "<img src=\"https://storage.googleapis.com/github-repo/img/embeddings/vs-quickstart/pricing.png\" width=\"50%\"/>\n",
    "\n",
    "### **Warning: delete your objects after the tutorial**\n",
    "\n",
    "In case you are using your own Cloud project, please make sure to delete all the Indexes, Index Endpoints and Cloud Storage buckets (and the Workbench instance if you use one) after finishing this tutorial. Otherwise the remaining assets would incur unexpected costs.\n"
   ]
  },
  {
   "cell_type": "markdown",
   "metadata": {
    "id": "6Fu2OoUDTQ6w"
   },
   "source": [
    "# Bringing Gen AI and LLMs to production services\n",
    "\n",
    "Many people are now starting to think about how to bring Gen AI and LLMs to production services, and facing with several challenges.\n",
    "\n",
    "- \"How to integrate LLMs or AI chatbots with existing IT systems, databases and business data?\"\n",
    "- \"We have thousands of products. How can I let LLM memorize them all precisely?\"\n",
    "- \"How to handle the hallucination issues in AI chatbots to build a reliable service?\"\n",
    "\n",
    "Here is a quick solution: **grounding** with **embeddings** and **vector search**.\n",
    "\n",
    "What is grounding? What are embedding and vector search? In this tutorial, we will learn these crucial concepts to build reliable Gen AI services for enterprise use. But before we dive deeper, let's try the demo below."
   ]
  },
  {
   "cell_type": "markdown",
   "metadata": {
    "id": "ORqZYLgTm9pJ"
   },
   "source": [
    "![](https://storage.googleapis.com/gweb-cloudblog-publish/original_images/1._demo_animation.gif)\n",
    "\n",
    "**Exercise: Try the Stack Overflow semantic search demo:**\n",
    "\n",
    "This demo is available as a [public live demo](https://ai-demos.dev/). Select \"STACKOVERFLOW\" and enter any coding question as a query, so it runs a text search on **8 million** questions posted on [Stack Overflow](https://stackoverflow.com/). Try the text semantic search with some queries like 'How to shuffle rows in SQL?' or arbitrary programming questions.\n",
    "\n",
    "In this tutorial, we are going to see how to build a similar search experience - what is involved in building solutions like this using Vertex AI Embeddings API and Vector Search."
   ]
  },
  {
   "cell_type": "markdown",
   "metadata": {
    "id": "H1MAIOkCw35V"
   },
   "source": [
    "# What is Embeddings?\n",
    "\n",
    "With the rise of LLMs, why is it becoming important for IT engineers and ITDMs to understand how they work?\n",
    "\n",
    "In traditional IT systems, most data is organized as structured or tabular data, using simple keywords, labels, and categories in databases and search engines.\n",
    "\n",
    "![](https://storage.googleapis.com/github-repo/img/embeddings/textemb-vs-notebook/1.png)\n",
    "\n",
    "In contrast, AI-powered services arrange data into a simple data structure known as \"embeddings.\"\n",
    "\n",
    "![](https://storage.googleapis.com/github-repo/img/embeddings/textemb-vs-notebook/2.png)"
   ]
  },
  {
   "cell_type": "markdown",
   "metadata": {
    "id": "hJqjBmQsxz2Z"
   },
   "source": [
    "Once trained with specific content like text, images, or any content, AI creates a space called \"embedding space\", which is essentially a map of the content's meaning.\n",
    "\n",
    "![](https://storage.googleapis.com/github-repo/img/embeddings/textemb-vs-notebook/3.png)\n",
    "\n",
    "AI can identify the location of each content on the map, that's what embedding is.\n",
    "\n",
    "![](https://storage.googleapis.com/github-repo/img/embeddings/textemb-vs-notebook/4.png)\n",
    "\n",
    "Let's take an example where a text discusses movies, music, and actors, with a distribution of 10%, 2%, and 30%, respectively. In this case, the AI can create an embedding with three values: 0.1, 0.02, and 0.3, in 3 dimensional space.\n",
    "\n",
    "![](https://storage.googleapis.com/github-repo/img/embeddings/textemb-vs-notebook/5.png)\n",
    "\n",
    "AI can put content with similar meanings closely together in the space."
   ]
  },
  {
   "cell_type": "markdown",
   "metadata": {
    "id": "A5z7vyTyzk_4"
   },
   "source": [
    "This is how Google organizes data across various services like Google Search, YouTube, Play, and many others, to provide search results and recommendations with relevant content.\n",
    "\n",
    "Embeddings can also be used to represent different types of things in businesses, such as products, users, user activities, conversations, music & videos, signals from IoT sensors, and so on."
   ]
  },
  {
   "cell_type": "markdown",
   "metadata": {
    "id": "tpKVmyEe0ab9"
   },
   "source": [
    "AI and Embeddings are now playing a crucial role in creating a new way of human-computer interaction.\n",
    "\n",
    "![](https://storage.googleapis.com/github-repo/img/embeddings/textemb-vs-notebook/6.png)\n",
    "\n",
    "AI organizes data into embeddings, which represent what the user is looking for, the meaning of contents, or many other things you have in your business. This creates a new level of user experience that is becoming the new standard.\n",
    "\n",
    "To learn more about embeddings, [Foundational courses: Embeddings on Google Machine Learning Crush Course](https://developers.google.com/machine-learning/crash-course/embeddings/video-lecture) and [Meet AI's multitool: Vector embeddings by Dale Markowitz](https://cloud.google.com/blog/topics/developers-practitioners/meet-ais-multitool-vector-embeddings) are great materials.\n"
   ]
  },
  {
   "cell_type": "markdown",
   "metadata": {
    "id": "ovQpiL2GUEXa"
   },
   "source": [
    "# Vertex AI Embeddings for Text\n",
    "\n",
    "With the [Vertex AI Embeddings for Text](https://cloud.google.com/vertex-ai/docs/generative-ai/embeddings/get-text-embeddings), you can easily create a text embedding with LLM. The product is also available on [Vertex AI Model Garden](https://cloud.google.com/model-garden)\n",
    "\n",
    "![](https://storage.googleapis.com/github-repo/img/embeddings/textemb-vs-notebook/7.png)\n",
    "\n",
    "This API is designed to extract embeddings from texts. It can take text input up to 2048 input tokens, and outputs 768 dimensional text embeddings."
   ]
  },
  {
   "cell_type": "markdown",
   "metadata": {
    "id": "nwJHDPG7lU52"
   },
   "source": [
    "## LLM text embedding business use cases\n",
    "\n",
    "With the embedding API, you can apply the innovation of embeddings, combined with the LLM capability, to various text processing tasks, such as:\n",
    "\n",
    "**LLM-enabled Semantic Search**: text embeddings can be used to represent both the meaning and intent of a user's query and documents in the embedding space. Documents that have similar meaning to the user's query intent will be found fast with vector search technology. The model is capable of generating text embeddings that capture the subtle nuances of each sentence and paragraphs in the document.\n",
    "\n",
    "**LLM-enabled Text Classification**: LLM text embeddings can be used for text classification with a deep understanding of different contexts without any training or fine-tuning (so-called zero-shot learning). This wasn't possible with the past language models without task-specific training.\n",
    "\n",
    "**LLM-enabled Recommendation**: The text embedding can be used for recommendation systems as a strong feature for training recommendation models such as Two-Tower model. The model learns the relationship between the query and candidate embeddings, resulting in next-gen user experience with semantic product recommendation.\n",
    "\n",
    "LLM-enabled Clustering, Anomaly Detection, Sentiment Analysis, and more, can be also handled with the LLM-level deep semantics understanding.\n"
   ]
  },
  {
   "cell_type": "markdown",
   "metadata": {
    "id": "ga5A7koYlvlZ"
   },
   "source": [
    "## Sorting 8 million texts at \"librarian-level\" precision\n",
    "\n",
    "Vertex AI Embeddings for Text has an embedding space with 768 dimensions. As explained earlier, the space represents a huge map of a wide variety of texts in the world, organized by their meanings. With each input text, the model can find a location (embedding) in the map.\n",
    "\n",
    "By visualizing the embedding space, you can actually observe how the model sorts the texts at the \"librarian-level\" precision.\n",
    "\n",
    "**Exercise: Try the Nomic AI Atlas**\n",
    "\n",
    "[Nomic AI](http://nomic.ai/) provides a platform called Atlas for storing, visualizing and interacting with embedding spaces with high scalability and in a smooth UI, and they worked with Google for visualizing the embedding space of the 8 million Stack Overflow questions. You can try exploring around the space, zooming in and out to each data point on your browser on this page, courtesy of Nomic AI.\n",
    "\n",
    "The embedding space represents a huge map of texts, organized by their meanings\n",
    "With each input text, the model can find a location (embedding) in the map\n",
    "Like a librarian reading through millions of texts, sorting them with millions of nano-categories\n",
    "\n",
    "Try exploring it [here](https://atlas.nomic.ai/map/edaff028-12b5-42a0-8e8b-6430c9b8222b/bcb42818-3581-4fb5-ac30-9883d01f98ec). Zoom into a few categories, point each dots, and see how the LLM is sorting similar questions close together in the space.\n",
    "\n",
    "![](https://storage.googleapis.com/gweb-cloudblog-publish/images/4._Nomic_AI_Atlas.max-2200x2200.png)\n",
    "\n",
    "### The librarian-level semantic understanding\n",
    "\n",
    "Here are the examples of the librarian-level semantic understanding by Embeddings API with Stack Overflow questions.\n",
    "\n",
    "![](https://storage.googleapis.com/gweb-cloudblog-publish/images/5._semantic_understanding.max-2200x2200.png)\n",
    "\n",
    "For example, the model thinks the question \"Does moving the request line to a header frame require an app change?\" is similar to the question \"Does an application developed on HTTP1x require modifications to run on HTTP2?\". That is because The model knows both questions talk about what's the change required to support the HTTP2 header frame.\n",
    "\n",
    "Note that this demo didn't require any training or fine-tuning with computer programming specific datasets. This is the innovative part of the zero-shot learning capability of the LLM. It can be applied to a wide variety of industries, including finance, healthcare, retail, manufacturing, construction, media, and more, for deep semantic search on the industry-focused business documents without spending time and cost for collecting industry specific datasets and training models."
   ]
  },
  {
   "cell_type": "markdown",
   "metadata": {
    "id": "-iOWOKnIvYxf"
   },
   "source": [
    "# Text Embeddings in Action\n",
    "\n",
    "Lets try using Text Embeddings in action with actual sample code."
   ]
  },
  {
   "cell_type": "markdown",
   "metadata": {
    "id": "AtXnXhF8U-8R"
   },
   "source": [
    "## Setup\n",
    "\n",
    "Before get started with the Vertex AI services, we need to setup the following.\n",
    "\n",
    "* Install Python SDK\n",
    "* Environment variables\n",
    "* Authentication (Colab only)\n",
    "* Enable APIs\n",
    "* Set IAM permissions"
   ]
  },
  {
   "cell_type": "markdown",
   "metadata": {
    "id": "UjnvWl6FLUlF"
   },
   "source": [
    "### Install Python SDK\n",
    "\n",
    "Vertex AI, Cloud Storage and BigQuery APIs can be accessed with multiple ways including REST API and Python SDK. In this tutorial we will use the SDK."
   ]
  },
  {
   "cell_type": "code",
   "execution_count": 3,
   "metadata": {
    "id": "FZgLGALt_al7",
    "tags": []
   },
   "outputs": [
    {
     "name": "stdout",
     "output_type": "stream",
     "text": [
      "Requirement already satisfied: google-cloud-aiplatform in ./.local/lib/python3.10/site-packages (1.117.0)\n",
      "Requirement already satisfied: google-cloud-storage in /opt/conda/lib/python3.10/site-packages (2.19.0)\n",
      "Collecting google-cloud-storage\n",
      "  Using cached google_cloud_storage-3.4.0-py3-none-any.whl.metadata (13 kB)\n",
      "Requirement already satisfied: google-cloud-bigquery[pandas] in ./.local/lib/python3.10/site-packages (3.38.0)\n",
      "Requirement already satisfied: google-api-core!=2.0.*,!=2.1.*,!=2.2.*,!=2.3.*,!=2.4.*,!=2.5.*,!=2.6.*,!=2.7.*,<3.0.0,>=1.34.1 in /opt/conda/lib/python3.10/site-packages (from google-api-core[grpc]!=2.0.*,!=2.1.*,!=2.2.*,!=2.3.*,!=2.4.*,!=2.5.*,!=2.6.*,!=2.7.*,<3.0.0,>=1.34.1->google-cloud-aiplatform) (2.25.1)\n",
      "Requirement already satisfied: google-auth<3.0.0,>=2.14.1 in /opt/conda/lib/python3.10/site-packages (from google-cloud-aiplatform) (2.40.3)\n",
      "Requirement already satisfied: proto-plus<2.0.0,>=1.22.3 in /opt/conda/lib/python3.10/site-packages (from google-cloud-aiplatform) (1.26.1)\n",
      "Requirement already satisfied: protobuf!=4.21.0,!=4.21.1,!=4.21.2,!=4.21.3,!=4.21.4,!=4.21.5,<7.0.0,>=3.20.2 in /opt/conda/lib/python3.10/site-packages (from google-cloud-aiplatform) (6.31.1)\n",
      "Requirement already satisfied: packaging>=14.3 in /opt/conda/lib/python3.10/site-packages (from google-cloud-aiplatform) (25.0)\n",
      "Requirement already satisfied: google-cloud-resource-manager<3.0.0,>=1.3.3 in /opt/conda/lib/python3.10/site-packages (from google-cloud-aiplatform) (1.14.2)\n",
      "Requirement already satisfied: shapely<3.0.0 in /opt/conda/lib/python3.10/site-packages (from google-cloud-aiplatform) (2.1.1)\n",
      "Requirement already satisfied: google-genai<2.0.0,>=1.37.0 in /opt/conda/lib/python3.10/site-packages (from google-cloud-aiplatform) (1.37.0)\n",
      "Requirement already satisfied: pydantic<3 in /opt/conda/lib/python3.10/site-packages (from google-cloud-aiplatform) (2.11.9)\n",
      "Requirement already satisfied: typing_extensions in /opt/conda/lib/python3.10/site-packages (from google-cloud-aiplatform) (4.15.0)\n",
      "Requirement already satisfied: docstring_parser<1 in /opt/conda/lib/python3.10/site-packages (from google-cloud-aiplatform) (0.17.0)\n",
      "Requirement already satisfied: google-cloud-core<3.0dev,>=2.3.0 in /opt/conda/lib/python3.10/site-packages (from google-cloud-storage) (2.4.3)\n",
      "Requirement already satisfied: google-resumable-media>=2.7.2 in /opt/conda/lib/python3.10/site-packages (from google-cloud-storage) (2.7.2)\n",
      "Requirement already satisfied: requests<3.0.0dev,>=2.18.0 in /opt/conda/lib/python3.10/site-packages (from google-cloud-storage) (2.32.5)\n",
      "Requirement already satisfied: google-crc32c<2.0dev,>=1.0 in /opt/conda/lib/python3.10/site-packages (from google-cloud-storage) (1.7.1)\n",
      "Requirement already satisfied: googleapis-common-protos<2.0.0,>=1.56.2 in /opt/conda/lib/python3.10/site-packages (from google-api-core!=2.0.*,!=2.1.*,!=2.2.*,!=2.3.*,!=2.4.*,!=2.5.*,!=2.6.*,!=2.7.*,<3.0.0,>=1.34.1->google-api-core[grpc]!=2.0.*,!=2.1.*,!=2.2.*,!=2.3.*,!=2.4.*,!=2.5.*,!=2.6.*,!=2.7.*,<3.0.0,>=1.34.1->google-cloud-aiplatform) (1.70.0)\n",
      "Requirement already satisfied: grpcio<2.0.0,>=1.33.2 in /opt/conda/lib/python3.10/site-packages (from google-api-core[grpc]!=2.0.*,!=2.1.*,!=2.2.*,!=2.3.*,!=2.4.*,!=2.5.*,!=2.6.*,!=2.7.*,<3.0.0,>=1.34.1->google-cloud-aiplatform) (1.75.0)\n",
      "Requirement already satisfied: grpcio-status<2.0.0,>=1.33.2 in /opt/conda/lib/python3.10/site-packages (from google-api-core[grpc]!=2.0.*,!=2.1.*,!=2.2.*,!=2.3.*,!=2.4.*,!=2.5.*,!=2.6.*,!=2.7.*,<3.0.0,>=1.34.1->google-cloud-aiplatform) (1.75.0)\n",
      "Requirement already satisfied: cachetools<6.0,>=2.0.0 in /opt/conda/lib/python3.10/site-packages (from google-auth<3.0.0,>=2.14.1->google-cloud-aiplatform) (5.5.2)\n",
      "Requirement already satisfied: pyasn1-modules>=0.2.1 in /opt/conda/lib/python3.10/site-packages (from google-auth<3.0.0,>=2.14.1->google-cloud-aiplatform) (0.4.2)\n",
      "Requirement already satisfied: rsa<5,>=3.1.4 in /opt/conda/lib/python3.10/site-packages (from google-auth<3.0.0,>=2.14.1->google-cloud-aiplatform) (4.9.1)\n",
      "Requirement already satisfied: python-dateutil<3.0.0,>=2.8.2 in /opt/conda/lib/python3.10/site-packages (from google-cloud-bigquery[pandas]) (2.9.0.post0)\n",
      "Requirement already satisfied: grpc-google-iam-v1<1.0.0,>=0.14.0 in /opt/conda/lib/python3.10/site-packages (from google-cloud-resource-manager<3.0.0,>=1.3.3->google-cloud-aiplatform) (0.14.2)\n",
      "Requirement already satisfied: anyio<5.0.0,>=4.8.0 in /opt/conda/lib/python3.10/site-packages (from google-genai<2.0.0,>=1.37.0->google-cloud-aiplatform) (4.10.0)\n",
      "Requirement already satisfied: httpx<1.0.0,>=0.28.1 in /opt/conda/lib/python3.10/site-packages (from google-genai<2.0.0,>=1.37.0->google-cloud-aiplatform) (0.28.1)\n",
      "Requirement already satisfied: tenacity<9.2.0,>=8.2.3 in /opt/conda/lib/python3.10/site-packages (from google-genai<2.0.0,>=1.37.0->google-cloud-aiplatform) (9.1.2)\n",
      "Requirement already satisfied: websockets<15.1.0,>=13.0.0 in /opt/conda/lib/python3.10/site-packages (from google-genai<2.0.0,>=1.37.0->google-cloud-aiplatform) (15.0.1)\n",
      "Requirement already satisfied: exceptiongroup>=1.0.2 in /opt/conda/lib/python3.10/site-packages (from anyio<5.0.0,>=4.8.0->google-genai<2.0.0,>=1.37.0->google-cloud-aiplatform) (1.3.0)\n",
      "Requirement already satisfied: idna>=2.8 in /opt/conda/lib/python3.10/site-packages (from anyio<5.0.0,>=4.8.0->google-genai<2.0.0,>=1.37.0->google-cloud-aiplatform) (3.10)\n",
      "Requirement already satisfied: sniffio>=1.1 in /opt/conda/lib/python3.10/site-packages (from anyio<5.0.0,>=4.8.0->google-genai<2.0.0,>=1.37.0->google-cloud-aiplatform) (1.3.1)\n",
      "Requirement already satisfied: certifi in /opt/conda/lib/python3.10/site-packages (from httpx<1.0.0,>=0.28.1->google-genai<2.0.0,>=1.37.0->google-cloud-aiplatform) (2025.8.3)\n",
      "Requirement already satisfied: httpcore==1.* in /opt/conda/lib/python3.10/site-packages (from httpx<1.0.0,>=0.28.1->google-genai<2.0.0,>=1.37.0->google-cloud-aiplatform) (1.0.9)\n",
      "Requirement already satisfied: h11>=0.16 in /opt/conda/lib/python3.10/site-packages (from httpcore==1.*->httpx<1.0.0,>=0.28.1->google-genai<2.0.0,>=1.37.0->google-cloud-aiplatform) (0.16.0)\n",
      "Requirement already satisfied: annotated-types>=0.6.0 in /opt/conda/lib/python3.10/site-packages (from pydantic<3->google-cloud-aiplatform) (0.7.0)\n",
      "Requirement already satisfied: pydantic-core==2.33.2 in /opt/conda/lib/python3.10/site-packages (from pydantic<3->google-cloud-aiplatform) (2.33.2)\n",
      "Requirement already satisfied: typing-inspection>=0.4.0 in /opt/conda/lib/python3.10/site-packages (from pydantic<3->google-cloud-aiplatform) (0.4.1)\n",
      "Requirement already satisfied: six>=1.5 in /opt/conda/lib/python3.10/site-packages (from python-dateutil<3.0.0,>=2.8.2->google-cloud-bigquery[pandas]) (1.17.0)\n",
      "Requirement already satisfied: charset_normalizer<4,>=2 in /opt/conda/lib/python3.10/site-packages (from requests<3.0.0dev,>=2.18.0->google-cloud-storage) (3.4.2)\n",
      "Requirement already satisfied: urllib3<3,>=1.21.1 in /opt/conda/lib/python3.10/site-packages (from requests<3.0.0dev,>=2.18.0->google-cloud-storage) (2.5.0)\n",
      "Requirement already satisfied: pyasn1>=0.1.3 in /opt/conda/lib/python3.10/site-packages (from rsa<5,>=3.1.4->google-auth<3.0.0,>=2.14.1->google-cloud-aiplatform) (0.6.1)\n",
      "Requirement already satisfied: numpy>=1.21 in /opt/conda/lib/python3.10/site-packages (from shapely<3.0.0->google-cloud-aiplatform) (1.26.4)\n",
      "Requirement already satisfied: pandas>=1.3.0 in /opt/conda/lib/python3.10/site-packages (from google-cloud-bigquery[pandas]) (2.3.2)\n",
      "Requirement already satisfied: pandas-gbq>=0.26.1 in /opt/conda/lib/python3.10/site-packages (from google-cloud-bigquery[pandas]) (0.29.2)\n",
      "Requirement already satisfied: pyarrow>=3.0.0 in /opt/conda/lib/python3.10/site-packages (from google-cloud-bigquery[pandas]) (21.0.0)\n",
      "Requirement already satisfied: db-dtypes<2.0.0,>=1.0.4 in /opt/conda/lib/python3.10/site-packages (from google-cloud-bigquery[pandas]) (1.4.3)\n",
      "Requirement already satisfied: pytz>=2020.1 in /opt/conda/lib/python3.10/site-packages (from pandas>=1.3.0->google-cloud-bigquery[pandas]) (2025.2)\n",
      "Requirement already satisfied: tzdata>=2022.7 in /opt/conda/lib/python3.10/site-packages (from pandas>=1.3.0->google-cloud-bigquery[pandas]) (2025.2)\n",
      "Requirement already satisfied: setuptools in /opt/conda/lib/python3.10/site-packages (from pandas-gbq>=0.26.1->google-cloud-bigquery[pandas]) (80.9.0)\n",
      "Requirement already satisfied: pydata-google-auth>=1.5.0 in /opt/conda/lib/python3.10/site-packages (from pandas-gbq>=0.26.1->google-cloud-bigquery[pandas]) (1.9.1)\n",
      "Requirement already satisfied: google-auth-oauthlib>=0.7.0 in /opt/conda/lib/python3.10/site-packages (from pandas-gbq>=0.26.1->google-cloud-bigquery[pandas]) (1.2.2)\n",
      "Requirement already satisfied: requests-oauthlib>=0.7.0 in /opt/conda/lib/python3.10/site-packages (from google-auth-oauthlib>=0.7.0->pandas-gbq>=0.26.1->google-cloud-bigquery[pandas]) (2.0.0)\n",
      "Requirement already satisfied: oauthlib>=3.0.0 in /opt/conda/lib/python3.10/site-packages (from requests-oauthlib>=0.7.0->google-auth-oauthlib>=0.7.0->pandas-gbq>=0.26.1->google-cloud-bigquery[pandas]) (3.3.1)\n",
      "Note: you may need to restart the kernel to use updated packages.\n"
     ]
    }
   ],
   "source": [
    "%pip install --upgrade --user google-cloud-aiplatform google-cloud-storage 'google-cloud-bigquery[pandas]'"
   ]
  },
  {
   "cell_type": "markdown",
   "metadata": {
    "id": "R5Xep4W9lq-Z"
   },
   "source": [
    "### Restart current runtime\n",
    "\n",
    "To use the newly installed packages in this Jupyter runtime, you must restart the runtime. You can do this by running the cell below, which will restart the current kernel."
   ]
  },
  {
   "cell_type": "code",
   "execution_count": 4,
   "metadata": {
    "id": "XRvKdaPDTznN",
    "tags": []
   },
   "outputs": [
    {
     "data": {
      "text/plain": [
       "{'status': 'ok', 'restart': True}"
      ]
     },
     "execution_count": 4,
     "metadata": {},
     "output_type": "execute_result"
    }
   ],
   "source": [
    "# Restart kernel after installs so that your environment can access the new packages\n",
    "import IPython\n",
    "\n",
    "app = IPython.Application.instance()\n",
    "app.kernel.do_shutdown(True)"
   ]
  },
  {
   "cell_type": "markdown",
   "metadata": {
    "id": "SbmM4z7FOBpM"
   },
   "source": [
    "<div class=\"alert alert-block alert-warning\">\n",
    "<b>⚠️ The kernel is going to restart. Please wait until it is finished before continuing to the next step. ⚠️</b>\n",
    "</div>\n"
   ]
  },
  {
   "cell_type": "markdown",
   "metadata": {
    "id": "nCoTvkOJoh76"
   },
   "source": [
    "### Environment variables\n",
    "\n",
    "Sets environment variables. If asked, please replace the following `[your-project-id]` with your project ID and run it."
   ]
  },
  {
   "cell_type": "code",
   "execution_count": 1,
   "metadata": {
    "id": "fkmvFRrj3nQI",
    "tags": []
   },
   "outputs": [],
   "source": [
    "# get project ID\n",
    "PROJECT_ID = ! gcloud config get project\n",
    "PROJECT_ID = PROJECT_ID[0]\n",
    "LOCATION = \"us-central1\"\n",
    "if PROJECT_ID == \"(unset)\":\n",
    "    print(f\"Please set the project ID manually below\")"
   ]
  },
  {
   "cell_type": "code",
   "execution_count": 2,
   "metadata": {
    "id": "69XJ95rNoYG9",
    "tags": []
   },
   "outputs": [],
   "source": [
    "# define project information\n",
    "if PROJECT_ID == \"(unset)\":\n",
    "    PROJECT_ID = \"qwiklabs-gcp-04-be6ae7b23457\"  # @param {type:\"string\"}\n",
    "\n",
    "# generate an unique id for this session\n",
    "from datetime import datetime\n",
    "\n",
    "UID = datetime.now().strftime(\"%m%d%H%M\")"
   ]
  },
  {
   "cell_type": "markdown",
   "metadata": {
    "id": "ph7mDSMRVTIZ"
   },
   "source": [
    "### Authentication (Colab only)\n",
    "\n",
    "If you are running this notebook on Colab, you will need to run the following cell authentication. This step is not required if you are using Vertex AI Workbench as it is pre-authenticated."
   ]
  },
  {
   "cell_type": "code",
   "execution_count": 3,
   "metadata": {
    "id": "5jQkFtlimNXR",
    "tags": []
   },
   "outputs": [],
   "source": [
    "import sys\n",
    "\n",
    "# if it's Colab runtime, authenticate the user with Google Cloud\n",
    "if \"google.colab\" in sys.modules:\n",
    "    from google.colab import auth\n",
    "\n",
    "    auth.authenticate_user()"
   ]
  },
  {
   "cell_type": "markdown",
   "metadata": {
    "id": "jUPbl4IFLmC2"
   },
   "source": [
    "### Enable APIs\n",
    "\n",
    "Run the following to enable APIs for Compute Engine, Vertex AI, Cloud Storage and BigQuery with this Google Cloud project."
   ]
  },
  {
   "cell_type": "code",
   "execution_count": 4,
   "metadata": {
    "id": "qGf0qMMQNond",
    "tags": []
   },
   "outputs": [
    {
     "name": "stdout",
     "output_type": "stream",
     "text": [
      "Operation \"operations/acat.p2-533483363925-610e0815-9a68-4086-ac83-6a298b9a5c22\" finished successfully.\n"
     ]
    }
   ],
   "source": [
    "! gcloud services enable compute.googleapis.com aiplatform.googleapis.com storage.googleapis.com bigquery.googleapis.com --project {PROJECT_ID}"
   ]
  },
  {
   "cell_type": "markdown",
   "metadata": {
    "id": "8cF8rkN3Lnhq"
   },
   "source": [
    "### Set IAM permissions\n",
    "\n",
    "Also, we need to add access permissions to the default service account for using those services.\n",
    "\n",
    "- Go to [the IAM page](https://console.cloud.google.com/iam-admin/) in the Console\n",
    "- Look for the principal for default compute service account. It should look like: `<project-number>-compute@developer.gserviceaccount.com`\n",
    "- Click the edit button at right and click `ADD ANOTHER ROLE` to add `Vertex AI User`, `BigQuery User` and `Storage Admin` to the account.\n",
    "\n",
    "This will look like this:\n",
    "\n",
    "![](https://storage.googleapis.com/github-repo/img/embeddings/vs-quickstart/iam-setting.png)"
   ]
  },
  {
   "cell_type": "markdown",
   "metadata": {
    "id": "mahCxLXHMIls"
   },
   "source": [
    "## Getting Started with Vertex AI Embeddings for Text\n",
    "\n",
    "Now it's ready to get started with embeddings!"
   ]
  },
  {
   "cell_type": "markdown",
   "metadata": {
    "id": "rq07_-o0VoZD"
   },
   "source": [
    "### Data Preparation\n",
    "\n",
    "We will be using [the Stack Overflow public dataset](https://console.cloud.google.com/marketplace/product/stack-exchange/stack-overflow) hosted on BigQuery table `bigquery-public-data.stackoverflow.posts_questions`. This is a very big dataset with 23 million rows that doesn't fit into the memory. We are going to limit it to 1000 rows for this tutorial."
   ]
  },
  {
   "cell_type": "code",
   "execution_count": 5,
   "metadata": {
    "id": "snrzPsEQDH4S",
    "tags": []
   },
   "outputs": [
    {
     "data": {
      "text/html": [
       "<div>\n",
       "<style scoped>\n",
       "    .dataframe tbody tr th:only-of-type {\n",
       "        vertical-align: middle;\n",
       "    }\n",
       "\n",
       "    .dataframe tbody tr th {\n",
       "        vertical-align: top;\n",
       "    }\n",
       "\n",
       "    .dataframe thead th {\n",
       "        text-align: right;\n",
       "    }\n",
       "</style>\n",
       "<table border=\"1\" class=\"dataframe\">\n",
       "  <thead>\n",
       "    <tr style=\"text-align: right;\">\n",
       "      <th></th>\n",
       "      <th>id</th>\n",
       "      <th>title</th>\n",
       "    </tr>\n",
       "  </thead>\n",
       "  <tbody>\n",
       "    <tr>\n",
       "      <th>0</th>\n",
       "      <td>73525235</td>\n",
       "      <td>Tortoise SVN adding Revision properties to log...</td>\n",
       "    </tr>\n",
       "    <tr>\n",
       "      <th>1</th>\n",
       "      <td>73706459</td>\n",
       "      <td>Work item customization: Changing the default ...</td>\n",
       "    </tr>\n",
       "    <tr>\n",
       "      <th>2</th>\n",
       "      <td>73752484</td>\n",
       "      <td>endpoint to return a value by date range with ...</td>\n",
       "    </tr>\n",
       "    <tr>\n",
       "      <th>3</th>\n",
       "      <td>73790104</td>\n",
       "      <td>Reveal.js Markdown fragment with inside format...</td>\n",
       "    </tr>\n",
       "    <tr>\n",
       "      <th>4</th>\n",
       "      <td>73797535</td>\n",
       "      <td>How to define associations in Sequelize with t...</td>\n",
       "    </tr>\n",
       "  </tbody>\n",
       "</table>\n",
       "</div>"
      ],
      "text/plain": [
       "         id                                              title\n",
       "0  73525235  Tortoise SVN adding Revision properties to log...\n",
       "1  73706459  Work item customization: Changing the default ...\n",
       "2  73752484  endpoint to return a value by date range with ...\n",
       "3  73790104  Reveal.js Markdown fragment with inside format...\n",
       "4  73797535  How to define associations in Sequelize with t..."
      ]
     },
     "execution_count": 5,
     "metadata": {},
     "output_type": "execute_result"
    }
   ],
   "source": [
    "# load the BQ Table into a Pandas DataFrame\n",
    "from google.cloud import bigquery\n",
    "\n",
    "QUESTIONS_SIZE = 1000\n",
    "\n",
    "bq_client = bigquery.Client(project=PROJECT_ID)\n",
    "QUERY_TEMPLATE = \"\"\"\n",
    "        SELECT distinct q.id, q.title\n",
    "        FROM (SELECT * FROM `bigquery-public-data.stackoverflow.posts_questions`\n",
    "        where Score > 0 ORDER BY View_Count desc) AS q\n",
    "        LIMIT {limit} ;\n",
    "        \"\"\"\n",
    "query = QUERY_TEMPLATE.format(limit=QUESTIONS_SIZE)\n",
    "query_job = bq_client.query(query)\n",
    "rows = query_job.result()\n",
    "df = rows.to_dataframe()\n",
    "\n",
    "# examine the data\n",
    "df.head()"
   ]
  },
  {
   "cell_type": "markdown",
   "metadata": {
    "id": "j6022U1FWzpb"
   },
   "source": [
    "### Call the API to generate embeddings\n",
    "\n",
    "With the Stack Overflow dataset, we will use the `title` column (the question title) and generate embedding for it with Embeddings for Text API. The API is available under the [vertexai](https://cloud.google.com/python/docs/reference/aiplatform/latest/vertexai) package of the SDK.\n",
    "\n",
    "You may see some warning messages from the TensorFlow library but you can ignore them."
   ]
  },
  {
   "cell_type": "code",
   "execution_count": 6,
   "metadata": {
    "id": "pY8M4DqO8wGx",
    "tags": []
   },
   "outputs": [],
   "source": [
    "# init the vertexai package\n",
    "import vertexai\n",
    "\n",
    "vertexai.init(project=PROJECT_ID, location=LOCATION)"
   ]
  },
  {
   "cell_type": "markdown",
   "metadata": {
    "id": "jrG82n-y-EC5"
   },
   "source": [
    "From the package, import [TextEmbeddingModel](https://cloud.google.com/python/docs/reference/aiplatform/latest/vertexai.language_models.TextEmbeddingModel) and get a model."
   ]
  },
  {
   "cell_type": "code",
   "execution_count": 7,
   "metadata": {
    "id": "YVLHjSeOGoTu",
    "tags": []
   },
   "outputs": [
    {
     "name": "stderr",
     "output_type": "stream",
     "text": [
      "/home/jupyter/.local/lib/python3.10/site-packages/vertexai/_model_garden/_model_garden_models.py:278: UserWarning: This feature is deprecated as of June 24, 2025 and will be removed on June 24, 2026. For details, see https://cloud.google.com/vertex-ai/generative-ai/docs/deprecations/genai-vertexai-sdk.\n",
      "  warning_logs.show_deprecation_warning()\n"
     ]
    }
   ],
   "source": [
    "# Load the text embeddings model\n",
    "from vertexai.language_models import TextEmbeddingModel\n",
    "\n",
    "model = TextEmbeddingModel.from_pretrained(\"text-embedding-004\")"
   ]
  },
  {
   "cell_type": "markdown",
   "metadata": {
    "id": "FqdVsgZDb_hc"
   },
   "source": [
    "In this tutorial we will use `text-embedding-004` model for getting text embeddings. Please take a look at [Supported models](https://cloud.google.com/vertex-ai/docs/generative-ai/embeddings/get-text-embeddings#supported_models) on the doc to see the list of supported models.\n",
    "\n",
    "Once you get the model, you can call its [get_embeddings](https://cloud.google.com/python/docs/reference/aiplatform/latest/vertexai.language_models.TextEmbeddingModel#vertexai_language_models_TextEmbeddingModel_get_embeddings) function to get embeddings. You can pass up to 5 texts at once in a call. But there is a caveat. By default, the text embeddings API has a \"request per minute\" quota set to 60 for new Cloud projects and 600 for projects with usage history (see [Quotas and limits](https://cloud.google.com/vertex-ai/docs/quotas#request_quotas) to check the latest quota value for `base_model:textembedding-gecko`). So, rather than using the function directly, you may want to define a wrapper like below to limit under 10 calls per second, and pass 5 texts each time."
   ]
  },
  {
   "cell_type": "code",
   "execution_count": 8,
   "metadata": {
    "id": "8HUb9u_P2VWW",
    "tags": []
   },
   "outputs": [],
   "source": [
    "import time\n",
    "\n",
    "import tqdm  # to show a progress bar\n",
    "\n",
    "# get embeddings for a list of texts\n",
    "BATCH_SIZE = 5\n",
    "\n",
    "\n",
    "def get_embeddings_wrapper(texts):\n",
    "    embs = []\n",
    "    for i in tqdm.tqdm(range(0, len(texts), BATCH_SIZE)):\n",
    "        time.sleep(1)  # to avoid the quota error\n",
    "        result = model.get_embeddings(texts[i : i + BATCH_SIZE])\n",
    "        embs = embs + [e.values for e in result]\n",
    "    return embs"
   ]
  },
  {
   "cell_type": "markdown",
   "metadata": {
    "id": "aK4eTSPfcEuh"
   },
   "source": [
    "The following code will get embedding for the question titles and add them as a new column `embedding` to the DataFrame. This will take a few minutes."
   ]
  },
  {
   "cell_type": "code",
   "execution_count": 9,
   "metadata": {
    "id": "FcqPvu4PluN1",
    "tags": []
   },
   "outputs": [
    {
     "name": "stderr",
     "output_type": "stream",
     "text": [
      "100%|██████████| 200/200 [03:52<00:00,  1.16s/it]\n"
     ]
    },
    {
     "data": {
      "text/html": [
       "<div>\n",
       "<style scoped>\n",
       "    .dataframe tbody tr th:only-of-type {\n",
       "        vertical-align: middle;\n",
       "    }\n",
       "\n",
       "    .dataframe tbody tr th {\n",
       "        vertical-align: top;\n",
       "    }\n",
       "\n",
       "    .dataframe thead th {\n",
       "        text-align: right;\n",
       "    }\n",
       "</style>\n",
       "<table border=\"1\" class=\"dataframe\">\n",
       "  <thead>\n",
       "    <tr style=\"text-align: right;\">\n",
       "      <th></th>\n",
       "      <th>id</th>\n",
       "      <th>title</th>\n",
       "      <th>embedding</th>\n",
       "    </tr>\n",
       "  </thead>\n",
       "  <tbody>\n",
       "    <tr>\n",
       "      <th>0</th>\n",
       "      <td>73525235</td>\n",
       "      <td>Tortoise SVN adding Revision properties to log...</td>\n",
       "      <td>[-0.0325084924697876, -0.023652128875255585, 0...</td>\n",
       "    </tr>\n",
       "    <tr>\n",
       "      <th>1</th>\n",
       "      <td>73706459</td>\n",
       "      <td>Work item customization: Changing the default ...</td>\n",
       "      <td>[-0.006228151731193066, -0.02518618293106556, ...</td>\n",
       "    </tr>\n",
       "    <tr>\n",
       "      <th>2</th>\n",
       "      <td>73752484</td>\n",
       "      <td>endpoint to return a value by date range with ...</td>\n",
       "      <td>[0.012358573265373707, -0.005921827629208565, ...</td>\n",
       "    </tr>\n",
       "    <tr>\n",
       "      <th>3</th>\n",
       "      <td>73790104</td>\n",
       "      <td>Reveal.js Markdown fragment with inside format...</td>\n",
       "      <td>[-0.002931903349235654, -0.041340894997119904,...</td>\n",
       "    </tr>\n",
       "    <tr>\n",
       "      <th>4</th>\n",
       "      <td>73797535</td>\n",
       "      <td>How to define associations in Sequelize with t...</td>\n",
       "      <td>[-0.030443940311670303, -0.027093742042779922,...</td>\n",
       "    </tr>\n",
       "  </tbody>\n",
       "</table>\n",
       "</div>"
      ],
      "text/plain": [
       "         id                                              title  \\\n",
       "0  73525235  Tortoise SVN adding Revision properties to log...   \n",
       "1  73706459  Work item customization: Changing the default ...   \n",
       "2  73752484  endpoint to return a value by date range with ...   \n",
       "3  73790104  Reveal.js Markdown fragment with inside format...   \n",
       "4  73797535  How to define associations in Sequelize with t...   \n",
       "\n",
       "                                           embedding  \n",
       "0  [-0.0325084924697876, -0.023652128875255585, 0...  \n",
       "1  [-0.006228151731193066, -0.02518618293106556, ...  \n",
       "2  [0.012358573265373707, -0.005921827629208565, ...  \n",
       "3  [-0.002931903349235654, -0.041340894997119904,...  \n",
       "4  [-0.030443940311670303, -0.027093742042779922,...  "
      ]
     },
     "execution_count": 9,
     "metadata": {},
     "output_type": "execute_result"
    }
   ],
   "source": [
    "# get embeddings for the question titles and add them as \"embedding\" column\n",
    "df = df.assign(embedding=get_embeddings_wrapper(list(df.title)))\n",
    "df.head()"
   ]
  },
  {
   "cell_type": "markdown",
   "metadata": {
    "id": "nB53SiJjVN6e"
   },
   "source": [
    "## Look at the embedding similarities\n",
    "\n",
    "Let's see how these embeddings are organized in the embedding space with their meanings by quickly calculating the similarities between them and sorting them.\n",
    "\n",
    "As embeddings are vectors, you can calculate similarity between two embeddings by using one of the popular metrics like the followings:\n",
    "\n",
    "![](https://storage.googleapis.com/github-repo/img/embeddings/textemb-vs-notebook/8.png)\n",
    "\n",
    "Which metric should we use? Usually it depends on how each model is trained. In case of the model `text-embedding-004`, we need to use inner product (dot product).\n",
    "\n",
    "In the following code, it picks up one question randomly and uses the numpy `np.dot` function to calculate the similarities between the question and other questions."
   ]
  },
  {
   "cell_type": "code",
   "execution_count": 10,
   "metadata": {
    "id": "lKs6jSu7NiM6",
    "tags": []
   },
   "outputs": [
    {
     "data": {
      "text/plain": [
       "array([0.4128249 , 0.38046966, 0.42787574, 0.4319057 , 0.30090171])"
      ]
     },
     "execution_count": 10,
     "metadata": {},
     "output_type": "execute_result"
    }
   ],
   "source": [
    "import random\n",
    "\n",
    "import numpy as np\n",
    "\n",
    "# pick one of them as a key question\n",
    "key = random.randint(0, len(df))\n",
    "\n",
    "# calc dot product between the key and other questions\n",
    "embs = np.array(df.embedding.to_list())\n",
    "similarities = np.dot(embs[key], embs.T)\n",
    "\n",
    "# print similarities for the first 5 questions\n",
    "similarities[:5]"
   ]
  },
  {
   "cell_type": "markdown",
   "metadata": {
    "id": "srM04lJBQp4w"
   },
   "source": [
    "Finally, sort the questions with the similarities and print the list."
   ]
  },
  {
   "cell_type": "code",
   "execution_count": 11,
   "metadata": {
    "id": "lTUVvj9FQlab",
    "tags": []
   },
   "outputs": [
    {
     "name": "stdout",
     "output_type": "stream",
     "text": [
      "Key question: Modifying or injecting headers after fetching a git repo using FetchContent\n",
      "\n",
      "1.0000 Modifying or injecting headers after fetching a git repo using FetchContent\n",
      "0.5386 How to set the Content-Type of a Js-File in NodeJS-App\n",
      "0.5346 Is there a way to prevent CORS API requests in service worker?\n",
      "0.5259 Rewrite query string with another get params\n",
      "0.5220 loading raw file from github in R\n",
      "0.5188 Use git clone in PyCharm and save to a particular folder\n",
      "0.5026 How to remove `#HttpOnly_` prefix before MozillaCookieJar load cookies.txt?\n",
      "0.4977 Intellij IDEA - for git commit message to start with some keyword\n",
      "0.4965 How to use GitExtensions branch filter to show the local and remote of a specific branch\n",
      "0.4918 Is it possible to inject JavaScript into the webview of an already built React-native app?\n",
      "0.4914 What is maven variable to get full repository URL where artefact/jar is uploaded\n",
      "0.4861 Docker compose with specified host pulls from wrong registry\n",
      "0.4858 Modify the default created README.md in GitLab when a new project is created\n",
      "0.4853 For application(_:didReceiveRemoteNotification:fetchCompletionHandler:) how to implement custom completionHandler?\n",
      "0.4846 Run a certain job depending on the source branch from a PR\n",
      "0.4828 How to wrap net.Conn.Read() in Golang\n",
      "0.4788 Git compare with upstream committerdate to the second\n",
      "0.4741 A problem requesting base64 encoded file React - Spring Boot\n",
      "0.4708 C# - Send a file in the body of an http request using RestRequest\n",
      "0.4706 Gitlab README.md Variables\n"
     ]
    }
   ],
   "source": [
    "# print the question\n",
    "print(f\"Key question: {df.title[key]}\\n\")\n",
    "\n",
    "# sort and print the questions by similarities\n",
    "sorted_questions = sorted(\n",
    "    zip(df.title, similarities), key=lambda x: x[1], reverse=True\n",
    ")[:20]\n",
    "for i, (question, similarity) in enumerate(sorted_questions):\n",
    "    print(f\"{similarity:.4f} {question}\")"
   ]
  },
  {
   "cell_type": "markdown",
   "metadata": {
    "id": "S75SQzAg1wHV"
   },
   "source": [
    "# Find embeddings fast with Vertex AI Vector Search\n",
    "\n",
    "As we have explained above, you can find similar embeddings by calculating the distance or similarity between the embeddings.\n",
    "\n",
    "But this isn't easy when you have millions or billions of embeddings. For example, if you have 1 million embeddings with 768 dimensions, you need to repeat the distance calculations for 1 million x 768 times. This would take some seconds - too slow."
   ]
  },
  {
   "cell_type": "markdown",
   "metadata": {
    "id": "0sjhTy-a47YH"
   },
   "source": [
    "So the researchers have been studying a technique called [Approximate Nearest Neighbor (ANN)](https://en.wikipedia.org/wiki/Nearest_neighbor_search) for faster search. ANN uses \"vector quantization\" for separating the space into multiple spaces with a tree structure. This is similar to the index in relational databases for improving the query performance, enabling very fast and scalable search with billions of embeddings.\n",
    "\n",
    "With the rise of LLMs, the ANN is getting popular quite rapidly, known as the Vector Search technology.\n",
    "\n",
    "![](https://storage.googleapis.com/gweb-cloudblog-publish/images/7._ANN.1143068821171228.max-2200x2200.png)\n",
    "\n",
    "In 2020, Google Research published a new ANN algorithm called [ScaNN](https://ai.googleblog.com/2020/07/announcing-scann-efficient-vector.html). It is considered one of the best ANN algorithms in the industry, also the most important foundation for search and recommendation in major Google services such as Google Search, YouTube and many others.\n"
   ]
  },
  {
   "cell_type": "markdown",
   "metadata": {
    "id": "xVOL8BgM2isz"
   },
   "source": [
    "## What is Vertex AI Vector Search?\n",
    "\n",
    "Google Cloud developers can take the full advantage of Google's vector search technology with [Vertex AI Vector Search](https://cloud.google.com/vertex-ai/docs/vector-search/overview) (previously called Matching Engine). With this fully managed service, developers can just add the embeddings to its index and issue a search query with a key embedding for the blazingly fast vector search. In the case of the Stack Overflow demo, Vector Search can find relevant questions from 8 million embeddings in tens of milliseconds.\n",
    "\n",
    "![](https://storage.googleapis.com/github-repo/img/embeddings/textemb-vs-notebook/9.png)\n",
    "\n",
    "With Vector Search, you don't need to spend much time and money building your own vector search service from scratch or using open source tools if your goal is high scalability, availability and maintainability for production systems."
   ]
  },
  {
   "cell_type": "markdown",
   "metadata": {
    "id": "uBt8tjidSzyU"
   },
   "source": [
    "## Get Started with Vector Search\n",
    "\n",
    "When you already have the embeddings, then getting started with Vector Search is pretty easy. In this section, we will follow the steps below.\n",
    "\n",
    "### Setting up Vector Search\n",
    "- Save the embeddings in JSON files on Cloud Storage\n",
    "- Build an Index\n",
    "- Create an Index Endpoint\n",
    "- Deploy the Index to the endpoint\n",
    "\n",
    "### Use Vector Search\n",
    "\n",
    "- Query with the endpoint\n",
    "\n",
    "### **Tip for Colab users**\n",
    "\n",
    "If you use Colab for this tutorial, you may lose your runtime while you are waiting for the Index building and deployment in the later sections as it takes tens of minutes. In that case, run the following sections again with the new instance to recover the runtime: [Install Python SDK, Environment variables and Authentication](https://colab.research.google.com/drive/1xJhLFEyPqW0qvKiERD6aYgeTHa6_U50N?resourcekey=0-2qUkxckCjt6W03AsqvZHhw#scrollTo=AtXnXhF8U-8R&line=9&uniqifier=1).\n",
    "\n",
    "Then, use the [Utilities](https://colab.research.google.com/drive/1xJhLFEyPqW0qvKiERD6aYgeTHa6_U50N?resourcekey=0-2qUkxckCjt6W03AsqvZHhw#scrollTo=BE1tELsH-u8N&line=1&uniqifier=1) to recover the Index and Index Endpoint and continue with the rest."
   ]
  },
  {
   "cell_type": "markdown",
   "metadata": {
    "id": "6pu1a3zjfQ0D"
   },
   "source": [
    "### Save the embeddings in a JSON file\n",
    "To load the embeddings to Vector Search, we need to save them in JSON files with JSONL format. See more information in the docs at [Input data format and structure](https://cloud.google.com/vertex-ai/docs/matching-engine/match-eng-setup/format-structure#data-file-formats).\n",
    "\n",
    "First, export the `id` and `embedding` columns from the DataFrame in JSONL format, and save it."
   ]
  },
  {
   "cell_type": "code",
   "execution_count": 12,
   "metadata": {
    "id": "GzZ30d4j_uLU",
    "tags": []
   },
   "outputs": [
    {
     "name": "stdout",
     "output_type": "stream",
     "text": [
      "{\"id\":73525235,\"embedding\":[-0.0325084925,-0.0236521289,0.0041104658,0.0736621097,0.0247280318,0.0021664947,0.0059175072,-0.0105451411,-0.0384921022,-0.0012724526,-0.0187571328,-0.0109788328,0.0408273675,0.0166702699,-0.0559448116,0.0170387086,-0.052383393,0.0164975412,-0.0100128734,0.0032145556,0.0004338344,-0.0399251133,-0.0011652242,0.0249128956,-0.0091705583,-0.0293489974,-0.0382590219,-0.0565970093,0.0550585203,-0.0638887361,-0.0300719943,0.0287593398,-0.0095329704,-0.0179048497,-0.0282856394,0.0472363122,0.0164466426,0.0396668687,-0.0388829373,-0.0019975442,-0.0017382626,-0.0033254726,-0.0340468436,0.0509799123,-0.0351231694,-0.0083388239,-0.0052341339,0.0525036789,-0.0037291253,0.0029870558,0.015525328,-0.0053623761,0.011789836,0.0513618626,0.014915565,-0.010615088,-0.039855931,-0.0361687578,0.031049801,-0.04099961,0.0749264807,0.068682231,0.008572259,0.0460935123,-0.0190710928,-0.013719948,-0.0605407767,-0.0713854581,-0.0428009965,0.0896296352,0.0397188626,0.0210764147,-0.0452368557,-0.0012941965,-0.005769779,0.0170465875,-0.0016822718,-0.000200432,0.0295714065,-0.0059186714,0.0384635925,0.0445619188,-0.0123086171,-0.032125812,0.0434907489,0.0518556796,0.0079517951,-0.0050348486,0.0347282328,-0.0368001498,0.0510716066,0.0286360644,-0.0057963263,0.0414737165,0.0783313662,-0.0341925547,-0.0833403766,-0.061920315,0.0576050617,0.0433446206,0.0074689384,0.0312632099,-0.0723533779,-0.03801452,0.022472987,-0.0781377405,-0.0429198146,-0.0674742684,-0.0526012182,0.0462859794,-0.0120489495,-0.0176753774,0.0319117308,0.005035595,-0.0577046461,0.017000135,0.0084609017,-0.0343825966,-0.0188387092,-0.0249767173,0.0277717095,0.0472753942,0.0120746111,0.0389546491,0.0594745353,-0.0153394397,-0.0017438285,0.0236930586,-0.0114831636,-0.0007614113,0.0078255031,-0.0556467921,-0.0718939602,0.0214169417,0.0046274485,-0.0237860121,0.0211421046,0.0003338561,0.0362467282,0.0527392589,0.0402621962,0.0102228802,-0.084272705,0.0507842936,0.0473445468,-0.0097854948,0.0781841651,0.0333649218,-0.0047979131,-0.0471213199,-0.0359700508,-0.0066915378,0.0088881291,0.0049371365,0.0003103133,-0.0131389517,0.0722803995,0.0138756065,0.0256751794,0.0444190465,0.0219866391,-0.0531071052,-0.0436969772,0.0415861607,-0.0185887776,0.061003726,-0.0444810353,-0.0572481118,-0.0049778982,0.0673217028,-0.0265669692,-0.0244716816,-0.040608108,-0.0068548927,-0.0092075206,0.0514998622,-0.0256328285,-0.0309551451,-0.0238713603,0.000921146,0.0217031147,0.0744513199,-0.0170801468,0.0082966322,0.0677719787,-0.0567721091,0.0001631094,0.0602778085,0.0268692989,-0.0232545957,-0.023786664,-0.0078695295,-0.0101478072,0.0538719781,-0.0031309414,-0.0214520395,0.010420071,-0.0552068688,-0.041338142,-0.0625306293,0.0106439954,-0.0334701352,0.0010116257,-0.0197146572,0.0435503088,0.0450616218,0.0670789182,-0.0321309045,0.0369921327,0.0122707263,-0.0250004921,0.0613577925,0.0371983983,-0.0550146662,0.0110903876,-0.0078432206,0.0359349772,0.0231937338,0.0802344531,0.0443982407,-0.0197811276,-0.000137542,-0.0600391962,0.0184259824,0.0530204996,0.0203719586,-0.1004503891,-0.0907488987,0.0798646286,-0.035091117,-0.0200887341,0.0366199575,0.0187954605,0.0744965672,-0.0216765963,0.0382278152,0.0416074172,-0.0106688887,-0.0103594698,0.0355384275,-0.0848143101,0.0150201051,0.0353286713,0.0184953045,0.026337238,-0.0526391156,0.0138034951,0.0963025764,0.0148286298,-0.0711952224,0.0177144948,-0.0084398733,0.038568303,0.0255050603,-0.0085956613,-0.0202091057,0.017411178,-0.0237897374,0.0085465442,-0.0336004123,0.0234395526,-0.0063390215,0.002332092,-0.0508514866,-0.0021842299,-0.0460682735,-0.0443227775,-0.0465404801,0.0364919491,0.0196731184,0.0345172249,-0.0410672873,-0.048638802,0.0250102803,-0.0429327264,-0.007938643,-0.0048268735,0.0354013145,0.0189014673,-0.0500555299,-0.0048085195,-0.0254008248,0.0181038678,0.033341419,0.0201331507,-0.031140754,0.0381508321,0.0121656312,-0.0170568582,0.0349961445,0.0452538095,0.0551294982,-0.0141576696,-0.0092046848,0.0013265667,-0.0249921586,0.0187326726,0.0169807356,-0.0042124907,-0.0081473859,0.0206823181,0.0032734787,0.019320881,0.0736828372,-0.0238450896,0.0172676574,-0.0063055158,0.0353223197,-0.0086697498,-0.020499086,0.0474722832,-0.020371072,-0.0257270001,-0.0108141433,0.0156694688,0.0080929659,-0.0674190074,-0.0430770852,-0.0356148332,0.0061092339,0.061668437,0.045153752,0.0402945243,0.0761346519,-0.0021987245,-0.0286510214,-0.0310861543,0.0382977873,-0.041528549,-0.0114039583,-0.0253745131,0.0174139645,0.0000184693,0.0102355843,0.0369116366,0.0581440739,-0.0596168004,0.0409430452,0.1077636406,0.0419420563,0.0189695843,0.0189528968,0.0349190123,0.0044354023,-0.0276873559,-0.0267894045,-0.0198573973,0.0368026085,-0.0253191013,0.0425065272,0.030362729,0.0463900119,0.0419032127,-0.0134805534,-0.0520805009,-0.0190622602,0.0444822647,-0.0410216376,-0.029263448,-0.0324710682,0.0415761322,-0.0198252164,-0.0517371111,0.0123222452,0.0014462548,0.0220152568,0.0074915788,0.0885615125,-0.0292249732,0.030500846,-0.03168533,-0.0111413253,-0.0001727904,-0.0108565958,0.0333528146,-0.0368457623,-0.0593266077,0.0328212343,0.0087542385,0.014483531,-0.0326364152,0.0043069068,0.0251150541,0.0633748248,-0.0435701981,0.087728858,0.0132450294,0.0184915271,0.0225784928,-0.0363337435,-0.0246732887,0.0773499608,0.008850662,0.0054068873,-0.062035799,0.0558336899,-0.0343823768,0.0231566373,-0.0312655717,0.0252014603,-0.0498839431,-0.0188858435,-0.039193023,-0.0207407475,-0.0485470034,0.0027447019,0.0577904508,-0.0183703247,0.0441435575,0.0057119969,0.0496592335,-0.003041327,-0.0080361459,-0.0193350352,-0.0078844475,-0.0020401911,-0.0493705422,-0.0429350547,0.0071324343,0.0072654928,0.0025515703,-0.0004142211,-0.001002007,-0.0418859459,-0.0001046338,-0.062884286,0.0416267887,-0.0055786637,0.0122430669,0.0109316893,0.0698468685,0.0223620348,-0.0925281942,0.0106878262,-0.0037168195,-0.0035583198,0.0162105598,-0.0032445109,-0.0349425115,-0.0268749893,0.0313212983,0.0113985995,0.049091015,0.0087101813,0.0049505113,0.0319118723,-0.0006468532,0.0551529191,0.0322812833,-0.0193362273,-0.0087853493,0.0249875188,0.0032515796,-0.0615501702,-0.0465509519,-0.0202498045,0.0336316712,0.0337007679,-0.0038786635,-0.0178653039,0.001038908,0.0084386505,0.0072699552,-0.0100310585,0.0059094247,-0.0259192958,-0.0244344976,-0.0203154329,-0.0264054388,0.007073631,-0.0053240256,-0.013365997,0.0119986227,0.0601040833,-0.0134967221,0.0091705332,0.0308290422,0.0118309502,-0.0133228926,0.0009741993,-0.0183438603,0.0287560299,0.0023124383,0.026692776,0.0256482419,-0.0115092862,-0.0468149595,0.0442600735,0.0335884839,0.0059441426,0.0064270911,0.0080795167,-0.0287024826,-0.0295788795,-0.033001665,0.000174751,-0.0201456249,-0.0228918754,0.0095815584,0.0263627078,0.0593810901,0.0815349594,-0.0447680168,-0.0362980776,0.0038728369,0.0294152088,-0.0216705166,0.0194504485,0.0716196597,0.0008036239,0.0136595294,-0.0522433408,-0.0285619088,-0.0022671674,-0.0151179805,0.0143829491,0.0092405034,-0.0741222426,0.0393319689,0.0326983407,-0.0393367968,-0.0002297303,0.0049863821,-0.0287762601,-0.0243934002,-0.029834386,0.04851491,-0.0123124784,-0.0004728022,0.0187639557,-0.0218305513,-0.0046948679,0.0438244827,0.0212947205,-0.0437144488,0.0116457175,0.0487515219,0.0924051031,-0.0002865048,0.0195081141,-0.0774292499,0.0461436175,0.0207054503,0.0015438441,0.0690854266,0.0389105044,0.0141683901,-0.0299562197,-0.0450350903,0.0620183088,0.0330734216,-0.0545916669,-0.0146630332,0.0007750781,0.0596150011,-0.0086353244,0.0367139503,-0.0574747175,-0.0035289316,-0.0041787913,0.0934283584,0.0032792396,0.0157992207,0.0261701904,-0.0384159721,-0.0262907799,0.0151678929,0.0451753475,-0.0331015661,-0.0216793641,-0.0562490337,-0.0200744383,0.0388585627,0.0632779822,0.0036683667,0.0303681567,-0.0281336922,0.0828054845,0.0287969951,0.0123778209,-0.0344957486,0.0080709001,0.0907161236,0.0093089696,-0.0320476592,0.008826145,-0.0087281596,-0.0722654536,-0.0513742194,0.0234018452,-0.0506327525,-0.0233480614,0.0316325612,-0.0147263883,0.044572182,-0.0300609451,-0.0471936278,0.0176382177,0.0049791844,-0.0060704611,0.0401859395,-0.0570052341,0.0342374742,0.0414536521,0.0055613145,-0.0098449877,0.0035635184,-0.0324701853,-0.0283737425,0.020362407,0.0121305808,0.0509977564,0.0124160303,-0.0144458059,0.0243425649,-0.0287591815,-0.0279208347,0.0408108234,0.0170752797,0.0247807745,-0.0171420835,0.003064346,0.0215349216,0.0002515459,0.0121994419,-0.0043314374,0.0766028017,0.0131271109,0.0359753482,0.0314363092,-0.053888198,0.0062833591,0.0596609116,0.0360301845,-0.0317385942,-0.0618366562,-0.0065617291,-0.0029981791,0.0025122857,0.0259926878,0.031410221,0.0132248159,0.060262993,0.026006978,-0.0654700249,0.0718134269,-0.0008155256,-0.0211737584,0.0013705088,0.0407885723,-0.0298603922,0.0672580451,0.0198417306,0.022458801,-0.0600314401,0.0499169193,-0.0066946708,-0.0029976454,0.0276657268,-0.0077445577,-0.0131072747,0.0143372072,-0.0473859645,0.0103733111,-0.0082943467,0.0716414377,0.0332306027,-0.0038219977,0.0300721228,-0.0172528755,-0.029891463,0.0662556142,-0.0040730643,0.0256922673,0.0053468971,-0.0131509947,0.0386703834,0.0271426961,-0.0148653705,-0.0276293457,-0.0428215116,-0.0138169173,0.0340120643,0.0019483727,0.0709828809,0.0641848519,0.0194150805,-0.0202395413,0.0499811843,-0.044752907,-0.0045714327,0.0247234255,-0.0383671112,0.0081876097,-0.0180356,0.0289409477,-0.0558406338,0.0530171096,-0.0037394105,0.0389467105,0.0570267774,0.0499158502,-0.0397341922,-0.0281644855,-0.026541857,-0.0415005833,-0.0173292123,0.0119049,0.0122021269,-0.0162303075,-0.026798401,0.0062648589,0.0309222098,-0.0327546932,0.0307991263,0.0034218458,-0.0420865379,0.0216366556,0.0038023894,-0.047756929,0.0110231396,0.0102738561,0.0422488824,-0.0196929909,0.0304686148,-0.004367955,0.0179166477,0.0045518884,-0.0113080107,0.0350419395,0.0611088164,-0.0312420279,-0.0486044027,0.0022380052,-0.0416255891,-0.0242809094,-0.0174464229,0.0163433813,0.0129814064,-0.0337201729,0.0403967015,0.0174978506,-0.0716099218,-0.0220622569,-0.0220202003,0.018495841,-0.0188657418,-0.0036405227,-0.0150606018,-0.0281966273,-0.0525540449,0.0363871194,0.0154695576,0.0424052663,-0.0009413043,-0.0571172386,0.0620089434,-0.0208334196,0.0594390966,-0.005325967,0.0030215117,0.0271166451,-0.0161533672,-0.0328538232,-0.0316498987,0.008678915,0.0413395017,0.0268031415]}\n",
      "{\"id\":73706459,\"embedding\":[-0.0062281517,-0.0251861829,-0.0283733141,0.0017704025,0.01705461,0.0397132859,-0.0348464251,-0.0265222955,-0.0206060149,-0.0107199885,-0.0081706224,0.0296994857,-0.036831487,0.0281433165,-0.1146332696,0.0038924813,0.0580191016,0.0180461761,-0.0640020743,-0.0223411247,-0.0033106224,-0.0615441985,-0.0178732499,0.0340912044,0.021326879,0.0123122139,0.000318889,-0.0532846004,0.0241151433,-0.0184934922,-0.0474277325,0.0310753286,0.015055282,-0.0343078449,0.0370031446,0.0046662102,-0.0403065495,0.0094778454,0.0164351966,-0.0087832799,-0.082841523,-0.0311823152,-0.0087222736,0.0047327797,0.0041498821,0.0369506925,-0.0706140399,0.0383527428,-0.0174670331,0.020305723,0.0785205886,0.0106886355,-0.0076286676,0.0104834242,-0.0057063606,-0.0225960743,-0.0298047103,-0.0342687331,0.0328015462,0.0243809782,0.0058280942,0.0030834647,0.014674101,-0.012328255,-0.0216342937,0.0341616683,-0.0705526918,-0.0278820861,-0.0178009402,0.007807387,0.057348527,-0.0357648507,-0.0373123251,-0.0974090174,-0.0011719821,-0.0002283908,-0.0211378001,0.0113877086,0.0005365088,-0.0047406801,0.0705244094,0.0601067692,0.0119704902,-0.0712037459,0.0124919042,0.008475123,-0.0236713346,-0.0043099038,-0.0014670745,-0.0383330509,0.0027077661,0.0637362599,-0.0348209403,-0.0388893187,0.1211689562,-0.0207478218,-0.063150309,-0.1069988981,0.0371314213,-0.0495392866,-0.0306813885,0.0387510546,0.0028767323,-0.058406163,-0.0316545293,-0.0143484697,-0.0802467763,-0.1007630751,-0.0348763466,0.0071657016,-0.0185620226,-0.0183433685,0.0958819315,0.0550363399,-0.0256892741,0.0316048972,0.0024782724,-0.0271429233,-0.0257518571,0.0473716184,0.0143232374,0.02231941,-0.0238129217,0.0360216461,0.0401327759,-0.0085604209,-0.0083947591,0.0310359206,-0.009003045,-0.0353686884,0.0478610806,0.0183083788,-0.0408033244,-0.0081110764,-0.0118701467,-0.0453126319,-0.0175575372,-0.0038036157,0.0271711573,0.05061711,0.0444829948,-0.0350348204,-0.0927924365,0.0195703022,-0.0074251122,0.0151569871,0.034248542,0.0489511639,-0.006858631,-0.0432414524,-0.0945644304,0.0107368333,0.0263722241,-0.0365158468,0.0151101677,-0.0258600172,0.0177413449,0.0095100394,0.0065042647,0.0437578447,0.0605226569,-0.0719239563,0.0311325416,0.0098133851,-0.0261367112,0.035867162,-0.0267246813,0.0661814287,-0.0086270552,0.0271718558,-0.0820203945,-0.0087215528,-0.0131485853,-0.0349129699,0.0110349702,0.0437645875,0.0151800979,-0.0368283279,-0.0288918093,0.006250767,0.0277315136,0.1065209582,-0.0174849834,-0.0071654734,0.0551679432,-0.0553445853,-0.0164216831,0.0186904371,0.0539128408,-0.0465616472,-0.0087109655,0.0311034154,0.0016879281,0.0218825005,-0.0253388006,-0.0194575079,-0.022154903,-0.0023904804,-0.0441002697,-0.0295645203,0.0490501858,0.0051283268,-0.0338300839,0.0446381383,-0.010444764,-0.0056487247,-0.009271197,-0.054834567,0.0079256343,0.0257923827,-0.0286165643,0.0463967584,-0.0278548859,-0.0669180006,0.0170918275,-0.0284806117,0.0198043119,0.0053296122,0.0275907069,0.0456691235,-0.0019439687,0.0110396836,-0.0324004181,-0.0108123627,0.0300424043,0.0348149724,-0.0713476017,0.0178825501,0.0327358544,-0.0201141741,-0.0487408452,0.0538950004,0.0105751371,0.0674250498,-0.0281275827,0.0413288102,0.0195418485,-0.0468199588,-0.041734606,-0.0226973388,-0.0612486564,0.013646028,-0.0160513334,0.0541392975,0.024506662,-0.0369464308,0.0011192119,-0.0046797353,-0.0154305678,-0.0537364222,0.0442946069,0.008005864,0.0342254713,-0.038450323,-0.0198879261,-0.0009035979,0.0019636552,0.0310922973,0.0150298085,0.0383729227,-0.0139990244,0.0566963553,-0.0548678264,-0.0192019083,-0.0064462428,-0.0014621286,-0.0219630934,-0.0349660665,-0.0198079571,0.0455071591,0.0051674526,0.0039161756,-0.0633451045,-0.0198918581,-0.0741519704,-0.005980988,-0.014291238,0.0076685799,0.0135898227,-0.048287686,-0.0095187277,-0.012364055,0.0110657299,0.0162591822,-0.005842715,-0.0521512255,-0.0376018733,-0.018433854,-0.0337953605,0.002040287,0.0370721631,0.0486244671,0.0497142896,-0.0243397914,-0.0096918922,-0.0126932142,0.0134645682,0.0240856949,0.0353671685,-0.0495140143,0.0284286197,0.0528576039,-0.0222992226,0.0980152935,-0.0019587257,0.0509737767,0.0428449884,0.0396658555,-0.0069306963,-0.044903513,0.0380064026,-0.0012772604,-0.0360499881,0.0304722898,-0.038969852,-0.0085222591,-0.0727160349,0.0131745767,-0.005349339,0.0630588755,0.0613669381,0.0256548729,-0.0164487604,0.0202763192,-0.0348032676,-0.0079044094,0.0015724016,-0.0249564815,-0.0190726891,-0.0024645587,0.0384882577,0.0231187083,0.0282996371,0.0039187176,-0.0593532212,0.0057339021,-0.0623140745,-0.0065141516,0.074246265,0.0027563104,0.0168543551,0.0455854982,0.0253701378,-0.0242313072,-0.0631753355,-0.0112367272,-0.0340628624,0.022666458,0.0105495993,-0.0263209362,0.0639647245,0.0971507579,-0.026987467,0.0118862707,0.018234292,0.0039285151,-0.0009926704,-0.0152843222,0.0505579077,-0.0132185509,0.0044171968,-0.0135989226,-0.0282491446,0.0445118919,0.0040639467,0.0197951142,0.0075084302,0.0788190067,0.0135597121,-0.0603367016,-0.0748231709,-0.0209133364,-0.0453534015,-0.0429899581,-0.010179461,-0.0358413532,-0.0308227297,-0.0031621763,0.0385420024,-0.0308835749,-0.0106321359,-0.050402835,-0.0021839547,0.0485986359,0.0112714265,0.0838823617,-0.0094691347,-0.0037173501,0.048351001,-0.0764138848,-0.0128754685,0.0610001385,0.0091362009,-0.0019171581,0.0610329323,0.0320075154,-0.0483546183,-0.0024381413,-0.0063079032,-0.0103757959,-0.0302518047,-0.0181447119,0.0361351259,0.0060761315,-0.0249967743,-0.0149245411,0.0095710792,0.0040310835,0.0223336685,0.0719787106,0.0250696875,-0.001113198,-0.0563215651,-0.0051417979,-0.005451024,0.0352184214,0.0215917248,0.0353829376,-0.0355367847,0.0198201947,0.0219789911,-0.0147298826,0.0032918816,-0.0176716819,0.0294057373,-0.0659191087,0.0016509834,-0.0060668048,0.0194861405,-0.0169567298,0.0487231202,0.0227948818,-0.0862740353,0.0390461534,0.0307053924,0.0020480244,0.0262627546,-0.0719057098,0.0416352712,0.0622309595,0.0339245237,-0.0018024354,0.0915291682,0.0209545698,-0.0195282791,-0.0130976513,0.045638103,0.0397370495,-0.0085785184,-0.0197974015,0.0132735055,0.0138185974,0.0490778461,-0.0457618162,-0.0114527326,0.0046776552,0.0845432654,0.0142969349,-0.030693626,-0.0327966474,-0.0203744043,0.0148074767,-0.0482008271,-0.0118670082,-0.0199908335,-0.0255759954,-0.0277595315,0.02738408,0.0234073568,-0.0640761256,0.0555240139,0.0131857684,-0.0329914093,0.0532242134,-0.0323379785,-0.0122140227,-0.0042374558,-0.0324924588,-0.0094770174,0.0143807391,-0.0170333423,-0.0044082603,-0.0024290541,-0.0181796923,-0.051391039,-0.0568465926,0.0005445575,-0.0431382246,0.0143211009,-0.0386313125,-0.0002023528,0.0386760458,-0.0231361166,-0.0443629064,-0.0195934381,-0.0085979151,0.0171908382,-0.0525618307,-0.0217647869,0.0608590096,0.0567492098,0.0315136313,0.016068643,-0.0392536819,-0.0072806752,0.0159381386,-0.0207973849,0.0046616043,0.0757164955,0.0365141667,0.0078739775,-0.0100925481,0.0439144932,0.0152299013,0.0566515662,-0.0048661404,-0.0088710999,-0.0637757629,0.0237820204,0.0574884713,-0.0146839572,-0.001640429,0.0073310365,-0.0025796338,0.0422260053,-0.0171381384,0.0054022227,0.0325427093,0.0392993875,-0.0145061696,-0.0115887569,0.0019493623,0.0279000234,0.0172442868,0.0538545996,0.0333254747,0.0315062962,0.0262733474,0.032338433,0.0517988205,-0.0417401642,0.0574656203,-0.0069380533,0.0195377655,0.0366457403,0.0424178094,0.0019691398,-0.0044449135,0.0122166425,0.0784912556,-0.0040463326,-0.0275926143,-0.0357185714,0.0181942284,0.0098572895,-0.0802056566,-0.0016828715,-0.0620847382,-0.0058638379,0.0009331424,0.0278456528,0.0240249671,-0.0341285318,-0.0204573181,0.0084398007,-0.0197398253,-0.0132544199,0.0235945322,-0.0269941427,0.0263536051,-0.014735939,-0.0445954949,0.0522009619,0.0000635899,0.0447665416,0.0199354105,-0.0306077693,0.0082741408,-0.0419941917,-0.0361454114,0.0237603094,0.0059142993,0.0435280986,0.0533551276,-0.0013051508,-0.0185738318,0.0049454891,-0.0492508486,0.0066932021,0.0384088159,-0.074177742,-0.06538032,-0.0031518131,-0.0598468184,0.0130957132,-0.0085083749,-0.0315572396,0.0476566143,0.0133594889,-0.0476649888,0.030479135,-0.0052193874,0.0120598655,-0.020821359,0.0173993669,-0.0174385421,-0.0048307171,0.0011532645,0.0138195921,0.0270559192,-0.0025711895,0.0542898998,0.0145149399,0.0067616906,-0.0712398514,0.0096918726,0.0170380119,-0.0176921785,-0.0073650731,0.0135361692,-0.018327402,0.0189619791,0.0110464683,-0.0383676514,-0.0149355978,-0.0262649767,-0.0618556179,-0.0082566068,0.0345601439,0.0503882729,0.0380212888,0.0848668814,0.0049436809,0.018568784,-0.0064658145,-0.0103796786,-0.0407420695,0.0005333337,0.0438443832,0.008108045,-0.0062879049,-0.0151562253,0.0285380762,-0.0145319412,-0.0227891393,0.0436838679,0.0246335454,-0.0323758498,-0.005489253,-0.0122982087,-0.0072543905,0.1098069623,-0.0166436583,-0.0094386628,0.012804267,0.0043874141,-0.0328010954,0.0285205897,0.0407633968,-0.0288850814,-0.0512122512,-0.0038447643,-0.0719212517,-0.0405310802,0.0193049107,0.0322023705,-0.0856509358,-0.0553884655,0.019973278,0.0174151212,-0.0316874161,0.033165548,0.0184998401,0.0369551666,0.0437596813,-0.047428932,-0.0014071811,0.0616196506,-0.0189666767,-0.0044789556,-0.0518124364,-0.0247192103,0.0051641231,0.0023684227,0.0486311354,0.0485243872,0.0370947123,-0.0454517901,0.0397274569,-0.0265751798,0.0323092379,-0.0197331477,-0.0418899246,-0.0041068187,-0.0465818681,0.0243086815,-0.0723752975,0.0539394431,-0.0293217227,0.0279857125,0.0394412167,0.0132644624,-0.0527839996,-0.009211313,0.0180770196,-0.0522225872,0.0094892494,0.0405044742,-0.0316352099,0.0040473877,-0.0056016142,-0.0044967178,0.0667057335,0.0306663308,-0.0088405199,0.0307510123,-0.0155855333,0.0232360885,-0.0043157404,-0.0381706543,-0.0242300574,0.0021802972,0.0409531184,-0.013577492,0.0248077214,0.0228124596,-0.0137246326,0.0130422767,-0.0031081624,0.0240258928,-0.0232707094,0.0198800862,-0.0223962106,0.0118360277,-0.0344070718,0.0476093404,-0.0244694855,0.0246593524,0.0045159128,-0.0584792756,0.015822405,0.0182164609,-0.0596237704,-0.0596485026,-0.0385835208,0.0246110633,-0.0005706382,0.0242860503,-0.0478255153,0.026414765,-0.0710492432,0.0136785256,-0.0682686716,-0.0087885549,-0.0179945435,-0.0181512255,0.0445658639,-0.0053301039,0.0569575094,-0.0391955301,-0.0263059121,0.0071380553,-0.0257451478,-0.03816415,-0.0014544895,-0.0402045436,0.0626037419,-0.0114751933]}\n",
      "{\"id\":73752484,\"embedding\":[0.0123585733,-0.0059218276,-0.0211510267,-0.0036784511,0.0338572711,0.091137208,0.0169391613,-0.0297012571,0.0007977023,0.030754365,-0.0117900614,0.0130338026,-0.0265155099,0.0269849971,-0.0378729366,-0.0170049071,-0.00707991,-0.0260878168,-0.0573882982,-0.0303859543,-0.0112430928,-0.0473283008,-0.0954131708,0.014805356,0.0195607431,0.0182525516,-0.007593093,0.0266705155,0.0321965069,-0.0171639267,-0.0117489155,0.0057701659,0.0156922098,-0.0275660828,-0.0029019937,0.0311792921,0.0129406443,0.0097189732,-0.0252764355,0.0090740314,-0.033335492,0.0772073865,-0.002150093,0.0609286316,0.0314238593,-0.0054920716,-0.0154760862,-0.003851935,0.0036944544,0.0472374521,0.0297626369,0.0189777054,0.0574485771,0.0370640382,0.0026427454,0.029953206,0.0245868955,-0.0355981737,0.0281254649,0.0234700479,0.0050403737,-0.0011649238,-0.0087530455,-0.0427598096,0.0166928694,-0.0345428959,0.0200654063,-0.0153047796,-0.0317782648,0.0255430248,-0.0118089402,0.0519118458,-0.0037605485,-0.044434268,-0.0239394195,0.0122144734,-0.0274025165,0.0089016575,0.0064711864,-0.0312489104,-0.0007434684,0.0644675046,-0.0012733027,-0.0432771407,0.0456614085,-0.0385499448,-0.0308667868,-0.0403093733,-0.0292748734,-0.0207044017,0.0750219822,0.0220360197,-0.0591952726,-0.0168722197,0.0336252488,-0.0169557966,0.0074536745,-0.0785543323,0.0615319908,0.0143457986,-0.0141765391,0.0423717089,0.0295677613,-0.0543187149,-0.0006558094,-0.0406866595,-0.0042953584,-0.0202464666,-0.0369780287,-0.002962837,0.028470045,0.0091986815,0.0349102281,-0.0130746868,-0.0662727281,0.0851025209,0.0580115952,0.0407495946,0.0229716059,0.0018268696,0.0365281813,0.0573829263,-0.0247323792,0.1281451583,0.0457356982,-0.0135054691,0.0559500046,-0.0226496272,-0.03474769,-0.066527307,0.0387318432,-0.0048706112,-0.00709219,-0.0360535495,-0.0134737752,-0.0178355593,0.0623085201,-0.0183105245,-0.0330018662,-0.0393387079,-0.0050871219,-0.0353863202,-0.0858722329,0.0441370569,-0.0900838673,-0.023979295,0.0427660495,0.051002074,-0.0611379854,0.0082415342,-0.0433134511,-0.0433011986,0.0540958494,0.0072073601,0.0071180472,-0.0221372526,0.0077067367,0.0194670465,0.0152982436,0.0431753956,-0.0163054783,0.0171157159,-0.0143425986,0.0424894355,-0.0741117522,-0.0544123314,-0.0307858065,0.0240574777,0.028089311,-0.0582777783,0.0049426993,-0.0100318268,-0.0686264932,-0.0350880697,-0.0218663253,0.0650105998,-0.0763228312,-0.0301391613,-0.0603814796,-0.0436770767,0.0767486021,0.0328908861,0.0041046822,-0.0925765932,0.0208382923,0.0018292712,0.0091078989,-0.0010273481,0.0326357782,0.0284582339,-0.007228829,-0.0128009422,-0.0349218175,0.0285697598,-0.0117651727,-0.0229370203,0.0652352273,-0.0295314323,0.0040791198,-0.0407002792,0.0460557789,-0.0194104332,-0.0582778752,-0.0509642661,-0.0229408965,0.0033278437,-0.023254985,-0.0243106931,-0.0175772998,0.0392593667,-0.0046567754,-0.0047050519,0.0128790308,-0.0804827809,-0.0333148204,0.0112432651,0.0191822611,-0.0090604275,0.12190938,0.0063921097,0.0421736203,0.0093617663,-0.0054114191,0.0328519568,0.0779352561,0.0133489333,-0.0184874441,0.011654539,-0.0184798744,0.0020503993,0.0467076562,0.0189475119,-0.023906501,0.038701456,-0.0214646738,0.0438954122,0.0112233786,-0.0550929643,-0.0096592773,-0.0224551056,-0.0196539704,0.0701362118,-0.0004977037,0.0092622116,-0.0192593671,-0.032404501,-0.0173137486,0.0004744738,-0.0336240418,-0.0411911383,0.0008613309,0.0015614867,-0.0183512028,-0.0219778828,-0.0566026755,-0.0017441371,0.0197104756,-0.0083805965,0.0253588464,0.042029392,-0.0255456567,0.0367309786,0.0038427915,0.0032987574,-0.0502190255,-0.021444913,-0.0275856145,-0.0104298284,-0.0055502872,-0.0000095194,0.0189805422,-0.0049443524,-0.0373293459,-0.027223831,-0.0320932977,-0.0213680491,-0.004043133,0.0425696708,-0.0096840356,-0.0568597876,0.0130176153,-0.0029776609,0.0304318909,-0.0178619921,-0.0076170084,-0.0285702888,-0.0262482539,0.0172840487,0.0315864198,-0.0405162498,0.0161368921,0.0155612025,0.0216013119,-0.0148948692,0.0559220202,0.0322913975,0.0650739819,0.0371568389,0.0411232077,0.0169596002,0.0428810529,0.05575772,-0.0198530052,0.0700347647,-0.0210470594,-0.0202242453,-0.024919726,0.0496648885,0.0265092328,-0.0419062935,0.0269466583,-0.0066665933,0.010418104,0.0105441771,-0.0551148653,-0.0528979637,-0.0573821217,-0.0309579596,0.0005965281,-0.0489091501,0.0570625588,0.0413536243,-0.0301661156,-0.0211225431,0.0221050587,-0.0100330664,0.0325860642,0.0250594299,0.0083068004,-0.0264400505,0.0608447269,-0.0105208838,0.0167541821,-0.0058941632,0.023774283,0.0493069477,-0.0203405153,0.0133641819,0.0413467884,0.0225046016,0.0439227186,0.0128825186,0.0200977754,0.0406141393,-0.0018433001,-0.0167389978,-0.0480485,-0.0076725008,0.0076938658,-0.0081997998,0.0301539246,0.0471040234,0.0211998727,0.0078035169,0.0275480114,0.0447306074,-0.0265127402,0.0089002457,0.0261178594,0.0329398662,-0.0181399453,0.0476968288,-0.0388418883,0.0013097393,-0.0155132674,-0.0249347221,0.0619428009,0.0401205681,-0.0409804136,0.0298534185,0.0036126471,-0.0163355079,0.009778521,0.0138200121,0.0222197659,-0.0540539399,-0.0196123794,0.0056406921,0.0191079229,-0.0190657787,-0.023179166,-0.0225655846,0.0008472208,0.0252522975,-0.04587074,0.0259999968,-0.0522706546,0.0217397436,0.0286375619,-0.025769854,-0.0579283498,0.0670737848,-0.0023043791,0.0372952372,-0.0241963118,0.0657302216,-0.0252984017,-0.0123912646,0.0487438999,-0.0562675297,0.0032788159,0.0010879841,-0.0963014215,-0.0579758808,0.0315069966,0.0393121839,0.0792307556,-0.0112542529,-0.0235304367,0.0050221011,0.0281613469,-0.0460975431,0.0014733961,0.0300080851,-0.0131201418,-0.0038093331,-0.0218654294,0.0062712566,-0.0226659533,0.0622096844,0.0095617902,-0.0067783501,0.0819978863,-0.0829672739,0.009483465,-0.0534967668,0.0326439887,-0.0153165497,-0.0022371623,-0.0125383912,0.0102705183,-0.0416013226,-0.0286235232,0.0192755833,-0.0482067801,0.0133980243,0.01761402,-0.053983584,-0.0598427728,0.011845462,-0.0409989581,-0.0149968071,0.0622167699,0.0157709848,-0.0441374891,0.0199816767,-0.0252010021,-0.018668633,0.0169397369,-0.0065999003,0.0209201686,0.0219585244,0.0438870043,-0.0411443524,-0.0872212723,0.0456092171,-0.0028107709,0.0382141918,0.0333729275,-0.0158448908,-0.0206587408,-0.0447806381,-0.0041653169,0.0208322275,0.0413060747,0.0030422451,-0.0787264109,0.0843786597,0.0129194194,-0.0388711318,0.0600733943,0.0753055215,-0.0301524028,0.0128178485,-0.0850246921,0.0370316654,0.0270540286,0.0078440364,-0.0287097152,-0.0214322861,-0.006091455,0.0124066919,0.0112691047,0.0549256317,-0.0100093912,-0.0078374101,-0.0136091178,-0.0231169779,-0.0234028716,-0.0044822702,-0.0079685058,0.0504591726,-0.0656442568,-0.0446632579,-0.0454646535,-0.0119647123,-0.0080540497,0.0176800378,0.0420122333,0.098095268,0.0133347735,0.0472145863,0.0440633148,-0.0474522971,-0.019917924,-0.0525124855,-0.0061490252,0.0382203832,0.0495180562,0.0178538263,-0.0031101499,-0.0011505843,0.0820861533,0.0329176225,0.0045748106,0.0711956546,0.0624385253,-0.0159817766,-0.0258434489,0.05281014,-0.0497332513,-0.055368945,0.0409160592,0.0057120677,-0.0329434052,0.0276354868,-0.0276749637,-0.0085322689,-0.001403286,-0.0377931707,-0.0055313478,0.087226741,0.0529410318,0.0046186694,0.0238904655,0.0672349632,0.0613099858,0.0115306051,-0.0048566703,-0.0052324585,-0.0396501459,0.0486915857,-0.0363555439,-0.0166932493,0.0040822546,-0.001437379,-0.0201181248,0.0147204297,0.0201313812,0.0134929204,-0.0058244485,-0.0529598035,0.0017455016,0.0313068479,0.0065864455,-0.0001480168,-0.041061487,-0.0242113173,0.0267981514,0.0004719418,0.0280125421,-0.0031385841,-0.0097283972,-0.0220434405,-0.0079608271,-0.0144140106,-0.0136899734,0.0451232269,-0.0279414617,-0.0390261076,0.0357997492,-0.0466675498,0.00683073,-0.0465741977,0.0065481672,0.0184744466,0.0117427846,-0.0105854925,-0.0044408613,-0.0573884621,-0.0037817836,0.0737924501,0.0867711753,-0.0103689162,-0.0086692376,-0.0412602723,0.0121830925,-0.001220334,-0.0391813293,0.0173507743,-0.048595313,0.0257127322,-0.0469343849,-0.0747789741,0.0294113662,-0.0618094467,0.0034871905,0.0366984457,0.0254548695,-0.0268379282,0.0068250727,0.0407751575,0.0324842408,-0.0672852397,-0.0543857142,-0.0542655438,0.0354567654,-0.0357409939,0.019392943,0.0133082122,-0.0018344796,0.015599627,0.0017018401,-0.0139190685,-0.024079321,0.0179078858,-0.0083156833,-0.0081742732,-0.022285711,-0.0271231662,0.0271221064,0.0320013426,0.0022700981,0.0299330503,-0.0364213698,0.0120775159,-0.0366323926,0.0313929953,0.0505589657,0.0062484792,-0.0089104176,-0.0094236061,0.0004519095,0.011722168,-0.000382401,-0.0070246551,-0.0095572313,-0.0217759982,0.0003116438,0.0098718302,0.0036957383,-0.0535149015,0.0289889779,-0.0112456223,-0.0377963334,0.0500693284,0.0310241207,0.0120881144,0.0437916592,-0.0088129109,0.0064789313,0.1031528935,-0.0275475755,-0.0278331097,-0.0402105264,0.0285695102,-0.0218078606,0.0327824727,-0.0478201173,-0.0320880786,-0.0565813817,-0.0705927461,-0.0664846897,0.0102232425,-0.0140764378,0.0311482772,-0.0456733853,0.0358705446,-0.0313571468,-0.0205972735,0.0160415825,-0.0081684003,-0.0160049703,0.0127702905,0.0545932613,-0.0045277239,-0.023268614,0.0627291277,0.010938175,0.0255061947,-0.0352112949,-0.0087691285,0.039676521,0.0218872428,0.0256600566,0.0116889114,0.0153705822,-0.0160337444,0.0303410664,-0.0007707864,0.0123319337,0.0032068186,-0.0112190563,0.0122876484,-0.0146676982,0.0611773096,-0.0068987994,0.0729079992,-0.0050112247,0.0773797706,0.0396032631,0.0058978158,0.0090204431,-0.0115147661,-0.027079558,0.0396787077,0.004409025,0.0004894327,0.0040540304,0.0094383843,-0.0139469672,0.0425083078,0.0865636617,-0.0449997559,0.0009162907,0.0119605185,0.0321220048,0.0443952568,0.0103284409,0.0366764218,0.013252195,-0.0125226481,0.1267413348,0.0015370969,0.0432129391,-0.004083016,-0.0527752489,-0.0864291117,-0.0096207941,0.0014063207,-0.0386367328,-0.0335960463,-0.0343932994,-0.0227441881,-0.009030587,-0.0032401218,-0.0513129905,-0.0127136307,-0.0243304074,-0.0564176217,0.0324373394,0.0213431306,-0.0018766432,-0.0311155394,-0.0275522154,0.0279253609,0.0032924381,0.0065825954,-0.0266247969,0.0142317358,-0.0417966656,-0.0917470455,-0.0221212544,0.0564507246,0.0346320271,-0.0202254262,0.0558338836,0.0176067539,0.0841518715,-0.0282704756,0.0114792231,0.0430693403,-0.0430933386,-0.0347958393,-0.0077812197,-0.0161887743,0.006702018,0.006218446]}\n"
     ]
    }
   ],
   "source": [
    "# save id and embedding as a json file\n",
    "jsonl_string = df[[\"id\", \"embedding\"]].to_json(orient=\"records\", lines=True)\n",
    "with open(\"questions.json\", \"w\") as f:\n",
    "    f.write(jsonl_string)\n",
    "\n",
    "# show the first few lines of the json file\n",
    "! head -n 3 questions.json"
   ]
  },
  {
   "cell_type": "markdown",
   "metadata": {
    "id": "-WTNJ3FAQl_W"
   },
   "source": [
    "Then, create a new Cloud Storage bucket and copy the file to it."
   ]
  },
  {
   "cell_type": "code",
   "execution_count": 13,
   "metadata": {
    "id": "CzwDWJfzAk3n",
    "tags": []
   },
   "outputs": [
    {
     "name": "stdout",
     "output_type": "stream",
     "text": [
      "Creating gs://qwiklabs-gcp-04-be6ae7b23457-embvs-tutorial-09290913/...\n",
      "Copying file://questions.json [Content-Type=application/json]...\n",
      "/ [1 files][  9.8 MiB/  9.8 MiB]                                                \n",
      "Operation completed over 1 objects/9.8 MiB.                                      \n"
     ]
    }
   ],
   "source": [
    "BUCKET_URI = f\"gs://{PROJECT_ID}-embvs-tutorial-{UID}\"\n",
    "! gsutil mb -l $LOCATION -p {PROJECT_ID} {BUCKET_URI}\n",
    "! gsutil cp questions.json {BUCKET_URI}"
   ]
  },
  {
   "cell_type": "markdown",
   "metadata": {
    "id": "xxdbjKw1XDxl"
   },
   "source": [
    "### Create an Index\n",
    "\n",
    "Now it's ready to load the embeddings to Vector Search. Its APIs are available under the [aiplatform](https://cloud.google.com/python/docs/reference/aiplatform/latest/google.cloud.aiplatform) package of the SDK."
   ]
  },
  {
   "cell_type": "code",
   "execution_count": null,
   "metadata": {
    "id": "8unyr9KagAoI",
    "tags": []
   },
   "outputs": [],
   "source": [
    "# init the aiplatform package\n",
    "from google.cloud import aiplatform\n",
    "\n",
    "aiplatform.init(project=PROJECT_ID, location=LOCATION)"
   ]
  },
  {
   "cell_type": "markdown",
   "metadata": {
    "id": "xpMUXqWQ75uu"
   },
   "source": [
    "Create an [MatchingEngineIndex](https://cloud.google.com/python/docs/reference/aiplatform/latest/google.cloud.aiplatform.MatchingEngineIndex) with its `create_tree_ah_index` function (Matching Engine is the previous name of Vector Search)."
   ]
  },
  {
   "cell_type": "code",
   "execution_count": null,
   "metadata": {
    "id": "kKDw5VXMkXb3",
    "tags": []
   },
   "outputs": [],
   "source": [
    "# create index\n",
    "my_index = aiplatform.MatchingEngineIndex.create_tree_ah_index(\n",
    "    display_name=f\"embvs-tutorial-index-{UID}\",\n",
    "    contents_delta_uri=BUCKET_URI,\n",
    "    dimensions=768,\n",
    "    approximate_neighbors_count=20,\n",
    "    distance_measure_type=\"DOT_PRODUCT_DISTANCE\",\n",
    ")"
   ]
  },
  {
   "cell_type": "markdown",
   "metadata": {
    "id": "2rFam_w9U0dI"
   },
   "source": [
    "By calling the `create_tree_ah_index` function, it starts building an Index. This will take under a few minutes if the dataset is small, otherwise about 50 minutes or more depending on the size of the dataset. You can check status of the index creation on [the Vector Search Console > INDEXES tab](https://console.cloud.google.com/vertex-ai/matching-engine/indexes).\n",
    "\n",
    "![](https://storage.googleapis.com/github-repo/img/embeddings/vs-quickstart/creating-index.png)\n",
    "\n",
    "#### The parameters for creating index\n",
    "\n",
    "- `contents_delta_uri`: The URI of Cloud Storage directory where you stored the embedding JSON files\n",
    "- `dimensions`: Dimension size of each embedding. In this case, it is 768 as we are using the embeddings from the Text Embeddings API.\n",
    "- `approximate_neighbors_count`: how many similar items we want to retrieve in typical cases\n",
    "- `distance_measure_type`: what metrics to measure distance/similarity between embeddings. In this case it's `DOT_PRODUCT_DISTANCE`\n",
    "\n",
    "See [the document](https://cloud.google.com/vertex-ai/docs/vector-search/create-manage-index) for more details on creating Index and the parameters.\n",
    "\n",
    "#### Batch Update or Streaming Update?\n",
    "There are two types of index: Index for *Batch Update* (used in this tutorial) and Index for *Streaming Updates*. The Batch Update index can be updated with a batch process whereas the Streaming Update index can be updated in real-time. The latter one is more suited for use cases where you want to add or update each embeddings in the index more often, and crucial to serve with the latest embeddings, such as e-commerce product search.\n"
   ]
  },
  {
   "cell_type": "markdown",
   "metadata": {
    "id": "VLOAMF50XMI8"
   },
   "source": [
    "### Create Index Endpoint and deploy the Index\n",
    "\n",
    "To use the Index, you need to create an [Index Endpoint](https://cloud.google.com/vertex-ai/docs/vector-search/deploy-index-public). It works as a server instance accepting query requests for your Index."
   ]
  },
  {
   "cell_type": "code",
   "execution_count": null,
   "metadata": {
    "id": "h6IzyufWCjU1",
    "tags": []
   },
   "outputs": [],
   "source": [
    "# create IndexEndpoint\n",
    "my_index_endpoint = aiplatform.MatchingEngineIndexEndpoint.create(\n",
    "    display_name=f\"embvs-tutorial-index-endpoint-09290857\",\n",
    "    public_endpoint_enabled=True,\n",
    ")"
   ]
  },
  {
   "cell_type": "markdown",
   "metadata": {
    "id": "11e3e1a3a9e9"
   },
   "source": [
    "This tutorial utilizes a [Public Endpoint](https://cloud.google.com/vertex-ai/docs/vector-search/setup/setup#choose-endpoint) and does not support [Virtual Private Cloud (VPC)](https://cloud.google.com/vpc/docs/private-services-access). Unless you have a specific requirement for VPC, we recommend using a Public Endpoint. Despite the term \"public\" in its name, it does not imply open access to the public internet. Rather, it functions like other endpoints in Vertex AI services, which are secured by default through IAM. Without explicit IAM permissions, as we have previously established, no one can access the endpoint."
   ]
  },
  {
   "cell_type": "markdown",
   "metadata": {
    "id": "8n33iO1T5hFO"
   },
   "source": [
    "With the Index Endpoint, deploy the Index by specifying an unique deployed index ID."
   ]
  },
  {
   "cell_type": "code",
   "execution_count": null,
   "metadata": {
    "id": "FcBHLifGwAWq",
    "tags": []
   },
   "outputs": [],
   "source": [
    "DEPLOYED_INDEX_ID = f\"embvs_tutorial_deployed_{UID}\""
   ]
  },
  {
   "cell_type": "code",
   "execution_count": null,
   "metadata": {
    "id": "1jUoGhY5TPFP",
    "tags": []
   },
   "outputs": [],
   "source": [
    "# deploy the Index to the Index Endpoint\n",
    "my_index_endpoint.deploy_index(index=my_index, deployed_index_id=DEPLOYED_INDEX_ID)"
   ]
  },
  {
   "cell_type": "markdown",
   "metadata": {
    "id": "xu9ZmWcpXQ55"
   },
   "source": [
    "If it is the first time to deploy an Index to an Index Endpoint, it will take around 25 minutes to automatically build and initiate the backend for it. After the first deployment, it will finish in seconds. To see the status of the index deployment, open [the Vector Search Console > INDEX ENDPOINTS tab](https://console.cloud.google.com/vertex-ai/matching-engine/index-endpoints) and click the Index Endpoint.\n",
    "\n",
    "<img src=\"https://storage.googleapis.com/github-repo/img/embeddings/vs-quickstart/deploying-index.png\" width=\"70%\">"
   ]
  },
  {
   "cell_type": "markdown",
   "metadata": {
    "id": "oTi4PjjbXV-O"
   },
   "source": [
    "### Run Query\n",
    "\n",
    "Finally it's ready to use Vector Search. In the following code, it creates an embedding for a test question, and find similar question with the Vector Search."
   ]
  },
  {
   "cell_type": "code",
   "execution_count": null,
   "metadata": {
    "id": "FhNuRQqUWdfe",
    "tags": []
   },
   "outputs": [],
   "source": [
    "test_embeddings = get_embeddings_wrapper([\"How to see JSON with Python?\"])"
   ]
  },
  {
   "cell_type": "code",
   "execution_count": null,
   "metadata": {
    "id": "Q01DGMBPXAg-",
    "tags": []
   },
   "outputs": [],
   "source": [
    "# Test query\n",
    "response = my_index_endpoint.find_neighbors(\n",
    "    deployed_index_id=DEPLOYED_INDEX_ID,\n",
    "    queries=test_embeddings,\n",
    "    num_neighbors=20,\n",
    ")\n",
    "\n",
    "# show the result\n",
    "import numpy as np\n",
    "\n",
    "for idx, neighbor in enumerate(response[0]):\n",
    "    id = np.int64(neighbor.id)\n",
    "    similar = df.query(\"id == @id\", engine=\"python\")\n",
    "    print(f\"{neighbor.distance:.4f} {similar.title.values[0]}\")"
   ]
  },
  {
   "cell_type": "markdown",
   "metadata": {
    "id": "tPDOL9caoYZ9"
   },
   "source": [
    "The `find_neighbors` function only takes milliseconds to fetch the similar items even when you have billions of items on the Index, thanks to the ScaNN algorithm. Vector Search also supports [autoscaling](https://cloud.google.com/vertex-ai/docs/vector-search/deploy-index-public#autoscaling) which can automatically resize the number of nodes based on the demands of your workloads."
   ]
  },
  {
   "cell_type": "markdown",
   "metadata": {
    "id": "DDt4D6FDyc66"
   },
   "source": [
    "# IMPORTANT: Cleaning Up\n",
    "\n",
    "In case you are using your own Cloud project, not a temporary project on Qwiklab, please make sure to delete all the Indexes, Index Endpoints and Cloud Storage buckets after finishing this tutorial. Otherwise the remaining objects would **incur unexpected costs**.\n",
    "\n",
    "If you used Workbench, you may also need to delete the Notebooks from [the console](https://console.cloud.google.com/vertex-ai/workbench)."
   ]
  },
  {
   "cell_type": "code",
   "execution_count": null,
   "metadata": {
    "id": "MEsKVzguyxNx",
    "tags": []
   },
   "outputs": [],
   "source": [
    "# wait for a confirmation\n",
    "input(\"Press Enter to delete Index Endpoint, Index and Cloud Storage bucket:\")\n",
    "\n",
    "# delete Index Endpoint\n",
    "my_index_endpoint.undeploy_all()\n",
    "my_index_endpoint.delete(force=True)\n",
    "\n",
    "# delete Index\n",
    "my_index.delete()\n",
    "\n",
    "# delete Cloud Storage bucket\n",
    "! gsutil rm -r {BUCKET_URI}"
   ]
  },
  {
   "cell_type": "markdown",
   "metadata": {
    "id": "b8k26QOF3Ys7"
   },
   "source": [
    "# Summary\n",
    "\n",
    "## Grounding LLM outputs with Vertex AI Vector Search\n",
    "\n",
    "As we have seen, by combining the Embeddings API and Vector Search, you can use the embeddings to \"ground\" LLM outputs to real business data with low latency.\n",
    "\n",
    "For example, if an user asks a question, Embeddings API can convert it to an embedding, and issue a query on Vector Search to find similar embeddings in its index. Those embeddings represent the actual business data in the databases. As we are just retrieving the business data and not generating any artificial texts, there is no risk of having hallucinations in the result.\n",
    "\n",
    "![](https://storage.googleapis.com/gweb-cloudblog-publish/original_images/10._grounding.png)\n",
    "\n",
    "### The difference between the questions and answers\n",
    "\n",
    "In this tutorial, we have used the Stack Overflow dataset. There is a reason why we had to use it; As the dataset has many pairs of **questions and answers**, so you can just find questions similar to your question to find answers to it.\n",
    "\n",
    "In many business use cases, the semantics (meaning) of questions and answers are different. Also, there could be cases where you would want to add variety of recommended or personalized items to the results, like product search on e-commerce sites.\n",
    "\n",
    "In these cases, the simple semantics search don't work well. It's more like a recommendation system problem where you may want to train a model (e.g. Two-Tower model) to learn the relationship between the question embedding space and answer embedding space. Also, many production systems adds reranking phase after the semantic search to achieve higher search quality. Please see [Scaling deep retrieval with TensorFlow Recommenders and Vertex AI Matching Engine](https://cloud.google.com/blog/products/ai-machine-learning/scaling-deep-retrieval-tensorflow-two-towers-architecture) to learn more.\n",
    "\n",
    "### Hybrid of semantic + keyword search\n",
    "\n",
    "Another typical challenge you will face in production system is to support keyword search combined with the semantic search. For example, for e-commerce product search, you may want to let users find product by entering its product name or model number. As LLM doesn't memorize those product names or model numbers, semantic search can't handle those \"usual\" search functionalities.\n",
    "\n",
    "[Vertex AI Search](https://cloud.google.com/blog/products/ai-machine-learning/vertex-ai-search-and-conversation-is-now-generally-available) is another product you may consider for those requirements. While Vector Search provides a simple semantic search capability only, Search provides a integrated search solution that combines semantic search, keyword search, reranking and filtering, available as an out-of-the-box tool.\n",
    "\n",
    "### What about Retrieval Augmented Generation (RAG)?\n",
    "\n",
    "In this tutorial, we have looked at the simple combination of LLM embeddings and vector search. From this starting point, you may also extend the design to [Retrieval Augmented Generation (RAG)](https://www.google.com/search?q=Retrieval+Augmented+Generation+(RAG)&oq=Retrieval+Augmented+Generation+(RAG)).\n",
    "\n",
    "RAG is a popular architecture pattern of implementing grounding with LLM with text chat UI. The idea is to have the LLM text chat UI as a frontend for the document retrieval with vector search and summarization of the result.\n",
    "\n",
    "![](https://storage.googleapis.com/gweb-cloudblog-publish/images/Figure-7-Ask_Your_Documents_Flow.max-529x434.png)\n",
    "\n",
    "There are some pros and cons between the two solutions.\n",
    "\n",
    "| | Embeddings + vector search | RAG |\n",
    "|---|---|---|\n",
    "| Design | simple | complex |\n",
    "| UI | Text search UI | Text chat UI |\n",
    "| Summarization of result | No | Yes |\n",
    "| Multi-turn (Context aware) | No | Yes |\n",
    "| Latency | milliseconds | seconds |\n",
    "| Cost | lower | higher |\n",
    "| Hallucinations | No risk | Some risk |\n",
    "\n",
    "The Embedding + vector search pattern we have looked at with this tutorial provides simple, fast and low cost semantic search functionality with the LLM intelligence. RAG adds context-aware text chat experience and result summarization to it. While RAG provides the more \"Gen AI-ish\" experience, it also adds a risk of hallucination and higher cost and time for the text generation.\n",
    "\n",
    "To learn more about how to build a RAG solution, you may look at [Building Generative AI applications made easy with Vertex AI PaLM API and LangChain](https://cloud.google.com/blog/products/ai-machine-learning/generative-ai-applications-with-vertex-ai-palm-2-models-and-langchain).\n",
    "\n",
    "## Resources\n",
    "\n",
    "To learn more, please check out the following resources:\n",
    "\n",
    "### Documentations\n",
    "\n",
    "[Vertex AI Embeddings for Text API documentation\n",
    "](https://cloud.google.com/vertex-ai/docs/generative-ai/embeddings/get-text-embeddings)\n",
    "\n",
    "[Vector Search documentation](https://cloud.google.com/vertex-ai/docs/matching-engine/overview)\n",
    "\n",
    "### Vector Search blog posts\n",
    "\n",
    "[Vertex Matching Engine: Blazing fast and massively scalable nearest neighbor search](https://cloud.google.com/blog/products/ai-machine-learning/vertex-matching-engine-blazing-fast-and-massively-scalable-nearest-neighbor-search)\n",
    "\n",
    "[Find anything blazingly fast with Google's vector search technology](https://cloud.google.com/blog/topics/developers-practitioners/find-anything-blazingly-fast-googles-vector-search-technology)\n",
    "\n",
    "[Enabling real-time AI with Streaming Ingestion in Vertex AI](https://cloud.google.com/blog/products/ai-machine-learning/real-time-ai-with-google-cloud-vertex-ai)\n",
    "\n",
    "[Mercari leverages Google's vector search technology to create a new marketplace](https://cloud.google.com/blog/topics/developers-practitioners/mercari-leverages-googles-vector-search-technology-create-new-marketplace)\n",
    "\n",
    "[Recommending news articles using Vertex AI Matching Engine](https://cloud.google.com/blog/products/ai-machine-learning/recommending-articles-using-vertex-ai-matching-engine)\n",
    "\n",
    "[What is Multimodal Search: \"LLMs with vision\" change businesses](https://cloud.google.com/blog/products/ai-machine-learning/multimodal-generative-ai-search)"
   ]
  },
  {
   "cell_type": "markdown",
   "metadata": {
    "id": "BE1tELsH-u8N"
   },
   "source": [
    "# Utilities\n",
    "\n",
    "Sometimes it takes tens of minutes to create or deploy Indexes and you would lose connection with the Colab runtime. In that case, instead of creating or deploying new Index again, you can check [the Vector Search Console](https://console.cloud.google.com/vertex-ai/matching-engine/index-endpoints) and get the existing ones to continue."
   ]
  },
  {
   "cell_type": "markdown",
   "metadata": {
    "id": "wF_pkdpJ-yaq"
   },
   "source": [
    "## Get an existing Index\n",
    "\n",
    "To get an Index object that already exists, replace the following `[your-index-id]` with the index ID and run the cell. You can check the ID on [the Vector Search Console > INDEXES tab](https://console.cloud.google.com/vertex-ai/matching-engine/indexes)."
   ]
  },
  {
   "cell_type": "code",
   "execution_count": null,
   "metadata": {
    "id": "mEBkZZt_-0jG",
    "tags": []
   },
   "outputs": [],
   "source": [
    "my_index_id = \"8996910024928264192\"  # @param {type:\"string\"}\n",
    "my_index = aiplatform.MatchingEngineIndex(my_index_id)"
   ]
  },
  {
   "cell_type": "markdown",
   "metadata": {
    "id": "_vlgzkyw-3CI"
   },
   "source": [
    "## Get an existing Index Endpoint\n",
    "\n",
    "To get an Index Endpoint object that already exists, replace the following `[your-index-endpoint-id]` with the Index Endpoint ID and run the cell. You can check the ID on [the Vector Search Console > INDEX ENDPOINTS tab](https://console.cloud.google.com/vertex-ai/matching-engine/index-endpoints)."
   ]
  },
  {
   "cell_type": "code",
   "execution_count": null,
   "metadata": {
    "id": "E0OFnirF-6Rk",
    "tags": []
   },
   "outputs": [],
   "source": [
    "my_index_endpoint_id = \"shaunak_1759138348351\"  # @param {type:\"string\"}\n",
    "my_index_endpoint = aiplatform.MatchingEngineIndexEndpoint(my_index_endpoint_id)"
   ]
  },
  {
   "cell_type": "code",
   "execution_count": null,
   "metadata": {},
   "outputs": [],
   "source": []
  }
 ],
 "metadata": {
  "colab": {
   "name": "intro-textemb-vectorsearch.ipynb",
   "toc_visible": true
  },
  "environment": {
   "kernel": "conda-base-py",
   "name": "workbench-notebooks.m133",
   "type": "gcloud",
   "uri": "us-docker.pkg.dev/deeplearning-platform-release/gcr.io/workbench-notebooks:m133"
  },
  "kernelspec": {
   "display_name": "Python 3 (ipykernel) (Local) (Local)",
   "language": "python",
   "name": "conda-base-py"
  },
  "language_info": {
   "codemirror_mode": {
    "name": "ipython",
    "version": 3
   },
   "file_extension": ".py",
   "mimetype": "text/x-python",
   "name": "python",
   "nbconvert_exporter": "python",
   "pygments_lexer": "ipython3",
   "version": "3.10.18"
  }
 },
 "nbformat": 4,
 "nbformat_minor": 4
}
