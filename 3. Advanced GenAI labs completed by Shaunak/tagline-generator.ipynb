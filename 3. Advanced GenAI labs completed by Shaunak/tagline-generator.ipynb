{
 "cells": [
  {
   "cell_type": "markdown",
   "metadata": {
    "id": "JAPoU8Sm5E6e"
   },
   "source": [
    "# Prompt Design in Vertex AI: Challenge Lab"
   ]
  },
  {
   "cell_type": "markdown",
   "metadata": {
    "id": "No17Cw5hgx12"
   },
   "source": [
    "## Install the Google Gen AI SDK\n"
   ]
  },
  {
   "cell_type": "code",
   "execution_count": null,
   "metadata": {
    "id": "tFy3H3aPgx12"
   },
   "outputs": [],
   "source": [
    "%pip install --upgrade --quiet google-genai"
   ]
  },
  {
   "cell_type": "code",
   "execution_count": 1,
   "metadata": {
    "id": "Nqwi-5ufWp_B",
    "tags": []
   },
   "outputs": [],
   "source": [
    "import os\n",
    "from google import genai\n",
    "\n",
    "PROJECT_ID = \"qwiklabs-gcp-00-1239a2a0f7d9\"\n",
    "LOCATION = os.environ.get(\"GOOGLE_CLOUD_REGION\", \"global\")"
   ]
  },
  {
   "cell_type": "code",
   "execution_count": 2,
   "metadata": {
    "id": "T-tiytzQE0uM",
    "tags": []
   },
   "outputs": [],
   "source": [
    "client = genai.Client(vertexai=True, project=PROJECT_ID, location=LOCATION)"
   ]
  },
  {
   "cell_type": "markdown",
   "metadata": {},
   "source": [
    "### TODO: Put your Vertex AI Studio 'Image Analysis' code here\n",
    "\n",
    "**Important: Update Your Client Authentication**\n",
    "\n",
    "When you generate code from the Vertex AI Studio UI, it will use an **API Key** for authentication by default. That code block will look like this:\n",
    "\n",
    "```python\n",
    "# THIS IS THE DEFAULT CODE FROM THE UI\n",
    "client = genai.Client(\n",
    "    vertexai=True,\n",
    "    api_key=os.environ.get(\"GOOGLE_CLOUD_API_KEY\"),\n",
    ")\n",
    "```\n",
    "\n",
    "This lab environment does not use API keys. Instead, you must use the `PROJECT_ID` and `LOCATION` variables that were already defined in cell above.\n",
    "\n",
    "After you paste your code into the cell below, **find and replace** the `client` definition block with this one:\n",
    "\n",
    "```python\n",
    "# USE THIS CODE INSTEAD\n",
    "client = genai.Client(vertexai=True, project=PROJECT_ID, location=LOCATION)\n",
    "```"
   ]
  },
  {
   "cell_type": "code",
   "execution_count": 4,
   "metadata": {
    "tags": []
   },
   "outputs": [
    {
     "name": "stdout",
     "output_type": "stream",
     "text": [
      "Here are three tagline options for the new product line:\n",
      "\n",
      "1.  **Brave nature's breath, fresh and fearless.**\n",
      "2.  **Your adventure map: nature. Protected"
     ]
    }
   ],
   "source": [
    "# Task 4: Modified tagline generator code using 'nature' keyword\n",
    "from google import genai\n",
    "from google.genai import types\n",
    "import os\n",
    "\n",
    "# Set up Vertex AI client with project and location\n",
    "def generate():\n",
    "  client = genai.Client(vertexai=True, project=PROJECT_ID, location=LOCATION)\n",
    "\n",
    "  # Input message (modified to include \"nature\" keyword)\n",
    "  msg1_text1 = types.Part.from_text(text=\"\"\"\n",
    "Input:\n",
    "attributes = \"waterproof jacket, windproof\"\n",
    "audience = \"young explorers\"\n",
    "tone = \"adventurous, fresh\"\n",
    "\n",
    "Generate three tagline options that reflect these factors. \n",
    "Each tagline must include the word: nature.\n",
    "Make them short, memorable, and evocative.\n",
    "\"\"\")\n",
    "\n",
    "  # System instruction\n",
    "  si_text1 = \"\"\"Cymbal Direct is partnering with an outdoor gear retailer. \n",
    "They are launching a new line of products designed to encourage young people to explore the outdoors. \n",
    "Help them create catchy taglines for this product line.\"\"\"\n",
    "\n",
    "  # Model selection\n",
    "  model = \"gemini-2.5-flash\"\n",
    "\n",
    "  # Content structure\n",
    "  contents = [\n",
    "    types.Content(\n",
    "      role=\"user\",\n",
    "      parts=[msg1_text1]\n",
    "    ),\n",
    "  ]\n",
    "\n",
    "  # Configuration\n",
    "  generate_content_config = types.GenerateContentConfig(\n",
    "    temperature=0.7,\n",
    "    top_p=1,\n",
    "    seed=0,\n",
    "    max_output_tokens=1024,\n",
    "    safety_settings=[\n",
    "      types.SafetySetting(category=\"HARM_CATEGORY_HATE_SPEECH\", threshold=\"OFF\"),\n",
    "      types.SafetySetting(category=\"HARM_CATEGORY_DANGEROUS_CONTENT\", threshold=\"OFF\"),\n",
    "      types.SafetySetting(category=\"HARM_CATEGORY_SEXUALLY_EXPLICIT\", threshold=\"OFF\"),\n",
    "      types.SafetySetting(category=\"HARM_CATEGORY_HARASSMENT\", threshold=\"OFF\"),\n",
    "    ],\n",
    "    system_instruction=[types.Part.from_text(text=si_text1)],\n",
    "    thinking_config=types.ThinkingConfig(thinking_budget=-1),\n",
    "  )\n",
    "\n",
    "  # Generate output\n",
    "  for chunk in client.models.generate_content_stream(\n",
    "    model=model,\n",
    "    contents=contents,\n",
    "    config=generate_content_config,\n",
    "  ):\n",
    "    print(chunk.text, end=\"\")\n",
    "\n",
    "# Run the generation function\n",
    "generate()"
   ]
  },
  {
   "cell_type": "code",
   "execution_count": null,
   "metadata": {},
   "outputs": [],
   "source": []
  }
 ],
 "metadata": {
  "colab": {
   "name": "intro_genai_sdk.ipynb",
   "toc_visible": true
  },
  "environment": {
   "kernel": "conda-base-py",
   "name": "workbench-notebooks.m133",
   "type": "gcloud",
   "uri": "us-docker.pkg.dev/deeplearning-platform-release/gcr.io/workbench-notebooks:m133"
  },
  "kernelspec": {
   "display_name": "Python 3 (ipykernel) (Local)",
   "language": "python",
   "name": "conda-base-py"
  },
  "language_info": {
   "codemirror_mode": {
    "name": "ipython",
    "version": 3
   },
   "file_extension": ".py",
   "mimetype": "text/x-python",
   "name": "python",
   "nbconvert_exporter": "python",
   "pygments_lexer": "ipython3",
   "version": "3.10.18"
  }
 },
 "nbformat": 4,
 "nbformat_minor": 4
}
