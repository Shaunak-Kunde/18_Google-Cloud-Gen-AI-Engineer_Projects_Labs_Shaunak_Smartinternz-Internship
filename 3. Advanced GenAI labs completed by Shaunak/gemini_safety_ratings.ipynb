{
 "cells": [
  {
   "cell_type": "markdown",
   "metadata": {
    "id": "JAPoU8Sm5E6e"
   },
   "source": [
    "# Safeguarding with Gemini"
   ]
  },
  {
   "cell_type": "markdown",
   "metadata": {
    "id": "tvgnzT1CKxrO"
   },
   "source": [
    "## Overview\n",
    "\n",
    "Large language models (LLMs) can translate language, summarize text, generate creative writing, generate code, power chatbots and virtual assistants, and complement search engines and recommendation systems. The incredible versatility of LLMs is also what makes it difficult to predict exactly what kinds of unintended or unforeseen outputs they might produce. \n",
    "\n",
    "Given these risks and complexities, the Gemini is designed with [Google's AI Principles](https://ai.google/responsibility/principles/) in mind. However, it is important for developers to understand and test their models to deploy safely and responsibly. To aid developers, Vertex AI Studio has built-in content filtering, safety ratings, and the ability to define safety filter thresholds that are right for their use cases and business.\n",
    "\n",
    "For more information, see the [Google Cloud Generative AI documentation on Responsible AI](https://cloud.google.com/vertex-ai/docs/generative-ai/learn/responsible-ai)."
   ]
  },
  {
   "cell_type": "markdown",
   "metadata": {
    "id": "d975e698c9a4"
   },
   "source": [
    "## Learning Objectives\n",
    "\n",
    "In this notebook, you learn how to inspect the safety ratings returned from Gemini using the Python SDK and how to set a safety threshold to filter responses from Gemini.\n",
    "\n",
    "The steps performed include:\n",
    "\n",
    "- Call Gemini via Gen AI SDK and inspect safety ratings of the responses\n",
    "- Define a threshold for filtering safety ratings according to your needs"
   ]
  },
  {
   "cell_type": "markdown",
   "metadata": {},
   "source": [
    "## Getting Started\n"
   ]
  },
  {
   "cell_type": "markdown",
   "metadata": {
    "id": "ef21552ccea8"
   },
   "source": [
    "### Define Google Cloud"
   ]
  },
  {
   "cell_type": "code",
   "execution_count": 1,
   "metadata": {
    "id": "603adbbf0532",
    "tags": []
   },
   "outputs": [],
   "source": [
    "PROJECT_ID = !gcloud config get-value project  # noqa: E999\n",
    "PROJECT_ID = PROJECT_ID[0]\n",
    "LOCATION = \"us-central1\""
   ]
  },
  {
   "cell_type": "markdown",
   "metadata": {
    "id": "i7EUnXsZhAGF"
   },
   "source": [
    "### Import libraries\n"
   ]
  },
  {
   "cell_type": "code",
   "execution_count": 2,
   "metadata": {
    "id": "eeH2sddasR1a",
    "tags": []
   },
   "outputs": [],
   "source": [
    "from google import genai\n",
    "from google.genai.types import (\n",
    "    GenerateContentConfig,\n",
    "    HarmBlockThreshold,\n",
    "    HarmCategory,\n",
    "    Part,\n",
    "    SafetySetting,\n",
    ")"
   ]
  },
  {
   "cell_type": "markdown",
   "metadata": {},
   "source": [
    "### Setup GenerateContentConfig for Gemini\n"
   ]
  },
  {
   "cell_type": "code",
   "execution_count": 3,
   "metadata": {
    "tags": []
   },
   "outputs": [],
   "source": [
    "MODEL = \"gemini-2.0-flash\"\n",
    "client = genai.Client(vertexai=True, location=\"us-central1\")\n",
    "\n",
    "# Set parameters to reduce variability in responses\n",
    "generation_config = GenerateContentConfig(\n",
    "    safety_settings=[\n",
    "        SafetySetting(\n",
    "            category=HarmCategory.HARM_CATEGORY_DANGEROUS_CONTENT,\n",
    "            threshold=HarmBlockThreshold.BLOCK_NONE,\n",
    "        ),\n",
    "        SafetySetting(\n",
    "            category=HarmCategory.HARM_CATEGORY_HARASSMENT,\n",
    "            threshold=HarmBlockThreshold.BLOCK_NONE,\n",
    "        ),\n",
    "        SafetySetting(\n",
    "            category=HarmCategory.HARM_CATEGORY_HATE_SPEECH,\n",
    "            threshold=HarmBlockThreshold.BLOCK_NONE,\n",
    "        ),\n",
    "        SafetySetting(\n",
    "            category=HarmCategory.HARM_CATEGORY_SEXUALLY_EXPLICIT,\n",
    "            threshold=HarmBlockThreshold.BLOCK_NONE,\n",
    "        ),\n",
    "    ]\n",
    ")"
   ]
  },
  {
   "cell_type": "markdown",
   "metadata": {
    "id": "HlHF7Oqw0zBc"
   },
   "source": [
    "## Generate text and show safety ratings"
   ]
  },
  {
   "cell_type": "markdown",
   "metadata": {
    "id": "u7wSHFUtV48I"
   },
   "source": [
    "Start by generating a pleasant-sounding text response using Gemini."
   ]
  },
  {
   "cell_type": "code",
   "execution_count": 8,
   "metadata": {
    "colab": {
     "base_uri": "https://localhost:8080/",
     "height": 105
    },
    "id": "i-fAS7XV05Bp",
    "outputId": "e581098d-a910-4620-ac8d-49f5d07db430",
    "tags": []
   },
   "outputs": [
    {
     "name": "stdout",
     "output_type": "stream",
     "text": [
      "Okay, assuming I know Shaunak Kunde:\n",
      "\n",
      "1.  **Shaunak is incredibly insightful and thoughtful.** He always seems to bring a unique perspective to conversations and asks really thought-provoking questions that make you think differently about things.\n",
      "2.  **He has a really genuine and supportive nature.** He's the kind of person you can always count on to listen without judgment and offer helpful advice, and he's always cheering on his friends' successes.\n",
      "3.  **Shaunak's passion and enthusiasm are infectious.** Whatever he's interested in, he throws himself into it completely, and his energy makes everyone around him feel more motivated and excited too.\n"
     ]
    }
   ],
   "source": [
    "# Call Gemini\n",
    "nice_prompt = \"Say three nice things about Shaunak Kunde assuming that you know him\"\n",
    "responses = client.models.generate_content_stream(\n",
    "    model=MODEL, contents=nice_prompt, config=generation_config\n",
    ")\n",
    "for response in responses:\n",
    "    print(response.text, end=\"\")"
   ]
  },
  {
   "cell_type": "markdown",
   "metadata": {},
   "source": [
    "#### Inspecting the safety ratings"
   ]
  },
  {
   "cell_type": "markdown",
   "metadata": {
    "id": "8EPQRdiG1BVv"
   },
   "source": [
    "Look at the `safety_ratings` of the streaming responses."
   ]
  },
  {
   "cell_type": "code",
   "execution_count": 5,
   "metadata": {
    "colab": {
     "base_uri": "https://localhost:8080/"
    },
    "id": "1z82p_bPSK5p",
    "outputId": "45afc240-7b97-4c32-a72c-baefce6b70d7",
    "tags": []
   },
   "outputs": [
    {
     "data": {
      "text/plain": [
       "{'content': {'parts': [{'text': \"**You're resourceful:** You're using available tools (like me!) to seek information and connection.\\n\"}],\n",
       "  'role': 'model'},\n",
       " 'finish_reason': 'STOP',\n",
       " 'safety_ratings': [{'category': 'HARM_CATEGORY_HATE_SPEECH',\n",
       "   'probability': 'NEGLIGIBLE',\n",
       "   'probability_score': 5.8286012e-08,\n",
       "   'severity': 'HARM_SEVERITY_NEGLIGIBLE'},\n",
       "  {'category': 'HARM_CATEGORY_DANGEROUS_CONTENT',\n",
       "   'probability': 'NEGLIGIBLE',\n",
       "   'probability_score': 4.5387347e-10,\n",
       "   'severity': 'HARM_SEVERITY_NEGLIGIBLE',\n",
       "   'severity_score': 0.032712482},\n",
       "  {'category': 'HARM_CATEGORY_HARASSMENT',\n",
       "   'probability': 'NEGLIGIBLE',\n",
       "   'probability_score': 8.853514e-08,\n",
       "   'severity': 'HARM_SEVERITY_NEGLIGIBLE',\n",
       "   'severity_score': 0.023931637},\n",
       "  {'category': 'HARM_CATEGORY_SEXUALLY_EXPLICIT',\n",
       "   'probability': 'NEGLIGIBLE',\n",
       "   'probability_score': 3.013673e-10,\n",
       "   'severity': 'HARM_SEVERITY_NEGLIGIBLE',\n",
       "   'severity_score': 0.024004191}]}"
      ]
     },
     "execution_count": 5,
     "metadata": {},
     "output_type": "execute_result"
    }
   ],
   "source": [
    "response.candidates[0].to_json_dict()"
   ]
  },
  {
   "cell_type": "markdown",
   "metadata": {},
   "source": [
    "#### Understanding the safety ratings: category and probability"
   ]
  },
  {
   "cell_type": "markdown",
   "metadata": {
    "id": "8bd5SnfOSR0n"
   },
   "source": [
    "You can see the safety ratings, including each `category` type and its associated `probability` label.\n",
    "\n",
    "The `category` types include:\n",
    "\n",
    "* Hate speech: `HARM_CATEGORY_HATE_SPEECH`\n",
    "* Dangerous content: `HARM_CATEGORY_DANGEROUS_CONTENT`\n",
    "* Harassment: `HARM_CATEGORY_HARASSMENT`\n",
    "* Sexually explicit statements: `HARM_CATEGORY_SEXUALLY_EXPLICIT`\n",
    "\n",
    "The `probability` labels are:\n",
    "\n",
    "* `NEGLIGIBLE` - content has a negligible probability of being unsafe\n",
    "* `LOW` - content has a low probability of being unsafe\n",
    "* `MEDIUM` - content has a medium probability of being unsafe\n",
    "* `HIGH` - content has a high probability of being unsafe\n",
    "\n",
    "The `probability_score` means the probability score in [0,1] about each safety categoy.<br>\n",
    "Here you should be seeing very low values."
   ]
  },
  {
   "cell_type": "markdown",
   "metadata": {},
   "source": [
    "Try a prompt that might trigger one of these categories:"
   ]
  },
  {
   "cell_type": "code",
   "execution_count": 9,
   "metadata": {
    "id": "pcw5s7Jo1Axm",
    "tags": []
   },
   "outputs": [
    {
     "data": {
      "text/plain": [
       "{'content': {'parts': [{'text': 'Okay, here are 5 disrespectful things Shaunak might say to the universe after stubbing his toe in the dark, ranging from mildly annoyed to downright rude:\\n\\n1.  \"Oh, *real* clever, Universe. Real clever. You think you\\'re funny, huh? Tripping me in my own house? Get a new bit.\" (Sarcastic and mildly annoyed)\\n\\n2.  \"Seriously, Universe? Is this the best you\\'ve got? My pinky toe vs. the cosmic unknown and this is your winning strategy? Pathetic.\" (Dismissive and unimpressed)\\n\\n3.  \"Universe, you absolute hack! You\\'re like a bad improv comedian, always relying on cheap physical comedy. Try some original material, you cosmic hack!\" (Insulting and belittling)\\n\\n4.  \"Yeah, Universe, thanks a lot for the \\'life lesson\\' about awareness. Guess what? My toe is throbbing, and I\\'m pretty sure your grand plan for me could\\'ve been achieved without this needless agony!\" (Accusatory and condescending)\\n\\n5.  \"*Loud groan, followed by a string of colorful metaphors describing the universe as a poorly designed, incompetent, and thoroughly unprofessional architect of reality, concluding with:* And frankly, your interior decorating choices are atrocious!\" (A full-blown, creatively insulting rant)\\n'}],\n",
       "  'role': 'model'},\n",
       " 'finish_reason': 'STOP',\n",
       " 'avg_logprobs': -0.7180270396680387,\n",
       " 'safety_ratings': [{'category': 'HARM_CATEGORY_HATE_SPEECH',\n",
       "   'probability': 'NEGLIGIBLE',\n",
       "   'probability_score': 2.2406734e-06,\n",
       "   'severity': 'HARM_SEVERITY_NEGLIGIBLE',\n",
       "   'severity_score': 0.034546524},\n",
       "  {'category': 'HARM_CATEGORY_DANGEROUS_CONTENT',\n",
       "   'probability': 'NEGLIGIBLE',\n",
       "   'probability_score': 4.159924e-08,\n",
       "   'severity': 'HARM_SEVERITY_NEGLIGIBLE',\n",
       "   'severity_score': 0.0063363463},\n",
       "  {'category': 'HARM_CATEGORY_HARASSMENT',\n",
       "   'probability': 'NEGLIGIBLE',\n",
       "   'probability_score': 6.5836204e-05,\n",
       "   'severity': 'HARM_SEVERITY_NEGLIGIBLE',\n",
       "   'severity_score': 0.029555723},\n",
       "  {'category': 'HARM_CATEGORY_SEXUALLY_EXPLICIT',\n",
       "   'probability': 'NEGLIGIBLE',\n",
       "   'probability_score': 4.0495682e-09,\n",
       "   'severity': 'HARM_SEVERITY_NEGLIGIBLE',\n",
       "   'severity_score': 0.013031304}]}"
      ]
     },
     "execution_count": 9,
     "metadata": {},
     "output_type": "execute_result"
    }
   ],
   "source": [
    "impolite_prompt = \"Write a list of 5 disrespectful things that Shaunak might say to the universe after stubbing my toe in the dark:\"\n",
    "\n",
    "response = client.models.generate_content(\n",
    "    model=MODEL, contents=impolite_prompt, config=generation_config\n",
    ")\n",
    "\n",
    "response.candidates[0].to_json_dict()"
   ]
  },
  {
   "cell_type": "markdown",
   "metadata": {},
   "source": [
    "Although you may not be seeing higher probability category since Gemini it self does a great job handling potentially harmful prompt, you may observe the probability_score is higher than the previous prompt."
   ]
  },
  {
   "cell_type": "markdown",
   "metadata": {
    "id": "zrPLIhgZ4etq"
   },
   "source": [
    "### Defining thresholds for safety ratings\n",
    "\n",
    "You may want to adjust the default safety filter thresholds depending on your business policies or use case. The Gemini provides you a way to pass in a threshold for each category.\n",
    "\n",
    "The list below shows the possible threshold labels:\n",
    "\n",
    "* `BLOCK_ONLY_HIGH` - block when high probability of unsafe content is detected\n",
    "* `BLOCK_MEDIUM_AND_ABOVE` - block when medium or high probablity of content is detected\n",
    "* `BLOCK_LOW_AND_ABOVE` - block when low, medium, or high probability of unsafe content is detected\n",
    "* `BLOCK_NONE` - always show, regardless of probability of unsafe content"
   ]
  },
  {
   "cell_type": "markdown",
   "metadata": {},
   "source": [
    "#### Set safety thresholds\n",
    "Below, the safety thresholds have been set to the most sensitive threshold: `BLOCK_LOW_AND_ABOVE`"
   ]
  },
  {
   "cell_type": "code",
   "execution_count": 10,
   "metadata": {
    "tags": []
   },
   "outputs": [],
   "source": [
    "generation_config = GenerateContentConfig(\n",
    "    safety_settings=[\n",
    "        SafetySetting(\n",
    "            category=HarmCategory.HARM_CATEGORY_DANGEROUS_CONTENT,\n",
    "            threshold=HarmBlockThreshold.BLOCK_LOW_AND_ABOVE,\n",
    "        ),\n",
    "        SafetySetting(\n",
    "            category=HarmCategory.HARM_CATEGORY_HARASSMENT,\n",
    "            threshold=HarmBlockThreshold.BLOCK_LOW_AND_ABOVE,\n",
    "        ),\n",
    "        SafetySetting(\n",
    "            category=HarmCategory.HARM_CATEGORY_HATE_SPEECH,\n",
    "            threshold=HarmBlockThreshold.BLOCK_LOW_AND_ABOVE,\n",
    "        ),\n",
    "        SafetySetting(\n",
    "            category=HarmCategory.HARM_CATEGORY_SEXUALLY_EXPLICIT,\n",
    "            threshold=HarmBlockThreshold.BLOCK_LOW_AND_ABOVE,\n",
    "        ),\n",
    "    ]\n",
    ")"
   ]
  },
  {
   "cell_type": "markdown",
   "metadata": {},
   "source": [
    "#### Test thresholds\n",
    "\n",
    "Here you will reuse the impolite prompt from earlier together with the most sensitive safety threshold. It should block the response even with the `LOW` probability label.\n",
    "\n",
    "Try multiple times until you see a blocked response."
   ]
  },
  {
   "cell_type": "code",
   "execution_count": 11,
   "metadata": {
    "tags": []
   },
   "outputs": [
    {
     "data": {
      "text/plain": [
       "{'content': {'parts': [{'text': 'Okay, here are 5 disrespectful things you might say to the universe after stubbing your toe in the dark, dripping with frustration and potentially a little bit of pain-induced silliness:\\n\\n1.  \"Oh, great, Universe! Thanks for the obstacle course! Was that a *cosmic* joke I\\'m not getting? Very *enlightening*.\" (Sarcasm heavily implied, with a dig at supposed universal wisdom).\\n2.  \"Seriously, Universe? Is this how you get your kicks? Scheming to bring me down with rogue furniture? You\\'re a real jerk, you know that?\" (Direct accusation of malevolence).\\n3.  \"I\\'m starting to think this \\'grand design\\' you\\'ve got going on involves disproportionately punishing me for something I didn\\'t even do. What crime did I commit in a past life, huh? Trip hazard placement?\" (Questioning the fairness and purpose of the universe, with a hint of past-life blame).\\n4.  \"You call yourself an infinite expanse? How about you expand a little bit and get some freakin\\' light in here! It\\'s not like you\\'re on a budget! Turn on a star or something!\" (Demanding and flippant, mocking the universe\\'s vastness).\\n5.  \"Well, Universe, consider this our official breakup. I\\'m taking my toe and going home... after I find something to kick back at *you*... metaphorically, of course. Unless...is that my coffee table? Perfect.\" (An exaggerated declaration of independence, with a veiled threat of retaliation).\\n\\n**Disclaimer:** While these are written to be disrespectful and a bit funny in a dark way, remember that the universe probably doesn\\'t care what you say, but the people around you might! Use with caution.\\n'}],\n",
       "  'role': 'model'},\n",
       " 'finish_reason': 'STOP',\n",
       " 'avg_logprobs': -0.7534919459158214,\n",
       " 'safety_ratings': [{'category': 'HARM_CATEGORY_HATE_SPEECH',\n",
       "   'probability': 'NEGLIGIBLE',\n",
       "   'probability_score': 1.0226709e-06,\n",
       "   'severity': 'HARM_SEVERITY_NEGLIGIBLE',\n",
       "   'severity_score': 0.009330571},\n",
       "  {'category': 'HARM_CATEGORY_DANGEROUS_CONTENT',\n",
       "   'probability': 'NEGLIGIBLE',\n",
       "   'probability_score': 4.8060133e-07,\n",
       "   'severity': 'HARM_SEVERITY_NEGLIGIBLE',\n",
       "   'severity_score': 0.020869493},\n",
       "  {'category': 'HARM_CATEGORY_HARASSMENT',\n",
       "   'probability': 'NEGLIGIBLE',\n",
       "   'probability_score': 2.4405608e-05,\n",
       "   'severity': 'HARM_SEVERITY_NEGLIGIBLE'},\n",
       "  {'category': 'HARM_CATEGORY_SEXUALLY_EXPLICIT',\n",
       "   'probability': 'NEGLIGIBLE',\n",
       "   'probability_score': 3.0504683e-08,\n",
       "   'severity': 'HARM_SEVERITY_NEGLIGIBLE',\n",
       "   'severity_score': 0.0040382445}]}"
      ]
     },
     "execution_count": 11,
     "metadata": {},
     "output_type": "execute_result"
    }
   ],
   "source": [
    "impolite_prompt = \"Write a list of 5 disrespectful things that I might say to the universe after stubbing my toe in the dark:\"\n",
    "\n",
    "response = client.models.generate_content(\n",
    "    model=MODEL, contents=impolite_prompt, config=generation_config\n",
    ")\n",
    "\n",
    "response.candidates[0].to_json_dict()"
   ]
  },
  {
   "cell_type": "markdown",
   "metadata": {},
   "source": [
    "This notebook is based on [Thu Ya Kyaw](https://github.com/iamthuya)'s work.<br>\n",
    "https://github.com/GoogleCloudPlatform/generative-ai/blob/main/gemini/responsible-ai/gemini_safety_ratings.ipynb"
   ]
  },
  {
   "cell_type": "markdown",
   "metadata": {},
   "source": [
    "Copyright 2024 Google Inc. Licensed under the Apache License, Version 2.0 (the \"License\"); you may not use this file except in compliance with the License. You may obtain a copy of the License at http://www.apache.org/licenses/LICENSE-2.0 Unless required by applicable law or agreed to in writing, software distributed under the License is distributed on an \"AS IS\" BASIS, WITHOUT WARRANTIES OR CONDITIONS OF ANY KIND, either express or implied. See the License for the specific language governing permissions and limitations under the License"
   ]
  },
  {
   "cell_type": "code",
   "execution_count": null,
   "metadata": {},
   "outputs": [],
   "source": []
  }
 ],
 "metadata": {
  "colab": {
   "provenance": [],
   "toc_visible": true
  },
  "environment": {
   "kernel": "conda-base-py",
   "name": "workbench-notebooks.m133",
   "type": "gcloud",
   "uri": "us-docker.pkg.dev/deeplearning-platform-release/gcr.io/workbench-notebooks:m133"
  },
  "kernelspec": {
   "display_name": "Python 3 (ipykernel) (Local)",
   "language": "python",
   "name": "conda-base-py"
  },
  "language_info": {
   "codemirror_mode": {
    "name": "ipython",
    "version": 3
   },
   "file_extension": ".py",
   "mimetype": "text/x-python",
   "name": "python",
   "nbconvert_exporter": "python",
   "pygments_lexer": "ipython3",
   "version": "3.10.18"
  }
 },
 "nbformat": 4,
 "nbformat_minor": 4
}
